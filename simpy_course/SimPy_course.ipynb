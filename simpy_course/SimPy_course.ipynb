{
 "cells": [
  {
   "cell_type": "markdown",
   "metadata": {},
   "source": [
    "# SetUp\n",
    "\n",
    "1. Open a Terminal window\n",
    "1. ```cd Simpy_course```\n",
    "1. Create an enironment with: ```mamba env create -n simpy_course --file SIMPY_COURSE.yml```\n",
    "1. Select this environment as your kernel for the python notebook.  \n",
    "( CTRL+SHIFT+P -> ``>Python: Select Interpreter``).\n",
    "\n",
    "\n",
    "In case you don't see ``simpy_course`` you can enter the path which can be found with  \n",
    "```mamba env list```\n",
    "\n",
    "## python version \n",
    "\n",
    "```\n",
    "import sys\n",
    "print(sys.version)\n",
    "```\n",
    "\n",
    "3.9.7 (default, Sep 10 2021, 00:03:59) \n",
    "[GCC 7.5.0]\n",
    "\n",
    "## simpy version\n",
    "\n",
    "```\n",
    "import pkg_resources\n",
    "pkg_resources.get_distribution(\"simpy\").version\n",
    "```\n",
    "\n",
    "'4.0.1'\n"
   ]
  },
  {
   "cell_type": "markdown",
   "metadata": {},
   "source": [
    "# Introduction to Dynamic Systems and Discrete-Event Simulation Models\n",
    "\n",
    "Let’s unravel the power of discrete-event simulations. To begin this course, you’ll learn to identify problems where discrete-event simulations can be helpful in supporting management and decision-making. You’ll also learn the main components of discrete-event models and how to interpret model outputs. Finally, you’ll build your first “queue” discrete-event model.\n",
    "\n",
    "[Chapter 1 - slides](https://1drv.ms/b/s!AiogHeTeve1hjvlVYk0rOcDepTf7Nw?e=4aHjMU)"
   ]
  },
  {
   "cell_type": "markdown",
   "metadata": {},
   "source": [
    "## Dynamic Systems and Discrete-Event Simulation Models\n",
    "\n",
    "- [DataCamp - Dynamic systems and discrete-event models](https://campus.datacamp.com/courses/discrete-event-simulation-in-python/introduction-to-dynamic-systems-and-discrete-event-simulation-models?ex=1)\n",
    "- [OneDrive - Dynamic systems and discrete-event models](https://1drv.ms/v/s!AiogHeTeve1hjvk98DtRdCUjeG81jg?e=iEbxYE)\n",
    "\n",
    "<iframe src=\"https://onedrive.live.com/embed?resid=61EDBDDEE41D202A%21244925&authkey=!AHvOme-oBHw8eIc\" width=\"630\" height=\"480\" frameborder=\"0\" scrolling=\"no\" allowfullscreen autoplay=0></iframe>\n"
   ]
  },
  {
   "cell_type": "markdown",
   "metadata": {},
   "source": [
    "## Dynamic systems\n",
    "\n",
    "Let's make sure you consolidate your understanding of what a dynamic system is and is not.\n",
    "\n",
    "Dynamic systems can be natural or human-driven (or human-initiated), and discrete-event models are mainly designed to help optimize the latter.\n",
    "\n",
    "### Classify the different systems as dynamic or non-dynamic.\n",
    "\n",
    "Dynamic system                    | Non-dynamic system\n",
    ":---------------------------------|:----------------------------------------\n",
    " Car production line              | Fan blowing wind\n",
    " Weather                          | Asteroid travelling in space\n",
    " Car driving in a city            | Light bulb beaming light\n",
    " Hospital operation theater       | Car parked in driveway\n",
    " Garment production line          | Car driving at constant speed in motorway\n",
    "\n",
    "Congratulations. We can now clearly distinguish dynamic systems from steady-state (non-dynamic) systems in everyday activities."
   ]
  },
  {
   "cell_type": "markdown",
   "metadata": {},
   "source": [
    "## Decomposing a process into a sequence of events\n",
    "\n",
    "Imagine you work for a company that produces mobile phones and have been asked to propose ways to optimize the entire supply chain operation. They want to allocate resources better, increase productivity, and identify-eliminate bottlenecks.\n",
    "\n",
    "A digital twin of the entire operation based on a discrete-event model can help achieve this goal. The first step is to list the process groups involved in the production line and define their processing times (table below). You know that each of the groups of processes you identified involves many sub-processes and tasks, but the focus, for now, is on coding the first version of the model.\n",
    "\n",
    "Dictionaries are an excellent way to organize information about processes. Time will be measured in days.\n",
    "\n",
    "Key (Name of the Processes) | Value (Process Duration)\n",
    ":---------------------------|:------------------------:\n",
    " Sourcing                   | 5\n",
    " Manufacturing              | 3\n",
    " Assembling\t                | 2\n",
    " Selling\t                | 3\n",
    " Delivering                 | 4\n",
    "\n",
    "### Exercise\n",
    "\n",
    "Create a dictionary named processes with keys and values corresponding to the table as follows: \n",
    "1. the name of the process as the key \n",
    "2. the process duration as the value."
   ]
  },
  {
   "cell_type": "code",
   "execution_count": 58,
   "metadata": {},
   "outputs": [],
   "source": [
    "%%script false --no-raise-error\n",
    "# Create a dictionary containing the processes and durations\n",
    "processes = {\n",
    "    \"____\": ____,\n",
    "    \"____\": ____,\n",
    "    \"____\": ____,\n",
    "    \"____\": ____,\n",
    "    \"____\": ____\n",
    "}"
   ]
  },
  {
   "cell_type": "markdown",
   "metadata": {},
   "source": [
    "#### Solution\n",
    "\n",
    "This is great! Now that you have defined your supply-chain processes, you can start building your discrete-event model."
   ]
  },
  {
   "cell_type": "code",
   "execution_count": 59,
   "metadata": {},
   "outputs": [],
   "source": [
    "# Create a dictionary containing the processes and durations\n",
    "processes = {\n",
    "    \"Sourcing\": 5,\n",
    "    \"Manufacturing\": 3,\n",
    "    \"Assembling\": 2,\n",
    "    \"Selling\": 3,\n",
    "    \"Delivering\": 4\n",
    "}"
   ]
  },
  {
   "cell_type": "markdown",
   "metadata": {},
   "source": [
    "## Lift: discrete-event model\n",
    "\n",
    "Consider a hotel with five floors (```number_hotel_floors```) and a lift with a capacity for 15 people (``lift_people_capacity``). The lift takes three seconds (=3/60 minutes) to travel between any two floors (``travel_time_between_floors``) and stops for 6 seconds (=6/60 minutes) to let people in or out (``stop_time_open_doors``).\n",
    "\n",
    "The time units are \"minutes\" and the results are stored in ``df_results``.\n",
    "\n",
    "A model named ``lift_discrete_event_model``()has been created to simulate this dynamic lift system. Note that while aspects of this system can be well characterized, such as the time of travel between floors, others are unknown, such as when and on which floor people will call the lift. You will learn how to deal with such unknowns in this course.\n",
    "\n",
    "Let's run the model for five minutes (```sim_time```).\n",
    "\n"
   ]
  },
  {
   "cell_type": "markdown",
   "metadata": {},
   "source": [
    "### Exercise\n",
    "\n",
    "- Assign the appropriate values to variables sim_time, number_hotel_floors, lift_people_capacity, travel_time_between_floors, and stop_time_open_doors.\n",
    "- Call the function containing the discrete-event model."
   ]
  },
  {
   "cell_type": "code",
   "execution_count": 60,
   "metadata": {},
   "outputs": [],
   "source": [
    "%%script false --no-raise-error\n",
    "# Floor and lift parameters\n",
    "number_hotel_floors = ____\n",
    "lift_people_capacity = ____\n",
    "travel_time_between_floors = ____\n",
    "stop_time_open_doors = ____\n",
    "sim_time = ____\n",
    "\n",
    "# Run the model\n",
    "df_results = ____(sim_time, number_hotel_floors, lift_people_capacity, travel_time_between_floors, stop_time_open_doors)"
   ]
  },
  {
   "cell_type": "markdown",
   "metadata": {},
   "source": [
    "#### Solution\n",
    "\n",
    "Brilliant! You have run your first discrete-event simulation. The color of the circles represented the waiting time, while their size and text inside show the number of people. This model is a 'Digital Twin' of this lift and can be used to optimize its operation rules and minimize waiting times. Let’s continue exploring how to build such models and use them to help optimize processes across different industries."
   ]
  },
  {
   "cell_type": "code",
   "execution_count": 61,
   "metadata": {},
   "outputs": [],
   "source": [
    "%%script false --no-raise-error\n",
    "# Floor and lift parameters\n",
    "number_hotel_floors = 5\n",
    "lift_people_capacity = 15\n",
    "travel_time_between_floors = 3/60\n",
    "stop_time_open_doors = 6/60\n",
    "sim_time = 300/60\n",
    "\n",
    "# Run the model\n",
    "df_results = lift_discrete_event_model(sim_time, number_hotel_floors, lift_people_capacity, travel_time_between_floors, stop_time_open_doors)"
   ]
  },
  {
   "cell_type": "markdown",
   "metadata": {},
   "source": [
    "## Mathematical models of dynamic systems\n",
    "\n",
    "- [DataCamp - Mathematical models of dynamic systems](https://campus.datacamp.com/courses/discrete-event-simulation-in-python/introduction-to-dynamic-systems-and-discrete-event-simulation-models?ex=5)\n",
    "- [OneDrive - Mathematical models of dynamic systems](https://1drv.ms/v/s!AiogHeTeve1hjvk-SeimQqfQCiqpIA?e=zO5R56)"
   ]
  },
  {
   "cell_type": "markdown",
   "metadata": {},
   "source": [
    "## Discrete-event model: identify critical processes\n",
    "\n",
    "You have been asked to develop a mathematical model to optimize the flow of passengers in an airport from the time they arrive until they board an airplane. This summer, the airport experienced major delays and bottlenecks due to high demand, and the management wants to ensure these problems don't repeat next year.\n",
    "\n",
    "You have decided to build a discrete-event model to propose solutions. You'll first identify the critical steps that affect the passenger flow speed, which need to be included in your model. There are endless situations that the passenger can experience, but you need to identify the critical ones that may affect waiting times and cause delays."
   ]
  },
  {
   "cell_type": "markdown",
   "metadata": {},
   "source": [
    "### Exercise\n",
    "\n",
    "Classify the process as either being critical to passenger wait times or not.\n",
    "\n",
    "Critical Processes                                | Non-Critical Processes\n",
    ":-------------------------------------------------|:----------------------------------------\n",
    " Walking between check-in and security check      | Number of restaurants with vegetarian options\n",
    " Check-in counters                                | Overall terminal size\n",
    " Walking between security check and boarding gate | Kindness of airport employees\n",
    " Passenger arrival at the airport                 | Speed of the line at Starbucks\n",
    " Time spent at security check                     | Number of seats in the waiting rooms\n",
    "\n",
    "#### Solution\n",
    "\n",
    "Well done! You clearly understand how to identify which critical processes need to be included in a discrete-event model. In this case of airport management, only processes that may limit the speed of passengers through the airport are relevant to the model."
   ]
  },
  {
   "cell_type": "markdown",
   "metadata": {},
   "source": [
    "## Mathematical models: incorporating key processes\n",
    "\n",
    "You have created the dictionary ``processes`` shown below that contains information about the steps involved in a supply-chain operation of a company that produces mobile phones.\n",
    "\n",
    "```\n",
    "processes = {\n",
    "    \"Sourcing raw material\":  5,\n",
    "    \"Transport of raw material\": 1,\n",
    "    \"Manufacturing parts\": 3,\n",
    "    \"Assembling parts\": 2,\n",
    "    \"Selling products\": 3,\n",
    "}\n",
    "```\n",
    "\n",
    "Your model is stored in a function named ``discrete_model_build_phone()`` and simulates your production line by accounting for the processes described in the dictionary. The input arguments of the model are (in order):\n",
    "\n",
    "``processes``: Dictionary containing the information about the processes\n",
    "``simulation_time``: Duration of the run.\n",
    "The time in the model is in days.\n",
    "\n",
    "The package ``Maptlotlib.pyplot`` has already been loaded for you as ``plt``."
   ]
  },
  {
   "cell_type": "markdown",
   "metadata": {},
   "source": [
    "### Exercise 1/3\n",
    "\n",
    "- You realized you forgot to include the \"Delivering products\" process in your processes dictionary, so add it, considering this process usually takes about 1.5 days.\n",
    "- Assign variable simulation_time with the simulation period of 1 year, expressed in days.\n",
    "- Call the model, pass the correct arguments, and run it."
   ]
  },
  {
   "cell_type": "code",
   "execution_count": 62,
   "metadata": {},
   "outputs": [],
   "source": [
    "%%script false --no-raise-error\n",
    "# Add the new key-value pair to the processes dictionary\n",
    "processes[\"____\"] = ____\n",
    "\n",
    "# Assign the simulation time\n",
    "simulation_time = ____\n",
    "\n",
    "# Run the model\n",
    "time_all = ____(____)"
   ]
  },
  {
   "cell_type": "code",
   "execution_count": 63,
   "metadata": {},
   "outputs": [],
   "source": [
    "%%script false --no-raise-error\n",
    "import matplotlib.pyplot as plt\n",
    "\n",
    "# Add the new key-value pair to the processes dictionary\n",
    "processes[\"Delivering products\"] = 1.5\n",
    "\n",
    "# Assign the simulation time\n",
    "simulation_time = 365\n",
    "\n",
    "# Run the model\n",
    "time_all = discrete_model_build_phone(processes, simulation_time)"
   ]
  },
  {
   "cell_type": "markdown",
   "metadata": {},
   "source": [
    "### Exercise 2/\n",
    "\n",
    "Let's plot the model results to help identify model response patterns for more actionable information by plotting cumulative_time vs. individual_process_time."
   ]
  },
  {
   "cell_type": "code",
   "execution_count": 64,
   "metadata": {},
   "outputs": [],
   "source": [
    "%%script false --no-raise-error\n",
    "# Add your new key-value pair to the processes dictionary\n",
    "processes[\"Delivering products\"] = 1.5\n",
    "\n",
    "# Assign the simulation time\n",
    "simulation_time = 365\n",
    "\n",
    "# Run the model\n",
    "time_all = discrete_model_build_phone(processes, simulation_time)\n",
    "\n",
    "cumulative_time = time_all[0]\n",
    "individual_process_time = time_all[1]\n",
    "\n",
    "# Create 2D plot\n",
    "plt.plot(____, ____,\n",
    "         color='black', markerfacecolor='mediumvioletred',\n",
    "         marker='o', markersize=6, linewidth=1.5)\n",
    "\n",
    "plt.xlabel(\"Cumulative duration (days)\")\n",
    "plt.ylabel(\"Duration of each process (days)\")\n",
    "plt.grid()\n",
    "plt.show()"
   ]
  },
  {
   "cell_type": "code",
   "execution_count": 65,
   "metadata": {},
   "outputs": [],
   "source": [
    "%%script false --no-raise-error\n",
    "# Add your new key-value pair to the processes dictionary\n",
    "processes[\"Delivering products\"] = 1.5\n",
    "\n",
    "# Assign the simulation time\n",
    "simulation_time = 365\n",
    "\n",
    "# Run the model\n",
    "time_all = discrete_model_build_phone(processes, simulation_time)\n",
    "\n",
    "cumulative_time = time_all[0]\n",
    "individual_process_time = time_all[1]\n",
    "\n",
    "# Create 2D plot\n",
    "plt.plot(cumulative_time, individual_process_time,\n",
    "         color='black', markerfacecolor='mediumvioletred',\n",
    "         marker='o', markersize=6, linewidth=1.5)\n",
    "\n",
    "plt.xlabel(\"Cumulative duration (days)\")\n",
    "plt.ylabel(\"Duration of each process (days)\")\n",
    "plt.grid()\n",
    "plt.show()"
   ]
  },
  {
   "cell_type": "markdown",
   "metadata": {},
   "source": [
    "![](https://1drv.ms/i/s!AiogHeTeve1hjvlHH0eUC_BZHlDRGw?e=Tsd41x)"
   ]
  },
  {
   "cell_type": "markdown",
   "metadata": {},
   "source": [
    "### Exercise 3/3\n",
    "\n",
    "Question\n",
    "How many supply-chain cycles could be completed in 5 years if the ``Delivering finished products to consumers`` process could be reduced to one day?\n",
    "\n",
    "Assume there are no leap years. Run the code in the console after making the necessary changes.\n",
    "\n",
    "```\n",
    "processes[\"Delivering finished products to consumers\"] = 1.5\n",
    "simulation_time = 365 * 5\n",
    "time_all = discrete_model_build_phone(processes, simulation_time)\n",
    "```\n",
    "\n",
    "```\n",
    "Time = 1812.0 days | Process Complete: Selling products\n",
    "Time = 1813.5 days | Process Complete: Delivering finished products to consumers\n",
    "COMPLETED: Supply-Chain cycle #117 | Time = 1813.5 days\n",
    "Time = 1818.5 days | Process Complete: Sourcing raw material\n",
    "Time = 1819.5 days | Process Complete: Transport of raw material\n",
    "[[0.0000e+00 5.0000e+00 6.0000e+00 ... 1.8185e+03 1.8195e+03 1.8225e+03]\n",
    " [0.0000e+00 5.0000e+00 1.0000e+00 ... 5.0000e+00 1.0000e+00 3.0000e+00]]\n",
    "```"
   ]
  },
  {
   "cell_type": "code",
   "execution_count": 66,
   "metadata": {},
   "outputs": [],
   "source": [
    "%%script false --no-raise-error\n",
    "processes[\"Delivering finished products to consumers\"] = 1\n",
    "simulation_time = 365 * 5\n",
    "time_all = discrete_model_build_phone(processes, simulation_time)\n",
    "\n",
    "# Run the model\n",
    "time_all = discrete_model_build_phone(processes, simulation_time)\n",
    "\n",
    "print(time_all)"
   ]
  },
  {
   "cell_type": "markdown",
   "metadata": {},
   "source": [
    "```\n",
    "Time = 1811 days | Process Complete: Assembling parts   \n",
    "Time = 1814 days | Process Complete: Selling products   \n",
    "Time = 1815 days | Process Complete: Delivering finished products to consumers   \n",
    "COMPLETED: Supply-Chain cycle #121 | Time = 1815 days   \n",
    "Time = 1820 days | Process Complete: Sourcing raw material   \n",
    "Time = 1821 days | Process Complete: Transport of raw material   \n",
    "[[   0    5    6 ... 1820 1821 1824]   \n",
    " [   0    5    1 ...    5    1    3]]  \n",
    " ```\n",
    "\n",
    " #### Solution\n",
    "\n",
    " Exactly! Reducing the average duration of 'Delivering product' to 1 day would allow completing 121 cycles in 5 years. This is an excellent example of how discrete-event models can support business decisions."
   ]
  },
  {
   "cell_type": "markdown",
   "metadata": {},
   "source": [
    "## Introduction to discrete-event simulations\n",
    "\n",
    "- [DataCamp - Introduction to discrete-event simulations](https://campus.datacamp.com/courses/discrete-event-simulation-in-python/introduction-to-dynamic-systems-and-discrete-event-simulation-models?ex=8)\n",
    "- [OneDrive - Introduction to discrete-event simulations ](https://1drv.ms/v/s!AiogHeTeve1hjvlAFH-dHwckr99RKQ?e=sDdZ52)"
   ]
  },
  {
   "cell_type": "markdown",
   "metadata": {},
   "source": [
    "## Developing a discrete-event model\n",
    "\n",
    "You have been asked to develop a discrete-event model for a farming operation to help allocate resources, increase productivity and identify-eliminate bottlenecks.\n",
    "\n",
    "You are still discussing the different processes involved with your colleagues and in what detail they should be represented in the model. Thus, you have agreed that the information will be compiled in a dictionary named process_dict with the following structure. The idea is that this dictionary will be updated as more information about the processes becomes available.\n",
    "\n",
    "```\n",
    "process_dict = {\n",
    "    \"Process name 1\":  <duration>,\n",
    "    \"Process name 2\":  <duration>,\n",
    "    ...\n",
    "}\n",
    "```\n",
    "\n",
    "Let's build a generic discrete event model named ``discrete_model_farm()`` that can schedule any number of discrete events defined in the dictionary.\n",
    "\n",
    "The input arguments of the model are (in order):\n",
    "\n",
    "``process_dict``: Dictionary with information about the processes\n",
    "``simulation_time``: Simulation period\n",
    "\n",
    "Time in the model will be measured in days."
   ]
  },
  {
   "cell_type": "markdown",
   "metadata": {},
   "source": [
    "### Exercise\n",
    "\n",
    "- Initiate the state variables of the model, ``time`` (tracks time) and ``supply_chain`` (tracks number of cycles) and set them to zero.\n",
    "- Define the ending condition so that the model runs while ``time`` is less than ``simulation_time``.\n",
    "- Add the duration of the process to the state-variable ``time``."
   ]
  },
  {
   "cell_type": "code",
   "execution_count": 67,
   "metadata": {},
   "outputs": [],
   "source": [
    "%%script false --no-raise-error\n",
    "def discrete_model_farm(process_dict, simulation_time):\n",
    "  # Initiate variables\n",
    "  time = ____\n",
    "  supply_chain = ____\n",
    "\n",
    "  # Define ending condition\n",
    "  while ____ < ____:\n",
    "\n",
    "    supply_chain += 1\n",
    "    process_names = list(process_dict.keys())\n",
    "\n",
    "    for p in range(len(process_names)):\n",
    "\t\t  \n",
    "      event_duration = process_dict[process_names[p]]\n",
    "          \n",
    "      # Add the process duration\n",
    "      ____ += event_duration\n",
    "      print(f\"{process_names[p]}  (completed): time = {time}\")\n",
    "          \n",
    "    print(f\"COMPLETED: Production cycle #{supply_chain} | Time = {time} days\")  "
   ]
  },
  {
   "cell_type": "markdown",
   "metadata": {},
   "source": [
    "#### Solution\n",
    "\n",
    "Fantastic. Your generic discrete-event model has been created and is ready to be run. It has been coded in a way that there is no need to make changes to the model as the dictionary gets updated by you and your colleagues. This is because the for-loop in the model will clock in any number of processes as long as they are defined in the dictionary. Let's run the model now."
   ]
  },
  {
   "cell_type": "code",
   "execution_count": 68,
   "metadata": {},
   "outputs": [],
   "source": [
    "def discrete_model_farm(process_dict, simulation_time):\n",
    "  # Initiate variables\n",
    "  time = 0\n",
    "  supply_chain = 0\n",
    "\n",
    "  # Define ending condition\n",
    "  while time < simulation_time:\n",
    "\n",
    "    supply_chain += 1\n",
    "    process_names = list(process_dict.keys())\n",
    "\n",
    "    for p in range(len(process_names)):\n",
    "\t\t  \n",
    "      event_duration = process_dict[process_names[p]]\n",
    "          \n",
    "      # Add the process duration\n",
    "      time += event_duration\n",
    "      print(f\"{process_names[p]}  (completed): time = {time}\")\n",
    "          \n",
    "    print(f\"COMPLETED: Production cycle #{supply_chain} | Time = {time} days\")  "
   ]
  },
  {
   "cell_type": "markdown",
   "metadata": {},
   "source": [
    "## Running the discrete-event model\n",
    "\n",
    "Your \"Farming Operation\" team has finally listed the processes they want to include in this version of the discrete-event model, which you plan to continue refining in the future. The processes are provided in the table below, and the time is in days.\n",
    "\n",
    "Key (Name of the Processes) | Value (Process Duration)\n",
    ":---------------------------|:------------------------:\n",
    " Compost                    | 5\t\n",
    " Amendment                  | 3\t\n",
    " Weeding\t                | 4\n",
    " Planting\t                | 2\n",
    " Watering and growing       | 60\n",
    " Harvesting\t                | 7\n",
    " Delivery                   | 2\n",
    "\n",
    "\n",
    "\n",
    "Table with process names and their respective duration to be used to create a dictionary.\n",
    "\n",
    "Let's build the dictionary containing this list of processes and run the model for 365 days."
   ]
  },
  {
   "cell_type": "markdown",
   "metadata": {},
   "source": [
    "### Exercise\n",
    "\n",
    "- Update the dictionary provided, containing the processes provided in the table.\n",
    "- Assign the appropriate value to the variable ``simulation_time``.\n",
    "- Run the model that has been stored in a function named`` discrete_model_farm()``, remembering that it takes ``process_dict`` and ``simulation_time`` as the input variables (in this order)."
   ]
  },
  {
   "cell_type": "code",
   "execution_count": 69,
   "metadata": {},
   "outputs": [],
   "source": [
    "%%script false --no-raise-error\n",
    "# Create dictionary\n",
    "process_dict = {\n",
    "    \"____\": ____,\n",
    "    \"____\": ____,\n",
    "    \"Weeding\": 4,\n",
    "    \"Planting\": 2,\n",
    "    \"Watering and growing\": 60,\n",
    "    \"Harvesting\": 7,\n",
    "    \"Delivery\": 2\n",
    "}\n",
    "\n",
    "# Simulatiom time (days)\n",
    "____\n",
    "\n",
    "# Run the model\n",
    "____(____, ____)"
   ]
  },
  {
   "cell_type": "markdown",
   "metadata": {},
   "source": [
    "####  Solution\n",
    "\n",
    "This is brilliant! You first built your model and stored it in a function. Now you ran it for a set of processes. The model outputs printed in the console indicate that you can complete five production cycles per year based on the process durations provided in the dictionary. It also provides an estimate of the completion time of each process in each cycle. Now you can refine your model and lists of processes to improve the fidelity of your model further."
   ]
  },
  {
   "cell_type": "code",
   "execution_count": 70,
   "metadata": {},
   "outputs": [
    {
     "name": "stdout",
     "output_type": "stream",
     "text": [
      "Compost  (completed): time = 5\n",
      "Amendment  (completed): time = 8\n",
      "Weeding  (completed): time = 12\n",
      "Planting  (completed): time = 14\n",
      "Watering and growing  (completed): time = 74\n",
      "Harvesting  (completed): time = 81\n",
      "Delivery  (completed): time = 83\n",
      "COMPLETED: Production cycle #1 | Time = 83 days\n",
      "Compost  (completed): time = 88\n",
      "Amendment  (completed): time = 91\n",
      "Weeding  (completed): time = 95\n",
      "Planting  (completed): time = 97\n",
      "Watering and growing  (completed): time = 157\n",
      "Harvesting  (completed): time = 164\n",
      "Delivery  (completed): time = 166\n",
      "COMPLETED: Production cycle #2 | Time = 166 days\n",
      "Compost  (completed): time = 171\n",
      "Amendment  (completed): time = 174\n",
      "Weeding  (completed): time = 178\n",
      "Planting  (completed): time = 180\n",
      "Watering and growing  (completed): time = 240\n",
      "Harvesting  (completed): time = 247\n",
      "Delivery  (completed): time = 249\n",
      "COMPLETED: Production cycle #3 | Time = 249 days\n",
      "Compost  (completed): time = 254\n",
      "Amendment  (completed): time = 257\n",
      "Weeding  (completed): time = 261\n",
      "Planting  (completed): time = 263\n",
      "Watering and growing  (completed): time = 323\n",
      "Harvesting  (completed): time = 330\n",
      "Delivery  (completed): time = 332\n",
      "COMPLETED: Production cycle #4 | Time = 332 days\n",
      "Compost  (completed): time = 337\n",
      "Amendment  (completed): time = 340\n",
      "Weeding  (completed): time = 344\n",
      "Planting  (completed): time = 346\n",
      "Watering and growing  (completed): time = 406\n",
      "Harvesting  (completed): time = 413\n",
      "Delivery  (completed): time = 415\n",
      "COMPLETED: Production cycle #5 | Time = 415 days\n"
     ]
    }
   ],
   "source": [
    "# Create dictionary\n",
    "process_dict = {\n",
    "    \"Compost\": 5,\n",
    "    \"Amendment\": 3,\n",
    "    \"Weeding\": 4,\n",
    "    \"Planting\": 2,\n",
    "    \"Watering and growing\": 60,\n",
    "    \"Harvesting\": 7,\n",
    "    \"Delivery\": 2\n",
    "}\n",
    "\n",
    "# Simulatiom time (days)\n",
    "simulation_time = 365\n",
    "\n",
    "# Run the model\n",
    "discrete_model_farm(process_dict, simulation_time)"
   ]
  },
  {
   "cell_type": "markdown",
   "metadata": {},
   "source": [
    "# Developing Discrete-Event Models Using SimPy\n",
    "\n",
    "Discover the power of the SimPy package to streamline your discrete-event simulations. In chapter 2, you’ll learn how to build a SimPy model environment and how to add processes and resources. You’ll also learn the different types of resources available, as well as options to control and schedule events. To finish this chapter, you’ll build a complete SimPy model for an aircraft assembly line.\n",
    "\n",
    "[Chapter 2 - slides](https://1drv.ms/b/s!AiogHeTeve1hjvk8IdGFEuDE5pHx_g?e=r3DTo8)"
   ]
  },
  {
   "cell_type": "markdown",
   "metadata": {},
   "source": [
    "[Introduction to the SimPy package](https://1drv.ms/v/s!AiogHeTeve1hjvk7Hr51lILDnHZcqQ?e=ktDmvL)"
   ]
  },
  {
   "cell_type": "markdown",
   "metadata": {},
   "source": [
    "## Building a car washer model with SimPy\n",
    "\n",
    "Consider that a company purchased a commercial car washer and wants to optimize its operation to increase profitability. Building a discrete-event model can be helpful because it can help identify bottlenecks, streamline resources, and incrementally adjust processes towards reaching full capacity.\n",
    "\n",
    "The commercial car washer takes five minutes to complete a car wash cycle.\n",
    "\n",
    "Build a discrete-event model that mimics the behavior of this machine, and run it for eight hours (480 minutes) to predict the number of cars washed, and log the time of completion of each cycle."
   ]
  },
  {
   "cell_type": "markdown",
   "metadata": {},
   "source": [
    "### Exercise 1\n",
    "\n",
    "1. Import the SimPy package.\n",
    "1. Complete the print() statement to write the current simulation time in the console.\n",
    "1. Build the SimPy Environment.\n",
    "1. Run the model for eight hours, using minutes as the time units."
   ]
  },
  {
   "cell_type": "code",
   "execution_count": 71,
   "metadata": {},
   "outputs": [],
   "source": [
    "%%script false --no-raise-error\n",
    "# Import SimPy\n",
    "import ____\n",
    "\n",
    "\n",
    "def car_wash(env):\n",
    "    car_wash_num = 0\n",
    "    while True:\n",
    "        car_wash_num += 1\n",
    "\n",
    "        # Get the current simulation time and add process time\n",
    "        print(f\"Time {env.____:02d} min | Car Wash # {car_wash_num:02d}\")\n",
    "        yield env.timeout(5)\n",
    "\n",
    "\n",
    "# Create SimPy Environment and add process generator\n",
    "env = simpy.____()\n",
    "env.process(car_wash(env))\n",
    "\n",
    "# Run model\n",
    "env.____(until=8 * 60)"
   ]
  },
  {
   "cell_type": "markdown",
   "metadata": {},
   "source": [
    "#### Solution\n",
    "\n",
    "Fantastic! Your SimPy model reveals that the new commercial car washer can complete 96 cycles in eight hours. Now that you know the building blocks of SimPy, let's continue exploring this fantastic package and explore other applications."
   ]
  },
  {
   "cell_type": "code",
   "execution_count": 72,
   "metadata": {},
   "outputs": [
    {
     "name": "stdout",
     "output_type": "stream",
     "text": [
      "Time 00 min | Car Wash # 01\n",
      "Time 05 min | Car Wash # 02\n",
      "Time 10 min | Car Wash # 03\n",
      "Time 15 min | Car Wash # 04\n",
      "Time 20 min | Car Wash # 05\n",
      "Time 25 min | Car Wash # 06\n",
      "Time 30 min | Car Wash # 07\n",
      "Time 35 min | Car Wash # 08\n",
      "Time 40 min | Car Wash # 09\n",
      "Time 45 min | Car Wash # 10\n",
      "Time 50 min | Car Wash # 11\n",
      "Time 55 min | Car Wash # 12\n",
      "Time 60 min | Car Wash # 13\n",
      "Time 65 min | Car Wash # 14\n",
      "Time 70 min | Car Wash # 15\n",
      "Time 75 min | Car Wash # 16\n",
      "Time 80 min | Car Wash # 17\n",
      "Time 85 min | Car Wash # 18\n",
      "Time 90 min | Car Wash # 19\n",
      "Time 95 min | Car Wash # 20\n",
      "Time 100 min | Car Wash # 21\n",
      "Time 105 min | Car Wash # 22\n",
      "Time 110 min | Car Wash # 23\n",
      "Time 115 min | Car Wash # 24\n",
      "Time 120 min | Car Wash # 25\n",
      "Time 125 min | Car Wash # 26\n",
      "Time 130 min | Car Wash # 27\n",
      "Time 135 min | Car Wash # 28\n",
      "Time 140 min | Car Wash # 29\n",
      "Time 145 min | Car Wash # 30\n",
      "Time 150 min | Car Wash # 31\n",
      "Time 155 min | Car Wash # 32\n",
      "Time 160 min | Car Wash # 33\n",
      "Time 165 min | Car Wash # 34\n",
      "Time 170 min | Car Wash # 35\n",
      "Time 175 min | Car Wash # 36\n",
      "Time 180 min | Car Wash # 37\n",
      "Time 185 min | Car Wash # 38\n",
      "Time 190 min | Car Wash # 39\n",
      "Time 195 min | Car Wash # 40\n",
      "Time 200 min | Car Wash # 41\n",
      "Time 205 min | Car Wash # 42\n",
      "Time 210 min | Car Wash # 43\n",
      "Time 215 min | Car Wash # 44\n",
      "Time 220 min | Car Wash # 45\n",
      "Time 225 min | Car Wash # 46\n",
      "Time 230 min | Car Wash # 47\n",
      "Time 235 min | Car Wash # 48\n",
      "Time 240 min | Car Wash # 49\n",
      "Time 245 min | Car Wash # 50\n",
      "Time 250 min | Car Wash # 51\n",
      "Time 255 min | Car Wash # 52\n",
      "Time 260 min | Car Wash # 53\n",
      "Time 265 min | Car Wash # 54\n",
      "Time 270 min | Car Wash # 55\n",
      "Time 275 min | Car Wash # 56\n",
      "Time 280 min | Car Wash # 57\n",
      "Time 285 min | Car Wash # 58\n",
      "Time 290 min | Car Wash # 59\n",
      "Time 295 min | Car Wash # 60\n",
      "Time 300 min | Car Wash # 61\n",
      "Time 305 min | Car Wash # 62\n",
      "Time 310 min | Car Wash # 63\n",
      "Time 315 min | Car Wash # 64\n",
      "Time 320 min | Car Wash # 65\n",
      "Time 325 min | Car Wash # 66\n",
      "Time 330 min | Car Wash # 67\n",
      "Time 335 min | Car Wash # 68\n",
      "Time 340 min | Car Wash # 69\n",
      "Time 345 min | Car Wash # 70\n",
      "Time 350 min | Car Wash # 71\n",
      "Time 355 min | Car Wash # 72\n",
      "Time 360 min | Car Wash # 73\n",
      "Time 365 min | Car Wash # 74\n",
      "Time 370 min | Car Wash # 75\n",
      "Time 375 min | Car Wash # 76\n",
      "Time 380 min | Car Wash # 77\n",
      "Time 385 min | Car Wash # 78\n",
      "Time 390 min | Car Wash # 79\n",
      "Time 395 min | Car Wash # 80\n",
      "Time 400 min | Car Wash # 81\n",
      "Time 405 min | Car Wash # 82\n",
      "Time 410 min | Car Wash # 83\n",
      "Time 415 min | Car Wash # 84\n",
      "Time 420 min | Car Wash # 85\n",
      "Time 425 min | Car Wash # 86\n",
      "Time 430 min | Car Wash # 87\n",
      "Time 435 min | Car Wash # 88\n",
      "Time 440 min | Car Wash # 89\n",
      "Time 445 min | Car Wash # 90\n",
      "Time 450 min | Car Wash # 91\n",
      "Time 455 min | Car Wash # 92\n",
      "Time 460 min | Car Wash # 93\n",
      "Time 465 min | Car Wash # 94\n",
      "Time 470 min | Car Wash # 95\n",
      "Time 475 min | Car Wash # 96\n"
     ]
    }
   ],
   "source": [
    "# Import SimPy\n",
    "import simpy\n",
    "\n",
    "\n",
    "def car_wash(env):\n",
    "    car_wash_num = 0\n",
    "    while True:\n",
    "        car_wash_num += 1\n",
    "\n",
    "        # Get the current simulation time and add process time\n",
    "        print(f\"Time {env.now:02d} min | Car Wash # {car_wash_num:02d}\")\n",
    "        yield env.timeout(5)\n",
    "\n",
    "\n",
    "# Create SimPy Environment and add process generator\n",
    "env = simpy.Environment()\n",
    "env.process(car_wash(env))\n",
    "\n",
    "# Run model\n",
    "env.run(until=8 * 60)"
   ]
  },
  {
   "cell_type": "markdown",
   "metadata": {},
   "source": [
    "## Modeling a car production line: Python generators\n",
    "\n",
    "You have been asked to build a discrete-event model to help optimize a car production line. To get started, you had to identify the main groups of processes involved in the production line. These are (1) welding and painting and (2) assembly and testing. Of course, each of these groups of processes involves many sub-processes and tasks, but for now, you are focused on coding a first, high-level version of the model.\n",
    "\n",
    "Since you have already identified the critical groups of processes, it's time to determine the average time each process takes to complete. You did your research and came up with 15 hours for welding and painting and 24 hours for assembling parts and testing.\n",
    "\n",
    "The simpy package has been imported for you.\n",
    "\n",
    "Time in the model is in hours."
   ]
  },
  {
   "cell_type": "markdown",
   "metadata": {},
   "source": [
    "### Exercise 2\n",
    "\n",
    "1. Define the Python generator with the name car_production_line_gen.\n",
    "1. Clock the time requirement for welding and panting into the production line.\n",
    "1. Similarly, clock in the time taken to complete assembly of parts and testing.\n",
    "1. Print the current simulation time."
   ]
  },
  {
   "cell_type": "code",
   "execution_count": 73,
   "metadata": {},
   "outputs": [],
   "source": [
    "%%script false --no-raise-error\n",
    "# Defining a Generator that includes the processes\n",
    "def ____(env):\n",
    "    car_number = 0\n",
    "    while True:\n",
    "        car_number += 1\n",
    "\n",
    "        # Process 1: Clock the time requirement for welding and painting\n",
    "        yield env.____(____)\n",
    "        print(f\"Car {car_number}: Welding and painting (completed) => time = {env.now}\")\n",
    "\n",
    "        # Process 2: Clock in time for process 2 and yield it\n",
    "        ____\n",
    "        print(\n",
    "            f\"Car {car_number}: Assembly of parts and testing (completed) => time = {env.now}\"\n",
    "        )\n",
    "\n",
    "        # Print car ready for shipment\n",
    "        print(f\"Car {car_number}: Car ready for shipping! time = {env.____} hours\")"
   ]
  },
  {
   "cell_type": "markdown",
   "metadata": {},
   "source": [
    "#### Solution\n",
    "\n",
    "Fantastic! You created a generator for this car production process. The generator is now ready to be included in your model. Next, you'll create your SimPy model and run it.\n"
   ]
  },
  {
   "cell_type": "code",
   "execution_count": 74,
   "metadata": {},
   "outputs": [],
   "source": [
    "# Defining a Generator that includes the processes\n",
    "def car_production_line_gen(env):\n",
    "    car_number = 0\n",
    "    while True:\n",
    "        car_number += 1\n",
    "\n",
    "        # Process 1: Clock the time requirement for welding and painting\n",
    "        yield env.timeout(15)\n",
    "        print(f\"Car {car_number}: Welding and painting (completed) => time = {env.now}\")\n",
    "\n",
    "        # Process 2: Clock in time for process 2 and yield it\n",
    "        yield env.timeout(24)\n",
    "        print(\n",
    "            f\"Car {car_number}: Assembly of parts and testing (completed) => time = {env.now}\"\n",
    "        )\n",
    "\n",
    "        # Print car ready for shipment\n",
    "        print(f\"Car {car_number}: Car ready for shipping! time = {env.now} hours\")"
   ]
  },
  {
   "cell_type": "markdown",
   "metadata": {},
   "source": [
    "## Modeling a car production line: Create and run the model\n",
    "\n",
    "In this exercise, you'll continue to work on the car production line example from the previous exercise.\n",
    "\n",
    "Now that you have created the generator car_production_line_gen(), which clocks in and yields the duration of processes involved in the production line (\"welding and painting\" and \"assembly and testing\"), it's time to run your SimPy model!"
   ]
  },
  {
   "cell_type": "markdown",
   "metadata": {},
   "source": [
    "### Exercise 3\n",
    "\n",
    "1. Build your SimPy model environment with the name env.\n",
    "1. Add the process represented by your generator function to the SimPy environment.\n",
    "1. Run the model for 1000 hours."
   ]
  },
  {
   "cell_type": "code",
   "execution_count": 75,
   "metadata": {},
   "outputs": [],
   "source": [
    "%%script false --no-raise-error\n",
    "# Create your SimPy environment\n",
    "____ = simpy.____()\n",
    "\n",
    "# Add the process to the environment\n",
    "env.____(____)\n",
    "\n",
    "# Run your discrete-event model\n",
    "env.run(____=____)"
   ]
  },
  {
   "cell_type": "markdown",
   "metadata": {},
   "source": [
    "#### Solution\n",
    "\n",
    "Brilliant! SimPy allows you to run a discrete-event model in three lines of code, confirming that 26 cars can be manufactured in 1000 days! You can apply the same concepts and steps to create a model for any business involving a sequence of discrete events, creating a 'Digital Twin' that can be powerful for optimization."
   ]
  },
  {
   "cell_type": "code",
   "execution_count": 76,
   "metadata": {},
   "outputs": [
    {
     "name": "stdout",
     "output_type": "stream",
     "text": [
      "Car 1: Welding and painting (completed) => time = 15\n",
      "Car 1: Assembly of parts and testing (completed) => time = 39\n",
      "Car 1: Car ready for shipping! time = 39 hours\n",
      "Car 2: Welding and painting (completed) => time = 54\n",
      "Car 2: Assembly of parts and testing (completed) => time = 78\n",
      "Car 2: Car ready for shipping! time = 78 hours\n",
      "Car 3: Welding and painting (completed) => time = 93\n",
      "Car 3: Assembly of parts and testing (completed) => time = 117\n",
      "Car 3: Car ready for shipping! time = 117 hours\n",
      "Car 4: Welding and painting (completed) => time = 132\n",
      "Car 4: Assembly of parts and testing (completed) => time = 156\n",
      "Car 4: Car ready for shipping! time = 156 hours\n",
      "Car 5: Welding and painting (completed) => time = 171\n",
      "Car 5: Assembly of parts and testing (completed) => time = 195\n",
      "Car 5: Car ready for shipping! time = 195 hours\n",
      "Car 6: Welding and painting (completed) => time = 210\n",
      "Car 6: Assembly of parts and testing (completed) => time = 234\n",
      "Car 6: Car ready for shipping! time = 234 hours\n",
      "Car 7: Welding and painting (completed) => time = 249\n",
      "Car 7: Assembly of parts and testing (completed) => time = 273\n",
      "Car 7: Car ready for shipping! time = 273 hours\n",
      "Car 8: Welding and painting (completed) => time = 288\n",
      "Car 8: Assembly of parts and testing (completed) => time = 312\n",
      "Car 8: Car ready for shipping! time = 312 hours\n",
      "Car 9: Welding and painting (completed) => time = 327\n",
      "Car 9: Assembly of parts and testing (completed) => time = 351\n",
      "Car 9: Car ready for shipping! time = 351 hours\n",
      "Car 10: Welding and painting (completed) => time = 366\n",
      "Car 10: Assembly of parts and testing (completed) => time = 390\n",
      "Car 10: Car ready for shipping! time = 390 hours\n",
      "Car 11: Welding and painting (completed) => time = 405\n",
      "Car 11: Assembly of parts and testing (completed) => time = 429\n",
      "Car 11: Car ready for shipping! time = 429 hours\n",
      "Car 12: Welding and painting (completed) => time = 444\n",
      "Car 12: Assembly of parts and testing (completed) => time = 468\n",
      "Car 12: Car ready for shipping! time = 468 hours\n",
      "Car 13: Welding and painting (completed) => time = 483\n",
      "Car 13: Assembly of parts and testing (completed) => time = 507\n",
      "Car 13: Car ready for shipping! time = 507 hours\n",
      "Car 14: Welding and painting (completed) => time = 522\n",
      "Car 14: Assembly of parts and testing (completed) => time = 546\n",
      "Car 14: Car ready for shipping! time = 546 hours\n",
      "Car 15: Welding and painting (completed) => time = 561\n",
      "Car 15: Assembly of parts and testing (completed) => time = 585\n",
      "Car 15: Car ready for shipping! time = 585 hours\n",
      "Car 16: Welding and painting (completed) => time = 600\n",
      "Car 16: Assembly of parts and testing (completed) => time = 624\n",
      "Car 16: Car ready for shipping! time = 624 hours\n",
      "Car 17: Welding and painting (completed) => time = 639\n",
      "Car 17: Assembly of parts and testing (completed) => time = 663\n",
      "Car 17: Car ready for shipping! time = 663 hours\n",
      "Car 18: Welding and painting (completed) => time = 678\n",
      "Car 18: Assembly of parts and testing (completed) => time = 702\n",
      "Car 18: Car ready for shipping! time = 702 hours\n",
      "Car 19: Welding and painting (completed) => time = 717\n",
      "Car 19: Assembly of parts and testing (completed) => time = 741\n",
      "Car 19: Car ready for shipping! time = 741 hours\n",
      "Car 20: Welding and painting (completed) => time = 756\n",
      "Car 20: Assembly of parts and testing (completed) => time = 780\n",
      "Car 20: Car ready for shipping! time = 780 hours\n",
      "Car 21: Welding and painting (completed) => time = 795\n",
      "Car 21: Assembly of parts and testing (completed) => time = 819\n",
      "Car 21: Car ready for shipping! time = 819 hours\n",
      "Car 22: Welding and painting (completed) => time = 834\n",
      "Car 22: Assembly of parts and testing (completed) => time = 858\n",
      "Car 22: Car ready for shipping! time = 858 hours\n",
      "Car 23: Welding and painting (completed) => time = 873\n",
      "Car 23: Assembly of parts and testing (completed) => time = 897\n",
      "Car 23: Car ready for shipping! time = 897 hours\n",
      "Car 24: Welding and painting (completed) => time = 912\n",
      "Car 24: Assembly of parts and testing (completed) => time = 936\n",
      "Car 24: Car ready for shipping! time = 936 hours\n",
      "Car 25: Welding and painting (completed) => time = 951\n",
      "Car 25: Assembly of parts and testing (completed) => time = 975\n",
      "Car 25: Car ready for shipping! time = 975 hours\n",
      "Car 26: Welding and painting (completed) => time = 990\n"
     ]
    }
   ],
   "source": [
    "# Create your SimPy environment\n",
    "env = simpy.Environment()\n",
    "\n",
    "# Add the process to the environment\n",
    "env.process(car_production_line_gen(env))\n",
    "\n",
    "# Run your discrete-event model\n",
    "env.run(until=1000)"
   ]
  },
  {
   "cell_type": "markdown",
   "metadata": {},
   "source": [
    "## SimPy package: Types of resources\n",
    "\n",
    "[SimPy package: Types of resources](https://1drv.ms/v/s!AiogHeTeve1hjvlTMAk7eZI7lCJ1GA?e=d8MpN2)"
   ]
  },
  {
   "cell_type": "markdown",
   "metadata": {},
   "source": [
    "## SimPy Package: Managing the scheduling of events\n",
    "\n",
    "[SimPy Package: Managing the scheduling of events](https://1drv.ms/v/s!AiogHeTeve1hjvlS5VWF_5dqyB1pVA?e=px69en)"
   ]
  },
  {
   "cell_type": "markdown",
   "metadata": {},
   "source": [
    "## Building a discrete-event model with SimPy\n",
    "\n",
    "[Building a discrete-event model with SimPy](https://1drv.ms/v/s!AiogHeTeve1hjvlUTkf2vgvp0sq5NA?e=ZBIIcQ)"
   ]
  },
  {
   "cell_type": "markdown",
   "metadata": {},
   "source": [
    "# Mixing Determinism and Non-Determinism in Models\n",
    "\n",
    "Explore the types of processes that you can add to discrete-event models. You’ll learn to distinguish between deterministic and non-deterministic processes and how to represent them in models. You’ll also learn how to randomize events (or processes), which is critical to simulate non-deterministic events. Finally, you’ll build a SimPy model combining both deterministic and non-deterministic processes.\n",
    "\n",
    "[Chapter 3 - slides](https://1drv.ms/b/s!AiogHeTeve1hjvlWdSek5KE37wYbVw?e=EnpJ43)"
   ]
  },
  {
   "cell_type": "markdown",
   "metadata": {},
   "source": [
    "## Deterministic events and processes\n",
    "\n",
    "[Deterministic events and processes](https://1drv.ms/v/s!AiogHeTeve1hjvlOeV77DE9ZyEmDgg?e=5jUdZG)"
   ]
  },
  {
   "cell_type": "markdown",
   "metadata": {},
   "source": [
    "## Non-deterministic events and processes\n",
    "\n",
    "[Non-deterministic events and processes](https://1drv.ms/v/s!AiogHeTeve1hjvlPuq_cPheTMqTvzg?e=Y0ztZa)"
   ]
  },
  {
   "cell_type": "markdown",
   "metadata": {},
   "source": [
    "## Pseudo-randomizing events and methods\n",
    "\n",
    "[Pseudo-randomizing events and methods](https://1drv.ms/v/s!AiogHeTeve1hjvlQ3yq8kLvdlfRuQA?e=1WBKqy)"
   ]
  },
  {
   "cell_type": "markdown",
   "metadata": {},
   "source": [
    "## Combining deterministic and non-deterministic processes\n",
    "\n",
    "[Combining deterministic and non-deterministic processes](https://1drv.ms/v/s!AiogHeTeve1hjvlRlXr6czj48AF2FQ?e=buhMBq)"
   ]
  },
  {
   "cell_type": "markdown",
   "metadata": {},
   "source": [
    "# Model Application, Clustering, Optimization, and Modularity\n",
    "\n",
    "You’ll learn optimization methods to maximize the impact of your discrete-event models. You’ll learn how to perform simulation ensembles using Monte Carlo approaches and discover how to identify clusters in your model results to help you understand its behavior and identify critical processes and tipping points. You’ll also use objective functions to set targets for your model optimization efforts. To end this course, you’ll explore how to make your model scalable so that it can grow stable and in a controlled manner.\n",
    "\n",
    "[Chapter 4 - slides](https://1drv.ms/b/s!AiogHeTeve1hjvlXoX6FDtInZ2XcFw?e=zsAiJd)"
   ]
  },
  {
   "cell_type": "markdown",
   "metadata": {},
   "source": [
    "## Simulation ensembles: Monte-Carlo sampling\n",
    "\n",
    "[Simulation ensembles: Monte-Carlo sampling](https://1drv.ms/v/s!AiogHeTeve1hjvlJtqSK18TCDwQuag?e=WWWYIA)"
   ]
  },
  {
   "cell_type": "markdown",
   "metadata": {},
   "source": [
    "## Clustering and cluster models\n",
    "\n",
    "[Clustering and cluster models](https://1drv.ms/v/s!AiogHeTeve1hjvlKZHQ_vZkYb_yz6g?e=0HIZk7)"
   ]
  },
  {
   "cell_type": "markdown",
   "metadata": {},
   "source": [
    "## Objective functions and system optimization\n",
    "\n",
    "[Objective functions and system optimization](https://1drv.ms/v/s!AiogHeTeve1hjvlLG_jvkAAJruWY7Q?e=wHUt55)"
   ]
  },
  {
   "cell_type": "markdown",
   "metadata": {},
   "source": [
    "## Model modularity to optimize continuous development\n",
    "\n",
    "[Model modularity to optimize continuous development](https://1drv.ms/v/s!AiogHeTeve1hjvlMi75PWYxBaX2_Ug?e=ZuTq5t)\n"
   ]
  },
  {
   "cell_type": "markdown",
   "metadata": {},
   "source": [
    "## Congratulations!\n",
    "\n",
    "[Congratulations!](https://1drv.ms/v/s!AiogHeTeve1hjvlNdUXSyuDFg7T6iw?e=cFrUB4)"
   ]
  }
 ],
 "metadata": {
  "kernelspec": {
   "display_name": "simpy_course",
   "language": "python",
   "name": "python3"
  },
  "language_info": {
   "codemirror_mode": {
    "name": "ipython",
    "version": 3
   },
   "file_extension": ".py",
   "mimetype": "text/x-python",
   "name": "python",
   "nbconvert_exporter": "python",
   "pygments_lexer": "ipython3",
   "version": "3.9.7"
  }
 },
 "nbformat": 4,
 "nbformat_minor": 2
}
