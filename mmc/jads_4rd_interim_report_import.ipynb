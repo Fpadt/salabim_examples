{
 "cells": [
  {
   "cell_type": "markdown",
   "metadata": {},
   "source": [
    "- https://www.salabim.org/manual/\n",
    "\n",
    "\n",
    "<img src=\"./images/Enexis_JADS.png\" alt=\"Enexis JADS\" style=\"width:12%; float:right\">\n",
    "\n",
    "# EVSE charging facility\n"
   ]
  },
  {
   "cell_type": "markdown",
   "metadata": {},
   "source": [
    "### Parameters: User Input"
   ]
  },
  {
   "cell_type": "code",
   "execution_count": null,
   "metadata": {},
   "outputs": [],
   "source": [
    "# arrival rate of EVs and energy requirement rate\n",
    "ev_arrival_rate = 40  # EV per hour\n",
    "energy_req_rate = 50  # KW per hour\n",
    "\n",
    "# Create a list with EVSE's\n",
    "sim_evse = range(1, 11)\n",
    "sim_time = 10000  # minutes\n",
    "sim_reps = 40  # repetitions\n"
   ]
  },
  {
   "cell_type": "markdown",
   "metadata": {},
   "source": [
    "### Python setup"
   ]
  },
  {
   "cell_type": "code",
   "execution_count": null,
   "metadata": {},
   "outputs": [],
   "source": [
    "\n",
    "# Custom function for enexis simulation\n",
    "from sim_setup import *\n",
    "\n",
    "# Create results full file name\n",
    "ffn_results = create_ffn_results(\n",
    "    report_no=4, sim_evse=sim_evse, sim_time=sim_time, sim_reps=sim_reps\n",
    ")\n",
    "\n",
    "# User feedback\n",
    "print(f\"results will be saved here: {ffn_results}\")\n",
    "print(f\"Infrastructure EVSE's: {list(sim_evse)}\")"
   ]
  },
  {
   "cell_type": "markdown",
   "metadata": {},
   "source": [
    "## Run Simulation"
   ]
  },
  {
   "cell_type": "code",
   "execution_count": null,
   "metadata": {},
   "outputs": [],
   "source": [
    "%%script false --no-raise-error\n",
    "# comment out the line above to run the simulation CTRL + /\n",
    "\n",
    "# Start the timer\n",
    "start_time = tm.time()\n",
    "\n",
    "sim_results = simulate_facility(\n",
    "    ev_arrival_rate=ev_arrival_rate,  # EV per hour\n",
    "    energy_req_rate=energy_req_rate,  # KW per hour\n",
    "    range_of_EVSE=sim_evse,  # range of EVSE's\n",
    "    sim_time=sim_time,  # minutes\n",
    "    number_of_simulations=sim_reps,  # number of simulations\n",
    "    ffn_results=ffn_results,  # set to None if you don't want to save the results\n",
    "    verbose=False,  # set to True to see the progress of the simulation\n",
    ")\n",
    "\n",
    "# End the timer\n",
    "end_time = tm.time()\n",
    "\n",
    "# Calculate and print the execution time\n",
    "execution_time = (end_time - start_time)/60\n",
    "print(f\"\\nThe simulation took {execution_time} minutes to execute.\\n\")\n",
    "\n",
    "# print the results\n",
    "print(sim_results)"
   ]
  },
  {
   "cell_type": "markdown",
   "metadata": {},
   "source": [
    "### Analysis\n",
    "\n",
    "For each performance indicator we will determine the mean and a confidence interval"
   ]
  },
  {
   "cell_type": "code",
   "execution_count": null,
   "metadata": {},
   "outputs": [],
   "source": [
    "# potentially read df_total from disk csv\n",
    "# sim_results = pd.read_csv(ffn_results, sep=\";\", decimal=\".\", index_col=False)\n",
    "\n",
    "print(get_mean_with_ci(sim_results))\n",
    "print(\"\")\n",
    "faciity_results = get_sim_summary(sim_results, output=True)"
   ]
  },
  {
   "cell_type": "markdown",
   "metadata": {},
   "source": [
    "#### under development"
   ]
  },
  {
   "cell_type": "code",
   "execution_count": null,
   "metadata": {},
   "outputs": [],
   "source": [
    "# # import matplotlib.pyplot as plt\n",
    "\n",
    "# # plt.plot(*waitingline.length.tx(), linewidth=1, color=\"red\")\n",
    "# # plt.show()\n",
    "\n",
    "# # Print server statistics\n",
    "# I = monEVSE_IDLE.mean()\n",
    "# P = monEVSE_PROC.mean()\n",
    "# R = (P * monEVSE_PROC.number_of_entries()) / (\n",
    "#     (I * monEVSE_IDLE.number_of_entries()) + (P * monEVSE_PROC.number_of_entries())\n",
    "# )\n",
    "\n",
    "# print(f\"IDLE: {I}, PROC: {P}, UTIL: {R}\")\n",
    "\n",
    "# def prtEVSE(evse):\n",
    "#     print(\n",
    "#         f\"name: {evse.proc.name()}, seq: {evse.proc.sequence_number()}, mean: {evse.proc.mean()}\"\n",
    "#     )\n",
    "\n",
    "\n",
    "# [prtEVSE(x) in ChargingStations for x in ChargingStations]\n",
    "\n",
    "# print(f\"Total: {sum(x.proc for x in ChargingStations).mean()}\")\n",
    "# ChargingStations[0].status.print_histogram(values=True)\n",
    "# ChargingStations[0].mode.print_histogram(values=True)"
   ]
  },
  {
   "cell_type": "markdown",
   "metadata": {},
   "source": [
    "# System SetUp"
   ]
  },
  {
   "cell_type": "code",
   "execution_count": 3,
   "metadata": {},
   "outputs": [
    {
     "name": "stdout",
     "output_type": "stream",
     "text": [
      "python implementation: CPython\n",
      "python version: 3.9.18 | packaged by conda-forge | (main, Aug 30 2023, 03:49:32) \n",
      "[GCC 12.3.0]\n",
      "salabim: 23.3.12\n"
     ]
    }
   ],
   "source": [
    "import sys\n",
    "import platform\n",
    "from importlib_metadata import version\n",
    "\n",
    "print(f\"python implementation: {platform.python_implementation()}\")\n",
    "print(f\"python version: {sys.version}\")\n",
    "print(f\"salabim: {version('salabim')}\")"
   ]
  }
 ],
 "metadata": {
  "kernelspec": {
   "display_name": "env_sim",
   "language": "python",
   "name": "python3"
  },
  "language_info": {
   "codemirror_mode": {
    "name": "ipython",
    "version": 3
   },
   "file_extension": ".py",
   "mimetype": "text/x-python",
   "name": "python",
   "nbconvert_exporter": "python",
   "pygments_lexer": "ipython3",
   "version": "3.9.18"
  }
 },
 "nbformat": 4,
 "nbformat_minor": 2
}
