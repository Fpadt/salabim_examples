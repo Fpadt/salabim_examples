{
 "cells": [
  {
   "cell_type": "markdown",
   "metadata": {},
   "source": [
    "### Charging Profile"
   ]
  },
  {
   "cell_type": "code",
   "execution_count": null,
   "metadata": {},
   "outputs": [],
   "source": [
    "from scipy.optimize import fsolve\n",
    "import numpy as np\n",
    "\n",
    "ev_mpi = 7.36\n",
    "soc = 0.47\n",
    "d_c = 0.9\n",
    "cap = 70\n",
    "k = 0.3  # 0.3 for better battery health\n",
    "\n",
    "# --------------------------------------------------------------------------\n",
    "current_charge = soc * cap\n",
    "\n",
    "charge_1 = 0.8 * cap - current_charge  # first part of charge < 80% of cap\n",
    "charge_2 = d_c * cap - 0.8 * cap  #      second part of charge > 80% of cap\n",
    "\n",
    "cvt = 0.8 * cap / ev_mpi  # time to charge till 80% with CC, change to CV\n",
    "print(charge_1, charge_2)\n",
    "\n",
    "\n",
    "# Define the function for the given equation\n",
    "def equation(t):\n",
    "    return ev_mpi * (t - cvt) * np.exp(-k * (t - cvt)) - charge_2\n",
    "\n",
    "\n",
    "# Initial guess\n",
    "initial_guess = cvt\n",
    "\n",
    "# Solve the equation numerically\n",
    "solution = fsolve(equation, initial_guess)\n",
    "print([cvt, ev_mpi], [solution[0] - cvt, charge_2 / (solution[0] - cvt)]  )\n",
    "\n",
    "print(equation(solution[0]) + charge_2 + charge_1 + soc * cap, d_c * cap)\n"
   ]
  }
 ],
 "metadata": {
  "kernelspec": {
   "display_name": "env_olp",
   "language": "python",
   "name": "python3"
  },
  "language_info": {
   "name": "python",
   "version": "3.10.13"
  }
 },
 "nbformat": 4,
 "nbformat_minor": 2
}
