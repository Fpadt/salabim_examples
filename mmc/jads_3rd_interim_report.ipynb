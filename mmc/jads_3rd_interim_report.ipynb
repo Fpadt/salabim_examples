{
 "cells": [
  {
   "cell_type": "markdown",
   "metadata": {},
   "source": [
    "- http://www.universalteacherpublications.com/univ/ebooks/or/index1.htm\n",
    "- https://katex.org/docs/supported.html\n",
    "- https://www.salabim.org/manual/\n",
    "- https://online.stat.psu.edu/stat506/lesson/1/1.4\n",
    "- http://dimacs.rutgers.edu/archive/Workshops/ASIEconEpi/Slides/Queuing_Theory_Equations.pdf\n",
    "\n",
    "\n",
    "<img src=\"./images/Enexis_JADS.png\" alt=\"Enexis JADS\" style=\"width:12%; float:right\">\n",
    "\n",
    "# Queuing Theory (Waiting Line Models)\n",
    "\n",
    "http://www.universalteacherpublications.com/univ/ebooks/or/Ch10/mmcex.htm\n"
   ]
  },
  {
   "cell_type": "code",
   "execution_count": 1,
   "metadata": {},
   "outputs": [],
   "source": [
    "# Fix the utilization on 96% and vary the number of servers\n",
    "arrival_rate = 40 # per hour\n",
    "processing_rate = 50  # per hour\n",
    "\n",
    "# Create a list with EVSE's\n",
    "EVSES = range(1, 10)\n",
    "sim_time = 3000  # minutes\n",
    "sim_reps = 20  # number of replications"
   ]
  },
  {
   "cell_type": "code",
   "execution_count": 2,
   "metadata": {},
   "outputs": [
    {
     "name": "stdout",
     "output_type": "stream",
     "text": [
      "df_EVSE_1-9_time_3000_reps_20.csv\n"
     ]
    }
   ],
   "source": [
    "# Setup file for the MMC simulation\n",
    "# packages\n",
    "import salabim as sim\n",
    "import numpy as np\n",
    "import scipy.stats as st\n",
    "import pandas as pd\n",
    "import matplotlib.pyplot as plt\n",
    "import matplotlib.patches as mpatches\n",
    "\n",
    "from datetime import datetime\n",
    "from scipy.special import factorial\n",
    "\n",
    "# https://brandfetch.com/enexis.nl?view=library&library=default&collection=colors\n",
    "\n",
    "ENEXIS_G_0 = '#B6D300'\n",
    "ENEXIS_G_1 = '#BDDB00'\n",
    "ENEXIS_G_2 = '#A3C100'\n",
    "ENEXIS_P_0 = '#DA1369'\n",
    "ENEXIS_P_1 = '#EE6DAE'\n",
    "ENEXIS_P_2 = '#DF0073'\n",
    "ENEXIS_B_0 = '#04296C'\n",
    "\n",
    "# Create a string with the simulation session name\n",
    "sim_session_name = (\n",
    "    \"df_EVSE_\"\n",
    "    + str(EVSES[0])\n",
    "    + \"-\"\n",
    "    + str(EVSES[-1])\n",
    "    + \"_time_\"\n",
    "    + str(sim_time)\n",
    "    + \"_reps_\"\n",
    "    + str(sim_reps)\n",
    "    + \".csv\"\n",
    ")\n",
    "\n",
    "print(sim_session_name)"
   ]
  },
  {
   "cell_type": "markdown",
   "metadata": {},
   "source": [
    "## M/M/C Queuing System (∞/FIFO)\n",
    "\n",
    "It is a queuing model where the arrivals of EV's follow a Poisson process, charging times are exponentially distributed and there are **C** EVSE's (Electric Vehicle Supply Equipment). In other words, it is a system with Poisson input, exponential waiting time and Poisson output.\n",
    "\n",
    "Queue capacity of the system is infinite with first in first out mode. The first **M** in the notation stands for Poisson input (= exponential distribution of interarrival times), second **M** for Poisson output (= exponential distribution of processing times), **C** for the number of EVSE's and ∞ for infinite capacity of the system. The EV's will be charged in the order of arrival, hence FIFO (First In, First Out).\n",
    "\n",
    "### Approach (verification & validation)\n",
    "\n",
    "The following approach will be taken to asure that the simulations results are valid and the model can be used to evaluate different control strategies. \n",
    "\n",
    "#### 1. M/M/1/∞/FIFO\n",
    "\n",
    "Code the theorectical mathematical formula's for a M/M/1/∞/FIFO in python and compare the outcome with known cases from theory, see example 1-5. This to validate the implementation.\n",
    "\n",
    "#### 2. M/M/C/∞/FIFO\n",
    "\n",
    "Code the theorectical mathematical formula's for a M/M/C/∞/FIFO in python and compare the results for **C=1** with the former M/M/1/∞/FIFO implementation.\n",
    "\n",
    "#### 3. Theory versus Simulation\n",
    "\n",
    "Simulate the M/M/C/∞/FIFO model in python for a range of C (1-10). Validate the results by comparing to the theoretical outcome from the M/M/C/∞/FIFO model."
   ]
  },
  {
   "cell_type": "markdown",
   "metadata": {},
   "source": [
    "###  Theoretical Formulas \n",
    "\n",
    "Based upon Queueing Theory we implement the known theoretical formulas in python using the following parameters. \n",
    "\n",
    " ID    | parameter                | description\n",
    ":------|:-------------------------|:--------------------------------------------------------------\n",
    " *M*   | arrival_rate $(\\lambda)$ | mean arrivals in EV's/hour as poisson arrival distribution.\n",
    " *M*   | processing_rate $(\\mu)$  | mean charging capacity in EV's/hour as expontential distribution.\n",
    " *C*   | EVSE's $(c)$             | number of Electrical Vehicle Supply Equipment's (EVSE) \n"
   ]
  },
  {
   "cell_type": "markdown",
   "metadata": {},
   "source": [
    "\n",
    "#### M/M/1/∞/FIFO\n",
    "\n",
    "##### Formulas\n",
    "\n",
    " Performance Indicator                                    | Formula \n",
    ":---------------------------------------------------------|:--------\n",
    " utilization  ($\\rho$)                                    | $\\cfrac{\\lambda}{\\mu}$\n",
    " Probability of zero unit in the system ($P_o$)            | $1 - \\cfrac{\\lambda}{\\mu}$\n",
    " Average queue length ($L_q$ )                            | $\\cfrac{\\lambda^2}{\\mu(\\mu-\\lambda)}$\n",
    " Average number of units in the system ($L_s$)            | $\\cfrac{\\lambda}{\\mu-\\lambda}$\n",
    " Average waiting time of an arrival ($W_q$)               | $\\cfrac{\\lambda}{\\mu(\\mu-\\lambda)}$\n",
    " Average waiting time of an arrival in the system ($W_s$) | $\\cfrac{1}{\\mu-\\lambda}$\n"
   ]
  },
  {
   "cell_type": "markdown",
   "metadata": {},
   "source": [
    "\n",
    "##### Python function: ```mm1(lamb, mu)```\n"
   ]
  },
  {
   "cell_type": "code",
   "execution_count": 3,
   "metadata": {},
   "outputs": [],
   "source": [
    "# Queueing Theory Formulas\n",
    "# ------------------------\n",
    "# note: this formula is not used in the simulation\n",
    "# it is used to check the outcome of the following mmc formula for c=1\n",
    "# https://en.wikipedia.org/wiki/M/M/1_queue\n",
    "\n",
    "def mm1(arrival_rate, processing_rate, decimals=2):\n",
    "    \"\"\"M/M/1 queueing theory formula\"\"\"\n",
    "    lamb = arrival_rate/60 # per minute\n",
    "    mu = processing_rate/60 # per minute\n",
    "     \n",
    "    rho = lamb / mu  # utilization factor\n",
    "    P0 = 1 - rho  # probability of no customers in the system\n",
    "    Lq = rho**2 / (1 - rho)  # average number of customers in the queue\n",
    "    Ls = rho / (1 - rho)  # average number of customers in the system\n",
    "    Wq = rho / (mu - lamb)  # average time a customer spends in the queue\n",
    "    Ws = 1 / (mu - lamb)  # average time a customer spends in the system\n",
    "    return {\n",
    "        \"c\": 1,\n",
    "        \"lambda\": arrival_rate,\n",
    "        \"mu\": processing_rate,\n",
    "        \"RO\": rho.__round__(decimals),\n",
    "        \"P0\": P0.__round__(decimals),\n",
    "        \"Lq\": Lq.__round__(decimals),\n",
    "        \"Wq\": Wq.__round__(decimals),\n",
    "        \"Ls\": Ls.__round__(decimals),\n",
    "        \"Ws\": Ws.__round__(decimals),\n",
    "    }\n",
    " \n",
    "def print_mm1(arrival_rate, processing_rate):\n",
    "    print(\n",
    "        pd.DataFrame(\n",
    "            mm1(arrival_rate, processing_rate), index=[0]).to_string(index=False))\n"
   ]
  },
  {
   "cell_type": "markdown",
   "metadata": {},
   "source": [
    "##### Validation\n",
    "\n",
    "See Examples 1-5 at the end of this document"
   ]
  },
  {
   "cell_type": "markdown",
   "metadata": {},
   "source": [
    "#### M/M/C/∞/FIFO\n",
    "\n",
    "##### Formulas\n",
    "\n",
    " performance indicator                                    | Formula                                                                                              |\n",
    ":---------------------------------------------------------|:-----------------------------------------------------------------------------------------------------|\n",
    " utilization RO                                             | $\\rho = \\cfrac{\\lambda}{c\\mu}$                                                                       |\n",
    " 1/Probability of zero unit in the system $\\cfrac{1}{P_0}$ | $\\displaystyle\\sum_{n=0}^{c-1} \\cfrac{(\\lambda/\\mu)^n}{n!} + \\cfrac{(\\lambda/\\mu)^c}{c!} * \\cfrac{1} {1-\\rho}$ |\n",
    " Average queue length ($L_q$ )                            | $P_0 * \\cfrac{(\\lambda/\\mu)^c}{c!} * \\cfrac{\\rho}{(1-\\rho)^2}$                                       |  \n",
    " Average number of units in the system ($L_s$)            | $L_q + \\cfrac{\\lambda}{\\mu}$                                                                         |\n",
    " Average waiting time of an arrival ($W_q$)               | $\\cfrac{1}{\\lambda} * L_q$                                                                           |\n",
    " Average waiting time of an arrival in the system ($W_s$) | $W_q + \\cfrac{1}{\\mu}$                                                                               | "
   ]
  },
  {
   "cell_type": "markdown",
   "metadata": {},
   "source": [
    "##### Python function: ```mmc(lamb, mu, c)```"
   ]
  },
  {
   "cell_type": "code",
   "execution_count": 4,
   "metadata": {},
   "outputs": [],
   "source": [
    "def mmc(arrival_rate, processing_rate, charging_stations, decimals=2):\n",
    "    \"\"\"M/M/c queueing theory formula\"\"\"\n",
    "    lamb = arrival_rate/60 # per minute\n",
    "    mu = processing_rate/60 # per minute\n",
    "    c = charging_stations\n",
    "    # utilization factor\n",
    "    rho = lamb / (c * mu)\n",
    "    # probability of no customers in the system\n",
    "\n",
    "    P0 = 1 / (\n",
    "        sum([(c * rho) ** n / factorial(n, exact=True) for n in range(c)])\n",
    "        + (c * rho) ** c / (factorial(c, exact=True) * (1 - rho))\n",
    "    )\n",
    "    # average number of customers in the system\n",
    "    Lq = P0 * rho / (1 - rho) ** 2 * (c * rho) ** c / factorial(c, exact=True)\n",
    "    # average number of customers in the queue\n",
    "    Ls = Lq + c * rho\n",
    "    # average time a customer spends in the queue\n",
    "    Wq = 1 / lamb * Lq\n",
    "    # average time a customer spends in the system\n",
    "    Ws = 1 / mu + Wq\n",
    "    return {\n",
    "        \"c\": c,\n",
    "        \"lambda\": arrival_rate,\n",
    "        \"mu\": processing_rate,\n",
    "        \"RO\": rho.__round__(decimals),\n",
    "        \"P0\": P0.__round__(decimals),\n",
    "        \"Lq\": Lq.__round__(decimals),\n",
    "        \"Wq\": Wq.__round__(decimals),\n",
    "        \"Ls\": Ls.__round__(decimals),\n",
    "        \"Ws\": Ws.__round__(decimals),\n",
    "    }\n",
    "\n",
    "def print_mmc(arrival_rate, processing_rate, charging_stations, decimals=2):\n",
    "    print(\n",
    "        pd.DataFrame(\n",
    "            mmc(arrival_rate, processing_rate, charging_stations, decimals=2), \n",
    "            index=[0]\n",
    "            ).to_string(index=False)\n",
    "            )"
   ]
  },
  {
   "cell_type": "markdown",
   "metadata": {},
   "source": [
    "##### Validation\n",
    "\n",
    "See Examples 1-5 at the end of this document"
   ]
  },
  {
   "cell_type": "markdown",
   "metadata": {},
   "source": [
    "###### Validation of *mmc* against *mm1*\n",
    "\n",
    "The following table shows that the mmc function with **c =1** has the same output as the simple mm1 function.\n"
   ]
  },
  {
   "cell_type": "code",
   "execution_count": 5,
   "metadata": {},
   "outputs": [
    {
     "name": "stdout",
     "output_type": "stream",
     "text": [
      " c  lambda  mu  RO  P0  Lq  Wq  Ls  Ws\n",
      " 1      40  50 0.8 0.2 3.2 4.8 4.0 6.0\n",
      "\n",
      "\n",
      " c  lambda  mu  RO  P0  Lq  Wq  Ls  Ws\n",
      " 1      40  50 0.8 0.2 3.2 4.8 4.0 6.0\n"
     ]
    }
   ],
   "source": [
    "# mm1 function \n",
    "print_mm1(arrival_rate = 40, processing_rate = 50)\n",
    "print(\"\\n\")\n",
    "\n",
    "# mmc function with additional parameter c for teh number of servers. (c=1 is the same as mm1)\n",
    "print_mmc(arrival_rate = 40, processing_rate = 50, charging_stations = 1)"
   ]
  },
  {
   "cell_type": "markdown",
   "metadata": {},
   "source": [
    "#### Theoretical results for C (1-10)\n",
    "\n",
    "For a range of EVSE's from 1-10 we calculate the performance of the system. \n",
    "\n",
    "We take a Utilization of 96% to create enough revenue."
   ]
  },
  {
   "cell_type": "markdown",
   "metadata": {},
   "source": [
    "##### Results"
   ]
  },
  {
   "cell_type": "code",
   "execution_count": 6,
   "metadata": {},
   "outputs": [
    {
     "name": "stdout",
     "output_type": "stream",
     "text": [
      " c  lambda  mu  RO   P0   Lq   Wq   Ls   Ws\n",
      " 1      40  50 0.8 0.20 3.20 4.80 4.00 6.00\n",
      " 2      80  50 0.8 0.11 2.84 2.13 4.44 3.33\n",
      " 3     120  50 0.8 0.06 2.59 1.29 4.99 2.49\n",
      " 4     160  50 0.8 0.03 2.39 0.89 5.59 2.09\n",
      " 5     200  50 0.8 0.01 2.22 0.66 6.22 1.86\n",
      " 6     240  50 0.8 0.01 2.07 0.52 6.87 1.72\n",
      " 7     280  50 0.8 0.00 1.94 0.42 7.54 1.62\n",
      " 8     320  50 0.8 0.00 1.83 0.34 8.23 1.54\n",
      " 9     360  50 0.8 0.00 1.73 0.29 8.93 1.49\n"
     ]
    }
   ],
   "source": [
    "# Create an empty list to store the dictionaries\n",
    "dict_list = []\n",
    "\n",
    "# Loop over the list\n",
    "for i in EVSES:\n",
    "    # Each iteration generates a dictionary that represents a row of data\n",
    "\n",
    "    row_dict = mmc(arrival_rate * i, processing_rate, i)\n",
    "    # Append the dictionary to the list\n",
    "    dict_list.append(row_dict)\n",
    "\n",
    "# Convert the list of dictionaries into a DataFrame\n",
    "dfMathResults = pd.DataFrame(dict_list)\n",
    "\n",
    "print(dfMathResults.to_string(index=False))"
   ]
  },
  {
   "cell_type": "code",
   "execution_count": 7,
   "metadata": {},
   "outputs": [
    {
     "data": {
      "image/png": "[encoded data removed]",
      "text/plain": [
       "<Figure size 640x480 with 6 Axes>"
      ]
     },
     "metadata": {},
     "output_type": "display_data"
    }
   ],
   "source": [
    "# use df as a copy of dfMathResults to make the plot\n",
    "df= dfMathResults\n",
    "\n",
    "# Create a figure and a 2x2 grid of subplots\n",
    "fig, axs = plt.subplots(2, 3)\n",
    "\n",
    "# # Add a title for the whole figure\n",
    "fig.suptitle(f\"Charging Hub {df.loc[1, 'RO']} Utilization [MMc]\")\n",
    "\n",
    "# Plot data on each subplot\n",
    "axs[0, 0].plot(df.c, df.Lq, color= ENEXIS_G_0)\n",
    "axs[0, 0].set_ylabel(\"avg. # of EV's waiting\")\n",
    "axs[0, 0].set_title(f\"{df.Lq.name}\")\n",
    "\n",
    "axs[0, 1].plot(df.c, df.Wq, color=ENEXIS_P_0)\n",
    "axs[0, 1].set_ylabel(\"avg. waiting time \")\n",
    "axs[0, 1].set_title(f\"{df.Wq.name}\")\n",
    "\n",
    "axs[1, 0].plot(df.c, df.Ls, color= ENEXIS_G_1)\n",
    "axs[1, 0].set_ylabel(\"avg. # of EV's in Hub\")\n",
    "axs[1, 0].set_title(f\"{df.Ls.name}\")\n",
    "\n",
    "axs[1, 1].plot(df.c, df.Ws, color=ENEXIS_P_1)\n",
    "axs[1, 1].set_ylabel(\"avg. waiting time in Hub\")\n",
    "axs[1, 1].set_title(f\"{df.Ws.name}\")\n",
    "\n",
    "axs[0, 2].plot(df.c, df.RO, color=\"#0000FF\")\n",
    "axs[0, 2].set_ylabel(\"Utilization\")\n",
    "axs[0, 2].set_title(f\"{df.RO.name}\")\n",
    "\n",
    "axs[1, 2].plot(df.c, df.P0, color=\"#929292\")\n",
    "axs[1, 2].set_ylabel(\"P0\")\n",
    "axs[1, 2].set_title(f\"{df.P0.name}\")\n",
    "\n",
    "# Plot data on each subplot\n",
    "for i in range(2):\n",
    "    for j in range(2):\n",
    "        # axs[i, j].plot(x, y)\n",
    "        # axs[i, j].set_title(f'Axis [{i}, {j}]')\n",
    "        axs[1, j].set_xlabel(\"# EVSE\")  # Set x-label for all subplots\n",
    "\n",
    "# Adjust the space between subplots\n",
    "plt.subplots_adjust(hspace=1, wspace=1)\n",
    "plt.rcParams['font.family'] = 'DejaVu Sans'\n",
    "\n",
    "# Save the plot\n",
    "plt.savefig(f\"./figures/total_{df.loc[0,'RO']}_{sim_session_name}.png\", dpi=300, bbox_inches='tight')\n",
    "\n",
    "# Display the plot\n",
    "plt.show()\n"
   ]
  },
  {
   "cell_type": "markdown",
   "metadata": {},
   "source": [
    "### Simulation Model"
   ]
  },
  {
   "cell_type": "code",
   "execution_count": 8,
   "metadata": {},
   "outputs": [],
   "source": [
    "# simulation code for MMC queue\n",
    "# function to run simulation\n",
    "def sim_MMC(\n",
    "    arrival_rate,\n",
    "    processing_rate,\n",
    "    charging_stations=1,\n",
    "    sim_time=50000,\n",
    "    time_unit=\"minutes\",\n",
    "    random_seed=123456,\n",
    "    run=1,\n",
    "):\n",
    "    # Generator which creates cars\n",
    "    class CarGenerator(sim.Component):\n",
    "        # setup method is called when the component is created\n",
    "        # and is used to initialize the component\n",
    "        # switch off monitoring for mode and status\n",
    "        def setup(self):\n",
    "            self.mode.monitor(False)\n",
    "            self.status.monitor(False)\n",
    "\n",
    "        def process(self):\n",
    "            while True:\n",
    "                Car()\n",
    "                self.hold(iat_distr.sample())\n",
    "\n",
    "    class Car(sim.Component):\n",
    "        def setup(self):\n",
    "            self.mode.monitor(False)\n",
    "            self.status.monitor(False)\n",
    "\n",
    "        def process(self):\n",
    "            self.enter(waitingline)\n",
    "            for ChargingStation in ChargingStations:\n",
    "                if ChargingStation.ispassive():\n",
    "                    ChargingStation.activate()\n",
    "                    break  # activate at most one charging station\n",
    "            self.passivate()\n",
    "\n",
    "    class ChargingStation(sim.Component):\n",
    "        def setup(self):\n",
    "            self.mode.monitor(False)\n",
    "            self.status.monitor(False)\n",
    "\n",
    "        def process(self):\n",
    "            while True:\n",
    "                while len(waitingline) == 0:\n",
    "                    self.passivate()\n",
    "                self.car = waitingline.pop()\n",
    "                self.hold(srv_distr.sample())\n",
    "                self.car.activate()\n",
    "\n",
    "    N_STATION = charging_stations\n",
    "    iat_distr = sim.Exponential(60 / arrival_rate) # minutes between EV's\n",
    "    srv_distr = sim.Exponential(60 / processing_rate) # minutes to charge EV\n",
    "\n",
    "    # https://www.salabim.org/manual/Reference.html#environment\n",
    "    app = sim.App(\n",
    "        trace=False,  # defines whether to trace or not\n",
    "        random_seed=random_seed,  # if “*”, a purely random value (based on the current time)\n",
    "        time_unit=time_unit,  # defines the time unit used in the simulation\n",
    "        name=\"Charging Station\",  # name of the simulation\n",
    "        do_reset=True,  # defines whether to reset the simulation when the run method is called\n",
    "        yieldless=True,  # defines whether the simulation is yieldless or not\n",
    "    )\n",
    "\n",
    "    # Instantiate and activate the client generator\n",
    "    CarGenerator(name=\"Electric Cars Generator\")\n",
    "\n",
    "    # Create Queue and set monitor to stats_only\n",
    "    # https://www.salabim.org/manual/Queue.html\n",
    "    waitingline = sim.Queue(name=\"Waiting Cars\", monitor=True)\n",
    "    # waitingline.length_of_stay.monitor(value=True)\n",
    "    waitingline.length.reset_monitors(stats_only=True)\n",
    "    waitingline.length_of_stay.reset_monitors(stats_only=True)\n",
    "\n",
    "    # Instantiate the servers, list comprehension \n",
    "    ChargingStations = [ChargingStation() for _ in range(N_STATION)]\n",
    "\n",
    "    # Execute Simulation\n",
    "    app.run(till=sim_time)\n",
    "\n",
    "    # Return results\n",
    "    return {\n",
    "        \"run\": run,\n",
    "        \"lambda\": arrival_rate,\n",
    "        \"mu\": processing_rate,\n",
    "        \"c\": charging_stations,\n",
    "        \"Wq\": waitingline.length_of_stay.mean(),\n",
    "        \"Lq\": waitingline.length.mean(),\n",
    "    }\n",
    "\n",
    "\n",
    "# function to run simulation X times\n",
    "# returns a DataFrame with the results\n",
    "def sim_x_MMC(\n",
    "    arrival_rate,\n",
    "    processing_rate,\n",
    "    charging_stations=1,\n",
    "    sim_time=50000,\n",
    "    number_of_simulations=30,\n",
    "):\n",
    "    sim_runs = []\n",
    "\n",
    "    # Run simulation X times with different random seeds\n",
    "    for i in range(number_of_simulations):\n",
    "        sim_runs.append(\n",
    "            sim_MMC(\n",
    "                arrival_rate=arrival_rate,\n",
    "                processing_rate=processing_rate,\n",
    "                charging_stations=charging_stations,\n",
    "                sim_time=sim_time,\n",
    "                random_seed=i,\n",
    "                run=i,\n",
    "            )\n",
    "        )\n",
    "        print(f\"EVSE's {charging_stations}, run {i} completed at {datetime.now()}\")\n",
    "\n",
    "    # Concatenate all runs\n",
    "    return pd.DataFrame(sim_runs)"
   ]
  },
  {
   "cell_type": "markdown",
   "metadata": {},
   "source": [
    "#### Run Simulation"
   ]
  },
  {
   "cell_type": "code",
   "execution_count": 9,
   "metadata": {},
   "outputs": [
    {
     "name": "stdout",
     "output_type": "stream",
     "text": [
      "EVSE's 1, run 0 completed at 2023-12-05 12:43:09.709591\n",
      "EVSE's 1, run 1 completed at 2023-12-05 12:43:10.142372\n",
      "EVSE's 1, run 2 completed at 2023-12-05 12:43:10.710022\n",
      "EVSE's 1, run 3 completed at 2023-12-05 12:43:11.345051\n",
      "EVSE's 1, run 4 completed at 2023-12-05 12:43:11.950726\n",
      "EVSE's 1, run 5 completed at 2023-12-05 12:43:12.314321\n",
      "EVSE's 1, run 6 completed at 2023-12-05 12:43:12.650882\n",
      "EVSE's 1, run 7 completed at 2023-12-05 12:43:12.982215\n",
      "EVSE's 1, run 8 completed at 2023-12-05 12:43:13.513820\n",
      "EVSE's 1, run 9 completed at 2023-12-05 12:43:14.050857\n",
      "EVSE's 1, run 10 completed at 2023-12-05 12:43:14.559631\n",
      "EVSE's 1, run 11 completed at 2023-12-05 12:43:14.948811\n"
     ]
    },
    {
     "ename": "KeyboardInterrupt",
     "evalue": "",
     "output_type": "error",
     "traceback": [
      "\u001b[0;31m---------------------------------------------------------------------------\u001b[0m",
      "\u001b[0;31mKeyboardInterrupt\u001b[0m                         Traceback (most recent call last)",
      "\u001b[1;32m/home/floris/sim/sal_jads/mmc/jads_3rd_interim_report.ipynb Cell 23\u001b[0m line \u001b[0;36m7\n\u001b[1;32m      <a href='vscode-notebook-cell://wsl%2Bubuntu-22.04/home/floris/sim/sal_jads/mmc/jads_3rd_interim_report.ipynb#X31sdnNjb2RlLXJlbW90ZQ%3D%3D?line=3'>4</a>\u001b[0m dfs \u001b[39m=\u001b[39m []\n\u001b[1;32m      <a href='vscode-notebook-cell://wsl%2Bubuntu-22.04/home/floris/sim/sal_jads/mmc/jads_3rd_interim_report.ipynb#X31sdnNjb2RlLXJlbW90ZQ%3D%3D?line=5'>6</a>\u001b[0m \u001b[39mfor\u001b[39;00m j \u001b[39min\u001b[39;00m EVSES:\n\u001b[0;32m----> <a href='vscode-notebook-cell://wsl%2Bubuntu-22.04/home/floris/sim/sal_jads/mmc/jads_3rd_interim_report.ipynb#X31sdnNjb2RlLXJlbW90ZQ%3D%3D?line=6'>7</a>\u001b[0m     df \u001b[39m=\u001b[39m sim_x_MMC(\n\u001b[1;32m      <a href='vscode-notebook-cell://wsl%2Bubuntu-22.04/home/floris/sim/sal_jads/mmc/jads_3rd_interim_report.ipynb#X31sdnNjb2RlLXJlbW90ZQ%3D%3D?line=7'>8</a>\u001b[0m         arrival_rate\u001b[39m=\u001b[39;49mj \u001b[39m*\u001b[39;49m arrival_rate,\n\u001b[1;32m      <a href='vscode-notebook-cell://wsl%2Bubuntu-22.04/home/floris/sim/sal_jads/mmc/jads_3rd_interim_report.ipynb#X31sdnNjb2RlLXJlbW90ZQ%3D%3D?line=8'>9</a>\u001b[0m         processing_rate\u001b[39m=\u001b[39;49mprocessing_rate,\n\u001b[1;32m     <a href='vscode-notebook-cell://wsl%2Bubuntu-22.04/home/floris/sim/sal_jads/mmc/jads_3rd_interim_report.ipynb#X31sdnNjb2RlLXJlbW90ZQ%3D%3D?line=9'>10</a>\u001b[0m         charging_stations\u001b[39m=\u001b[39;49mj,\n\u001b[1;32m     <a href='vscode-notebook-cell://wsl%2Bubuntu-22.04/home/floris/sim/sal_jads/mmc/jads_3rd_interim_report.ipynb#X31sdnNjb2RlLXJlbW90ZQ%3D%3D?line=10'>11</a>\u001b[0m         sim_time\u001b[39m=\u001b[39;49msim_time,\n\u001b[1;32m     <a href='vscode-notebook-cell://wsl%2Bubuntu-22.04/home/floris/sim/sal_jads/mmc/jads_3rd_interim_report.ipynb#X31sdnNjb2RlLXJlbW90ZQ%3D%3D?line=11'>12</a>\u001b[0m         number_of_simulations\u001b[39m=\u001b[39;49msim_reps,\n\u001b[1;32m     <a href='vscode-notebook-cell://wsl%2Bubuntu-22.04/home/floris/sim/sal_jads/mmc/jads_3rd_interim_report.ipynb#X31sdnNjb2RlLXJlbW90ZQ%3D%3D?line=12'>13</a>\u001b[0m     )\n\u001b[1;32m     <a href='vscode-notebook-cell://wsl%2Bubuntu-22.04/home/floris/sim/sal_jads/mmc/jads_3rd_interim_report.ipynb#X31sdnNjb2RlLXJlbW90ZQ%3D%3D?line=14'>15</a>\u001b[0m     \u001b[39m# Append df to dfs\u001b[39;00m\n\u001b[1;32m     <a href='vscode-notebook-cell://wsl%2Bubuntu-22.04/home/floris/sim/sal_jads/mmc/jads_3rd_interim_report.ipynb#X31sdnNjb2RlLXJlbW90ZQ%3D%3D?line=15'>16</a>\u001b[0m     dfs\u001b[39m.\u001b[39mappend(df)\n",
      "\u001b[1;32m/home/floris/sim/sal_jads/mmc/jads_3rd_interim_report.ipynb Cell 23\u001b[0m line \u001b[0;36m1\n\u001b[1;32m    <a href='vscode-notebook-cell://wsl%2Bubuntu-22.04/home/floris/sim/sal_jads/mmc/jads_3rd_interim_report.ipynb#X31sdnNjb2RlLXJlbW90ZQ%3D%3D?line=103'>104</a>\u001b[0m \u001b[39m# Run simulation X times with different random seeds\u001b[39;00m\n\u001b[1;32m    <a href='vscode-notebook-cell://wsl%2Bubuntu-22.04/home/floris/sim/sal_jads/mmc/jads_3rd_interim_report.ipynb#X31sdnNjb2RlLXJlbW90ZQ%3D%3D?line=104'>105</a>\u001b[0m \u001b[39mfor\u001b[39;00m i \u001b[39min\u001b[39;00m \u001b[39mrange\u001b[39m(number_of_simulations):\n\u001b[1;32m    <a href='vscode-notebook-cell://wsl%2Bubuntu-22.04/home/floris/sim/sal_jads/mmc/jads_3rd_interim_report.ipynb#X31sdnNjb2RlLXJlbW90ZQ%3D%3D?line=105'>106</a>\u001b[0m     sim_runs\u001b[39m.\u001b[39mappend(\n\u001b[0;32m--> <a href='vscode-notebook-cell://wsl%2Bubuntu-22.04/home/floris/sim/sal_jads/mmc/jads_3rd_interim_report.ipynb#X31sdnNjb2RlLXJlbW90ZQ%3D%3D?line=106'>107</a>\u001b[0m         sim_MMC(\n\u001b[1;32m    <a href='vscode-notebook-cell://wsl%2Bubuntu-22.04/home/floris/sim/sal_jads/mmc/jads_3rd_interim_report.ipynb#X31sdnNjb2RlLXJlbW90ZQ%3D%3D?line=107'>108</a>\u001b[0m             arrival_rate\u001b[39m=\u001b[39;49marrival_rate,\n\u001b[1;32m    <a href='vscode-notebook-cell://wsl%2Bubuntu-22.04/home/floris/sim/sal_jads/mmc/jads_3rd_interim_report.ipynb#X31sdnNjb2RlLXJlbW90ZQ%3D%3D?line=108'>109</a>\u001b[0m             processing_rate\u001b[39m=\u001b[39;49mprocessing_rate,\n\u001b[1;32m    <a href='vscode-notebook-cell://wsl%2Bubuntu-22.04/home/floris/sim/sal_jads/mmc/jads_3rd_interim_report.ipynb#X31sdnNjb2RlLXJlbW90ZQ%3D%3D?line=109'>110</a>\u001b[0m             charging_stations\u001b[39m=\u001b[39;49mcharging_stations,\n\u001b[1;32m    <a href='vscode-notebook-cell://wsl%2Bubuntu-22.04/home/floris/sim/sal_jads/mmc/jads_3rd_interim_report.ipynb#X31sdnNjb2RlLXJlbW90ZQ%3D%3D?line=110'>111</a>\u001b[0m             sim_time\u001b[39m=\u001b[39;49msim_time,\n\u001b[1;32m    <a href='vscode-notebook-cell://wsl%2Bubuntu-22.04/home/floris/sim/sal_jads/mmc/jads_3rd_interim_report.ipynb#X31sdnNjb2RlLXJlbW90ZQ%3D%3D?line=111'>112</a>\u001b[0m             random_seed\u001b[39m=\u001b[39;49mi,\n\u001b[1;32m    <a href='vscode-notebook-cell://wsl%2Bubuntu-22.04/home/floris/sim/sal_jads/mmc/jads_3rd_interim_report.ipynb#X31sdnNjb2RlLXJlbW90ZQ%3D%3D?line=112'>113</a>\u001b[0m             run\u001b[39m=\u001b[39;49mi,\n\u001b[1;32m    <a href='vscode-notebook-cell://wsl%2Bubuntu-22.04/home/floris/sim/sal_jads/mmc/jads_3rd_interim_report.ipynb#X31sdnNjb2RlLXJlbW90ZQ%3D%3D?line=113'>114</a>\u001b[0m         )\n\u001b[1;32m    <a href='vscode-notebook-cell://wsl%2Bubuntu-22.04/home/floris/sim/sal_jads/mmc/jads_3rd_interim_report.ipynb#X31sdnNjb2RlLXJlbW90ZQ%3D%3D?line=114'>115</a>\u001b[0m     )\n\u001b[1;32m    <a href='vscode-notebook-cell://wsl%2Bubuntu-22.04/home/floris/sim/sal_jads/mmc/jads_3rd_interim_report.ipynb#X31sdnNjb2RlLXJlbW90ZQ%3D%3D?line=115'>116</a>\u001b[0m     \u001b[39mprint\u001b[39m(\u001b[39mf\u001b[39m\u001b[39m\"\u001b[39m\u001b[39mEVSE\u001b[39m\u001b[39m'\u001b[39m\u001b[39ms \u001b[39m\u001b[39m{\u001b[39;00mcharging_stations\u001b[39m}\u001b[39;00m\u001b[39m, run \u001b[39m\u001b[39m{\u001b[39;00mi\u001b[39m}\u001b[39;00m\u001b[39m completed at \u001b[39m\u001b[39m{\u001b[39;00mdatetime\u001b[39m.\u001b[39mnow()\u001b[39m}\u001b[39;00m\u001b[39m\"\u001b[39m)\n\u001b[1;32m    <a href='vscode-notebook-cell://wsl%2Bubuntu-22.04/home/floris/sim/sal_jads/mmc/jads_3rd_interim_report.ipynb#X31sdnNjb2RlLXJlbW90ZQ%3D%3D?line=117'>118</a>\u001b[0m \u001b[39m# Concatenate all runs\u001b[39;00m\n",
      "\u001b[1;32m/home/floris/sim/sal_jads/mmc/jads_3rd_interim_report.ipynb Cell 23\u001b[0m line \u001b[0;36m8\n\u001b[1;32m     <a href='vscode-notebook-cell://wsl%2Bubuntu-22.04/home/floris/sim/sal_jads/mmc/jads_3rd_interim_report.ipynb#X31sdnNjb2RlLXJlbW90ZQ%3D%3D?line=76'>77</a>\u001b[0m ChargingStations \u001b[39m=\u001b[39m [ChargingStation() \u001b[39mfor\u001b[39;00m _ \u001b[39min\u001b[39;00m \u001b[39mrange\u001b[39m(N_STATION)]\n\u001b[1;32m     <a href='vscode-notebook-cell://wsl%2Bubuntu-22.04/home/floris/sim/sal_jads/mmc/jads_3rd_interim_report.ipynb#X31sdnNjb2RlLXJlbW90ZQ%3D%3D?line=78'>79</a>\u001b[0m \u001b[39m# Execute Simulation\u001b[39;00m\n\u001b[0;32m---> <a href='vscode-notebook-cell://wsl%2Bubuntu-22.04/home/floris/sim/sal_jads/mmc/jads_3rd_interim_report.ipynb#X31sdnNjb2RlLXJlbW90ZQ%3D%3D?line=79'>80</a>\u001b[0m app\u001b[39m.\u001b[39;49mrun(till\u001b[39m=\u001b[39;49msim_time)\n\u001b[1;32m     <a href='vscode-notebook-cell://wsl%2Bubuntu-22.04/home/floris/sim/sal_jads/mmc/jads_3rd_interim_report.ipynb#X31sdnNjb2RlLXJlbW90ZQ%3D%3D?line=81'>82</a>\u001b[0m \u001b[39m# Return results\u001b[39;00m\n\u001b[1;32m     <a href='vscode-notebook-cell://wsl%2Bubuntu-22.04/home/floris/sim/sal_jads/mmc/jads_3rd_interim_report.ipynb#X31sdnNjb2RlLXJlbW90ZQ%3D%3D?line=82'>83</a>\u001b[0m \u001b[39mreturn\u001b[39;00m {\n\u001b[1;32m     <a href='vscode-notebook-cell://wsl%2Bubuntu-22.04/home/floris/sim/sal_jads/mmc/jads_3rd_interim_report.ipynb#X31sdnNjb2RlLXJlbW90ZQ%3D%3D?line=83'>84</a>\u001b[0m     \u001b[39m\"\u001b[39m\u001b[39mrun\u001b[39m\u001b[39m\"\u001b[39m: run,\n\u001b[1;32m     <a href='vscode-notebook-cell://wsl%2Bubuntu-22.04/home/floris/sim/sal_jads/mmc/jads_3rd_interim_report.ipynb#X31sdnNjb2RlLXJlbW90ZQ%3D%3D?line=84'>85</a>\u001b[0m     \u001b[39m\"\u001b[39m\u001b[39mlambda\u001b[39m\u001b[39m\"\u001b[39m: arrival_rate,\n\u001b[0;32m   (...)\u001b[0m\n\u001b[1;32m     <a href='vscode-notebook-cell://wsl%2Bubuntu-22.04/home/floris/sim/sal_jads/mmc/jads_3rd_interim_report.ipynb#X31sdnNjb2RlLXJlbW90ZQ%3D%3D?line=88'>89</a>\u001b[0m     \u001b[39m\"\u001b[39m\u001b[39mLq\u001b[39m\u001b[39m\"\u001b[39m: waitingline\u001b[39m.\u001b[39mlength\u001b[39m.\u001b[39mmean(),\n\u001b[1;32m     <a href='vscode-notebook-cell://wsl%2Bubuntu-22.04/home/floris/sim/sal_jads/mmc/jads_3rd_interim_report.ipynb#X31sdnNjb2RlLXJlbW90ZQ%3D%3D?line=89'>90</a>\u001b[0m }\n",
      "File \u001b[0;32m~/miniforge3/envs/env_sim/lib/python3.9/site-packages/salabim/salabim.py:26219\u001b[0m, in \u001b[0;36mEnvironment.run\u001b[0;34m(self, duration, till, priority, urgent, cap_now)\u001b[0m\n\u001b[1;32m  26217\u001b[0m         \u001b[39mself\u001b[39m\u001b[39m.\u001b[39mdo_simulate_and_animate()\n\u001b[1;32m  26218\u001b[0m     \u001b[39melse\u001b[39;00m:\n\u001b[0;32m> 26219\u001b[0m         \u001b[39mself\u001b[39;49m\u001b[39m.\u001b[39;49mdo_simulate()\n\u001b[1;32m  26220\u001b[0m \u001b[39mif\u001b[39;00m \u001b[39mself\u001b[39m\u001b[39m.\u001b[39mstopped:\n\u001b[1;32m  26221\u001b[0m     \u001b[39mself\u001b[39m\u001b[39m.\u001b[39mquit()\n",
      "File \u001b[0;32m~/miniforge3/envs/env_sim/lib/python3.9/site-packages/salabim/salabim.py:26234\u001b[0m, in \u001b[0;36mEnvironment.do_simulate\u001b[0;34m(self)\u001b[0m\n\u001b[1;32m  26232\u001b[0m     \u001b[39mpass\u001b[39;00m\n\u001b[1;32m  26233\u001b[0m \u001b[39mwhile\u001b[39;00m \u001b[39mself\u001b[39m\u001b[39m.\u001b[39mrunning \u001b[39mand\u001b[39;00m \u001b[39mnot\u001b[39;00m \u001b[39mself\u001b[39m\u001b[39m.\u001b[39m_animate:\n\u001b[0;32m> 26234\u001b[0m     \u001b[39mself\u001b[39;49m\u001b[39m.\u001b[39;49mstep()\n",
      "File \u001b[0;32m~/miniforge3/envs/env_sim/lib/python3.9/site-packages/salabim/salabim.py:24125\u001b[0m, in \u001b[0;36mEnvironment.step\u001b[0;34m(self)\u001b[0m\n\u001b[1;32m  24123\u001b[0m c\u001b[39m.\u001b[39m_check_fail()\n\u001b[1;32m  24124\u001b[0m \u001b[39mif\u001b[39;00m \u001b[39mself\u001b[39m\u001b[39m.\u001b[39menv\u001b[39m.\u001b[39m_yieldless:\n\u001b[0;32m> 24125\u001b[0m     c\u001b[39m.\u001b[39;49m_glet\u001b[39m.\u001b[39;49mswitch()\n\u001b[1;32m  24126\u001b[0m     \u001b[39mif\u001b[39;00m c\u001b[39m.\u001b[39m_glet\u001b[39m.\u001b[39mdead:\n\u001b[1;32m  24127\u001b[0m         \u001b[39mself\u001b[39m\u001b[39m.\u001b[39m_terminate(c)\n",
      "\u001b[1;32m/home/floris/sim/sal_jads/mmc/jads_3rd_interim_report.ipynb Cell 23\u001b[0m line \u001b[0;36m2\n\u001b[1;32m     <a href='vscode-notebook-cell://wsl%2Bubuntu-22.04/home/floris/sim/sal_jads/mmc/jads_3rd_interim_report.ipynb#X31sdnNjb2RlLXJlbW90ZQ%3D%3D?line=21'>22</a>\u001b[0m \u001b[39mwhile\u001b[39;00m \u001b[39mTrue\u001b[39;00m:\n\u001b[1;32m     <a href='vscode-notebook-cell://wsl%2Bubuntu-22.04/home/floris/sim/sal_jads/mmc/jads_3rd_interim_report.ipynb#X31sdnNjb2RlLXJlbW90ZQ%3D%3D?line=22'>23</a>\u001b[0m     Car()\n\u001b[0;32m---> <a href='vscode-notebook-cell://wsl%2Bubuntu-22.04/home/floris/sim/sal_jads/mmc/jads_3rd_interim_report.ipynb#X31sdnNjb2RlLXJlbW90ZQ%3D%3D?line=23'>24</a>\u001b[0m     \u001b[39mself\u001b[39m\u001b[39m.\u001b[39mhold(iat_distr\u001b[39m.\u001b[39;49msample())\n",
      "File \u001b[0;32m~/miniforge3/envs/env_sim/lib/python3.9/site-packages/salabim/salabim.py:33898\u001b[0m, in \u001b[0;36mExponential.sample\u001b[0;34m(self)\u001b[0m\n\u001b[1;32m  33892\u001b[0m \u001b[39mdef\u001b[39;00m \u001b[39msample\u001b[39m(\u001b[39mself\u001b[39m) \u001b[39m-\u001b[39m\u001b[39m>\u001b[39m \u001b[39mfloat\u001b[39m:\n\u001b[1;32m  33893\u001b[0m \u001b[39m    \u001b[39m\u001b[39m\"\"\"\u001b[39;00m\n\u001b[1;32m  33894\u001b[0m \u001b[39m    Returns\u001b[39;00m\n\u001b[1;32m  33895\u001b[0m \u001b[39m    -------\u001b[39;00m\n\u001b[1;32m  33896\u001b[0m \u001b[39m    Sample of the distribution : float\u001b[39;00m\n\u001b[1;32m  33897\u001b[0m \u001b[39m    \"\"\"\u001b[39;00m\n\u001b[0;32m> 33898\u001b[0m     \u001b[39mreturn\u001b[39;00m \u001b[39mself\u001b[39;49m\u001b[39m.\u001b[39;49mrandomstream\u001b[39m.\u001b[39;49mexpovariate(\u001b[39m1\u001b[39;49m \u001b[39m/\u001b[39;49m (\u001b[39mself\u001b[39;49m\u001b[39m.\u001b[39;49m_mean)) \u001b[39m*\u001b[39m \u001b[39mself\u001b[39m\u001b[39m.\u001b[39mtime_unit_factor\n",
      "File \u001b[0;32m~/miniforge3/envs/env_sim/lib/python3.9/random.py:619\u001b[0m, in \u001b[0;36mRandom.expovariate\u001b[0;34m(self, lambd)\u001b[0m\n\u001b[1;32m    605\u001b[0m \u001b[39m\u001b[39m\u001b[39m\"\"\"Exponential distribution.\u001b[39;00m\n\u001b[1;32m    606\u001b[0m \n\u001b[1;32m    607\u001b[0m \u001b[39mlambd is 1.0 divided by the desired mean.  It should be\u001b[39;00m\n\u001b[0;32m   (...)\u001b[0m\n\u001b[1;32m    612\u001b[0m \n\u001b[1;32m    613\u001b[0m \u001b[39m\"\"\"\u001b[39;00m\n\u001b[1;32m    614\u001b[0m \u001b[39m# lambd: rate lambd = 1/mean\u001b[39;00m\n\u001b[1;32m    615\u001b[0m \u001b[39m# ('lambda' is a Python reserved word)\u001b[39;00m\n\u001b[1;32m    616\u001b[0m \n\u001b[1;32m    617\u001b[0m \u001b[39m# we use 1-random() instead of random() to preclude the\u001b[39;00m\n\u001b[1;32m    618\u001b[0m \u001b[39m# possibility of taking the log of zero.\u001b[39;00m\n\u001b[0;32m--> 619\u001b[0m \u001b[39mreturn\u001b[39;00m \u001b[39m-\u001b[39m_log(\u001b[39m1.0\u001b[39;49m \u001b[39m-\u001b[39;49m \u001b[39mself\u001b[39;49m\u001b[39m.\u001b[39;49mrandom()) \u001b[39m/\u001b[39m lambd\n",
      "\u001b[0;31mKeyboardInterrupt\u001b[0m: "
     ]
    }
   ],
   "source": [
    "# %%script false --no-raise-error # comment out this line to run the simulation CTRL + /\n",
    "# Initialize an empty list\n",
    "# Execute the simulation\n",
    "dfs = []\n",
    "\n",
    "for j in EVSES:\n",
    "    df = sim_x_MMC(\n",
    "        arrival_rate=j * arrival_rate,\n",
    "        processing_rate=processing_rate,\n",
    "        charging_stations=j,\n",
    "        sim_time=sim_time,\n",
    "        number_of_simulations=sim_reps,\n",
    "    )\n",
    "\n",
    "    # Append df to dfs\n",
    "    dfs.append(df)\n",
    "\n",
    "# Concatenate all DataFrames in dfs\n",
    "df_total = pd.concat(dfs, ignore_index=True)\n",
    "\n",
    "df_total.to_csv(\"./sim_results/\" + sim_session_name)"
   ]
  },
  {
   "cell_type": "code",
   "execution_count": null,
   "metadata": {},
   "outputs": [],
   "source": [
    "# student-t distribution\n",
    "# https://en.wikipedia.org/wiki/Student%27s_t-distribution#Table_of_selected_values\n",
    "# https://docs.scipy.org/doc/scipy/reference/generated/scipy.stats.t.html\n",
    "def t_sd(df, col, confidence_interval, sides=\"both\", decimals=3):\n",
    "    if sides != \"both\":\n",
    "        ci = confidence_interval\n",
    "    else:\n",
    "        ci = confidence_interval + (1 - confidence_interval) / 2\n",
    "\n",
    "    # column of interest\n",
    "    x = df[col]\n",
    "\n",
    "    # number of SD for confidence interval \n",
    "    # Note: ddof=1 for sample\n",
    "    tdst = st.t.ppf(ci, df=len(x) - 1)\n",
    "\n",
    "    return pd.DataFrame(\n",
    "        {\n",
    "            \"c\": df[\"c\"].unique()[0],\n",
    "            \"name\": col,\n",
    "            \"mean\": x.mean().round(decimals),\n",
    "            \"lbnd\": (x.mean() - tdst * x.std(ddof=1) / np.sqrt(len(x))).round(decimals),\n",
    "            \"ubnd\": (x.mean() + tdst * x.std(ddof=1) / np.sqrt(len(x))).round(decimals),\n",
    "            \"stdv\": x.std(ddof=1).round(decimals),\n",
    "            \"tdst\": tdst.round(decimals),\n",
    "            \"runs\": len(x),\n",
    "        },\n",
    "        index=[0],\n",
    "    )\n",
    "\n",
    "\n",
    "# Calculate mean and confidence interval for waiting time\n",
    "# df_evse = df_sim.groupby('c')['Wq'].agg(['mean', 'count']).reset_index()\n",
    "\n",
    "# def mean_confidence_interval(data, confidence=0.95):\n",
    "#     a = 1.0 * np.array(data)\n",
    "#     n = len(a)\n",
    "#     # m, se = np.mean(a), scipy.stats.sem(a)\n",
    "#     m, se = np.mean(a), st.t.interval(confidence, n - 1, loc=np.mean(a), scale=st.sem(a))\n",
    "#     return m, se\n",
    "\n",
    "\n",
    "def sim_mean_and_ci(df_sim):\n",
    "    # Calculate the mean and count for each 'c' group\n",
    "\n",
    "    res = []\n",
    "    for c in df_sim[\"c\"].unique():\n",
    "        df_evse = df_sim[df_sim[\"c\"] == c]\n",
    "\n",
    "        res.append(\n",
    "            t_sd(df_evse, \"Wq\", confidence_interval=0.95, sides=\"both\", decimals=3)\n",
    "        )\n",
    "        # res.append(t_sd(df_evse, \"Lq\", confidence_interval=0.95, sides=\"both\", decimals=3))\n",
    "\n",
    "    # return results\n",
    "    return pd.concat(res, axis=0, ignore_index=True)"
   ]
  },
  {
   "cell_type": "code",
   "execution_count": null,
   "metadata": {},
   "outputs": [],
   "source": [
    "# read df_total from csv\n",
    "df_sim = pd.read_csv(\"./sim_results/\" + sim_session_name)\n",
    "\n",
    "# Get unique 'c' values\n",
    "c_values = df_sim['c'].unique()\n",
    "\n",
    "# Create a list of arrays, where each array contains the 'Lq' values for a unique 'c' value\n",
    "data = [df_sim[df_sim['c'] == c]['Wq'].values for c in c_values]\n",
    "\n",
    "df_sim_ci = sim_mean_and_ci(df_sim)\n",
    "print(df_sim_ci)"
   ]
  },
  {
   "cell_type": "code",
   "execution_count": null,
   "metadata": {},
   "outputs": [],
   "source": [
    "df = dfMathResults\n",
    "\n",
    "# Create a line plot\n",
    "plt.plot(\n",
    "    df.c,\n",
    "    df.Wq,\n",
    "    label=\"Wq - math\",\n",
    "    color=ENEXIS_B_0,\n",
    "    marker=\"_\",\n",
    "    linestyle=\"dashed\",\n",
    "    linewidth=1,\n",
    "    markersize=8,\n",
    "    alpha=0.9,\n",
    "    markerfacecolor=ENEXIS_B_0,\n",
    "    markeredgecolor=ENEXIS_B_0,\n",
    "    markeredgewidth=2,\n",
    ")\n",
    "\n",
    "plt.fill_between(\n",
    "    df_sim_ci['c'], \n",
    "    df_sim_ci['lbnd'], \n",
    "    df_sim_ci['ubnd'], \n",
    "    color=ENEXIS_G_1, \n",
    "    alpha=0.5\n",
    "    )\n",
    "\n",
    "\n",
    "# Create a violin plot for the second data series\n",
    "parts = plt.violinplot(data, positions=c_values, showmeans=True, showmedians=False)\n",
    "\n",
    "# Coloring the violin plot\n",
    "for pc in parts['bodies']:\n",
    "    pc.set_facecolor(ENEXIS_P_0)\n",
    "    pc.set_zorder(0)\n",
    "    pc.set_linewidth(1)\n",
    "    pc.set_alpha(0.5)\n",
    "    pc.set_label(\"Wq - sim\")\n",
    "\n",
    "parts['cmeans'].set_color(ENEXIS_G_0)\n",
    "parts['cmaxes'].set_color(ENEXIS_P_1)\n",
    "parts['cmins'].set_color(ENEXIS_P_1)\n",
    "parts['cbars'].set_color(ENEXIS_P_1)\n",
    "parts['cbars'].set_linewidth(1)\n",
    "\n",
    "# Create a patch \n",
    "violin_patch_the = mpatches.Patch(color=ENEXIS_B_0, label='Wq - Theoretical')\n",
    "violin_patch_sim = mpatches.Patch(color=ENEXIS_P_0, label='Wq - Simulations')\n",
    "violin_patch_avg = mpatches.Patch(color=ENEXIS_G_0, label='Wq - Simulation mean')\n",
    "violin_patch_int = mpatches.Patch(color=ENEXIS_G_1, label='Wq - Confidence interval 95% ')\n",
    "\n",
    "# Add labels and title\n",
    "plt.xlabel(\"# EVSE's\")\n",
    "plt.ylabel(\"avg. waiting time\")\n",
    "plt.title(f\"Charging Hub {df.loc[1, 'RO']} Utilization [MMC]\")\n",
    "plt.suptitle(f\"sim. time: {sim_time}, # reps.: {sim_reps}\", fontsize=8)\n",
    "plt.legend(handles=[ violin_patch_the, violin_patch_sim, violin_patch_avg, violin_patch_int])\n",
    "\n",
    "# Save the plot\n",
    "plt.savefig(f\"./figures/math_vs_sim_{df.loc[0,'RO']}_{sim_session_name}.png\", dpi=300, bbox_inches='tight')\n",
    "\n",
    "# Display the plot\n",
    "plt.show()\n"
   ]
  },
  {
   "cell_type": "markdown",
   "metadata": {},
   "source": [
    "## Example 1\n",
    "\n",
    "Cars arrive at a single charging station according to a Poisson input process with a mean rate of 40 per hour. The time required to charge a car has an exponential distribution with a mean of 50 per hour. Cars are charged by a single charging station.\n",
    "\n",
    "> Find the average waiting time of a car."
   ]
  },
  {
   "cell_type": "markdown",
   "metadata": {},
   "source": [
    "#### Solution\n",
    "\n",
    "Given:\n",
    "\n",
    "$\\lambda = 40/hour$, $\\mu = 50/hour$\n",
    "\n",
    "Average waiting time of a car before receiving service ($W_q$) = $\\cfrac{40}{50(50-40)}$ = 4.8 minutes"
   ]
  },
  {
   "cell_type": "markdown",
   "metadata": {},
   "source": [
    "#### Simulation of Example 1"
   ]
  },
  {
   "cell_type": "code",
   "execution_count": 17,
   "metadata": {},
   "outputs": [
    {
     "name": "stdout",
     "output_type": "stream",
     "text": [
      " c  lambda  mu  RO  P0  Lq  Wq  Ls  Ws\n",
      " 1      40  50 0.8 0.2 3.2 4.8 4.0 6.0\n"
     ]
    }
   ],
   "source": [
    "# mathematically calculated results\n",
    "# instantanious\n",
    "print_mm1(arrival_rate=40, processing_rate=50)"
   ]
  },
  {
   "cell_type": "code",
   "execution_count": 18,
   "metadata": {},
   "outputs": [
    {
     "name": "stdout",
     "output_type": "stream",
     "text": [
      " c  lambda  mu  RO  P0  Lq  Wq  Ls  Ws\n",
      " 1      40  50 0.8 0.2 3.2 4.8 4.0 6.0\n"
     ]
    }
   ],
   "source": [
    "# mathematically calculated results\n",
    "# instantanious\n",
    "print_mmc(arrival_rate=40, processing_rate=50, charging_stations=1)"
   ]
  },
  {
   "cell_type": "code",
   "execution_count": null,
   "metadata": {},
   "outputs": [],
   "source": [
    "# Run simulation X times with different random seeds\n",
    "# takes about 20 seconds for 20 simulations of 7 days = 10080\n",
    "print(\n",
    "    MMc_clt(\n",
    "        arrival_rate=40,  # cars per hour\n",
    "        processing_rate=50,  # cars per hour\n",
    "        charging_stations=1,  # charging station\n",
    "        sim_time=60 * 24 * 7,  # minutes in a week\n",
    "        number_of_simulations=20,  # simulations\n",
    "        confidence_interval=0.95,  # confidence interval\n",
    "    ).to_string(index=False)\n",
    ")"
   ]
  },
  {
   "cell_type": "markdown",
   "metadata": {},
   "source": [
    "## Example 2\n",
    "\n",
    "New Delhi Charging Hub has a single charging station. During the rush hours, customers arrive at the rate of 10 per hour. The average number of customers that can be served is 12 per hour. Find out the following:\n",
    "\n",
    "1. Probability that the ticket counter is free.\n",
    "1. Average number of customers in the queue.\n"
   ]
  },
  {
   "cell_type": "markdown",
   "metadata": {},
   "source": [
    "### Solution\n",
    "\n",
    "Given:\n",
    "\n",
    "$\\lambda = 10/hour$, $\\mu = 12/hour$\n",
    "\n",
    "1. Probability that the charging station is free ($P_o$) = $1 - \\cfrac{\\lambda}{\\mu} = 1 - \\cfrac{10}{12} = \\cfrac{1}{6}$\n",
    "1. Average number of customers in the queue ($L_q$ ) = $\\cfrac{\\lambda^2}{\\mu(\\mu-\\lambda)} = \\cfrac{10^2}{12(12-10)} = \\cfrac{25}{6} = 4.16666$\n",
    "   "
   ]
  },
  {
   "cell_type": "markdown",
   "metadata": {},
   "source": [
    "#### Simulation of Example 2"
   ]
  },
  {
   "cell_type": "code",
   "execution_count": 19,
   "metadata": {},
   "outputs": [
    {
     "name": "stdout",
     "output_type": "stream",
     "text": [
      " c  lambda  mu   RO   P0   Lq   Wq  Ls   Ws\n",
      " 1      10  12 0.83 0.17 4.17 25.0 5.0 30.0\n"
     ]
    }
   ],
   "source": [
    "print_mm1(arrival_rate=10, processing_rate=12)"
   ]
  },
  {
   "cell_type": "code",
   "execution_count": 20,
   "metadata": {},
   "outputs": [
    {
     "name": "stdout",
     "output_type": "stream",
     "text": [
      " c  lambda  mu   RO   P0   Lq   Wq  Ls   Ws\n",
      " 1      10  12 0.83 0.17 4.17 25.0 5.0 30.0\n"
     ]
    }
   ],
   "source": [
    "# mathematically calculated results\n",
    "# instantanious\n",
    "print_mmc(arrival_rate=10, processing_rate=12, charging_stations= 1 )"
   ]
  },
  {
   "cell_type": "code",
   "execution_count": null,
   "metadata": {},
   "outputs": [],
   "source": [
    "# Run simulation X times with different random seeds\n",
    "# takes about 25 seconds for 20 simulations of 28 days = 40320\n",
    "print(\n",
    "    MMc_clt(\n",
    "        arrival_rate=10 / 60,  # cars per hour\n",
    "        processing_rate=12 / 60,  # cars per hour\n",
    "        charging_stations=1,  # charging station\n",
    "        sim_time=60 * 24 * 7 * 4,  # minutes in a month\n",
    "        number_of_simulations=20,  # simulations\n",
    "        confidence_interval=0.95,  # confidence interval\n",
    "    ).to_string(index=False)\n",
    ")"
   ]
  },
  {
   "cell_type": "markdown",
   "metadata": {},
   "source": [
    "## Example 3\n",
    "\n",
    "At Bharat charging station, cars arrive according to a Poisson process with an average time of 5 minutes between arrivals. The service time is exponentially distributed with mean time = 2 minutes. On the basis of this information, find out\n",
    "\n",
    "1. What would be the average queue length?\n",
    "1. What is the average waiting time of a car before receiving petrol?\n",
    "1. What would be the average number of customers in the queuing system?\n",
    "1. What is the average time spent by a car in the petrol pump?\n",
    "\n",
    "### Solution\n",
    "\n",
    "Given  \n",
    "\n",
    "$\\lambda = 12/hour$, $\\mu = 30/hour$\n",
    "\n",
    "Average inter arrival time = $\\cfrac{1}{\\lambda} = 5 minutes = \\cfrac{1}{12} = \\lambda = 12/hour$\n",
    " \t \t \t \t \n",
    "Average service time =\t$\\cfrac{1}{\\mu} = 2 minutes = \\cfrac{1}{30} = \\mu = 30/hour$\n",
    "\n",
    "\n",
    " Performance Indicator                                                 | Formula \n",
    ":----------------------------------------------------------------------|:-----------------------------------------------\n",
    " Average queue length ($L_q$ )                                         | $ = \\cfrac{12^2}{30(30-12)} = \\cfrac{4}{15}$\n",
    " Average waiting time of a car before being charged ($W_q$)            | $ = \\cfrac{12}{30(30-12)} = $ 1.33 minutes\n",
    " Average number of customers, ($L_s$)                                  | $ = \\cfrac{12}{30-12} = \\cfrac{2}{3}$\t \n",
    " Average time spent at the charging station ($W_s$)                    | $ = \\cfrac{1}{\\mu-\\lambda} = \\cfrac{1}{30-12} = $ 3.33 minutes"
   ]
  },
  {
   "cell_type": "code",
   "execution_count": 23,
   "metadata": {},
   "outputs": [
    {
     "name": "stdout",
     "output_type": "stream",
     "text": [
      " c  lambda  mu  RO  P0   Lq   Wq   Ls   Ws\n",
      " 1      12  30 0.4 0.6 0.27 1.33 0.67 3.33\n"
     ]
    }
   ],
   "source": [
    "print_mm1(arrival_rate=12, processing_rate=30)"
   ]
  },
  {
   "cell_type": "code",
   "execution_count": 24,
   "metadata": {},
   "outputs": [
    {
     "name": "stdout",
     "output_type": "stream",
     "text": [
      " c  lambda  mu  RO  P0   Lq   Wq   Ls   Ws\n",
      " 1      12  30 0.4 0.6 0.27 1.33 0.67 3.33\n"
     ]
    }
   ],
   "source": [
    "# mathematically calculated results\n",
    "# instantanious\n",
    "print_mmc(arrival_rate=12, processing_rate=30, charging_stations= 1 )\n"
   ]
  },
  {
   "cell_type": "code",
   "execution_count": null,
   "metadata": {},
   "outputs": [],
   "source": [
    "# Run simulation X times with different random seeds\n",
    "# takes about 30 seconds for 20 simulations of 28 days = 40320\n",
    "print(\n",
    "    MMc_clt(\n",
    "        arrival_rate=12 / 60,  # cars per hour\n",
    "        processing_rate=30 / 60,  # cars per hour\n",
    "        charging_stations=1,  # charging station\n",
    "        sim_time=60 * 24 * 7 * 4,  # minutes in a month\n",
    "        number_of_simulations=20,  # simulations\n",
    "        confidence_interval=0.95,  # confidence interval\n",
    "    ).to_string(index=False)\n",
    ")"
   ]
  },
  {
   "cell_type": "markdown",
   "metadata": {},
   "source": [
    "## Example 4\n",
    "\n",
    "Enexis is considering to operate a single charging station. Management estimates that customers will arrive at the rate of 15 per hour. The charging station can charge a car at the rate of one every 3 minutes.\n",
    "\n",
    "Assuming Poisson arrivals and exponential service find\n",
    "\n",
    "1. Average number in the waiting line.\n",
    "1. Average waiting time in line.\n",
    "1. Average number in the system.\n",
    "1. Average waiting time in the system.\n",
    "\n",
    "### Solution.\n",
    "Given  \n",
    "\n",
    "$\\lambda = 15/hour$, $\\mu = 20/hour$\n",
    "\n",
    " Performance Indicator                                                 | Formula \n",
    ":----------------------------------------------------------------------|:-----------------------------------------------\n",
    " Average queue length ($L_q$ )                                         | $ = \\cfrac{15^2}{20(20-15)} = $ 2.25 cars\n",
    " Average waiting time of a car before being charged ($W_q$)            | $ = \\cfrac{15}{20(20-15)} = $ 0.15 hours = 9 minutes\n",
    " Average number of customers, ($L_s$)                                  | $ = \\cfrac{15}{20-15} = $ 3 cars\t\n",
    " Average time spent at the charging station ($W_s$)                    | $ = \\cfrac{1}{\\mu-\\lambda} = \\cfrac{1}{20-15} = $ 12 minutes "
   ]
  },
  {
   "cell_type": "code",
   "execution_count": 25,
   "metadata": {},
   "outputs": [
    {
     "name": "stdout",
     "output_type": "stream",
     "text": [
      " c  lambda  mu   RO   P0   Lq  Wq  Ls   Ws\n",
      " 1      15  20 0.75 0.25 2.25 9.0 3.0 12.0\n"
     ]
    }
   ],
   "source": [
    "print_mm1(arrival_rate=15, processing_rate=20)"
   ]
  },
  {
   "cell_type": "code",
   "execution_count": 26,
   "metadata": {},
   "outputs": [
    {
     "name": "stdout",
     "output_type": "stream",
     "text": [
      " c  lambda  mu   RO   P0   Lq  Wq  Ls   Ws\n",
      " 1      15  20 0.75 0.25 2.25 9.0 3.0 12.0\n"
     ]
    }
   ],
   "source": [
    "print_mmc(arrival_rate=15, processing_rate=20, charging_stations= 1 )"
   ]
  },
  {
   "cell_type": "code",
   "execution_count": null,
   "metadata": {},
   "outputs": [],
   "source": [
    "# Run simulation X times with different random seeds\n",
    "# takes about 35 seconds for 20 simulations of 28 days = 40320\n",
    "print(\n",
    "    MMc_clt(\n",
    "        arrival_rate=15 / 60,  # cars per hour\n",
    "        processing_rate=20 / 60,  # cars per hour\n",
    "        charging_stations=1,  # charging station\n",
    "        sim_time=60 * 24 * 7 * 4,  # minutes in a month\n",
    "        number_of_simulations=20,  # simulations\n",
    "        confidence_interval=0.95,  # confidence interval\n",
    "    ).to_string(index=False)\n",
    ")"
   ]
  },
  {
   "cell_type": "markdown",
   "metadata": {},
   "source": [
    "## Example 5\n",
    "\n",
    "Chhabra Saree Emporium has a single charging station. During the rush hours, cars arrive at the rate of 10 per hour. The average number of customers that can be processed by the charging station is 12 per hour. On the basis of this information, find the following:\n",
    "\n",
    "1. Probability that the charging station is idle\n",
    "1. Average number of customers in the queue\n",
    "1. Average time a customer spends in the queue\n",
    "1. Average number of cars in the queuing system\n",
    "1. Average time a customer spends in the system\n",
    "\n",
    "\n",
    "### Solution.\n",
    "Given  \n",
    "\n",
    "$\\lambda = 10/hour$, $\\mu = 12/hour$\n",
    "\n",
    " Performance Indicator                                     | Formula \n",
    ":----------------------------------------------------------|:-----------------------------------------------\n",
    " Probability of zero unit in the queue ($P_o$)             | $ = 1 - \\cfrac{\\lambda}{\\mu} = 1 - \\cfrac{10}{12} = \\cfrac{1}{6}$\n",
    " Average queue length ($L_q$ )                             | $ = \\cfrac{\\lambda^2}{\\mu(\\mu-\\lambda)} = \\cfrac{10^2}{12(12-10)} = \\cfrac{25}{6}$ cars\n",
    " Average waiting time of an arrival ($W_q$)                | $ = \\cfrac{\\lambda}{\\mu(\\mu-\\lambda)} = \\cfrac{10}{12(12-10)} = $ 25 minutes\n",
    " Average number of units in the system ($L_s$)             | $ = \\cfrac{\\lambda}{\\mu-\\lambda} = \\cfrac{10}{12-10} = $ 5 cars\n",
    " Average waiting time of an arrival in the system ($W_s$)  | $ = \\cfrac{1}{\\mu-\\lambda} = \\cfrac{1}{12-10} =$ 30 minutes\n",
    " \n",
    " "
   ]
  },
  {
   "cell_type": "code",
   "execution_count": 27,
   "metadata": {},
   "outputs": [
    {
     "name": "stdout",
     "output_type": "stream",
     "text": [
      " c  lambda  mu   RO   P0   Lq   Wq  Ls   Ws\n",
      " 1      10  12 0.83 0.17 4.17 25.0 5.0 30.0\n"
     ]
    }
   ],
   "source": [
    "print_mm1(arrival_rate=10, processing_rate=12)"
   ]
  },
  {
   "cell_type": "code",
   "execution_count": 28,
   "metadata": {},
   "outputs": [
    {
     "name": "stdout",
     "output_type": "stream",
     "text": [
      " c  lambda  mu   RO   P0   Lq   Wq  Ls   Ws\n",
      " 1      10  12 0.83 0.17 4.17 25.0 5.0 30.0\n"
     ]
    }
   ],
   "source": [
    "print_mmc(arrival_rate=10, processing_rate=12, charging_stations= 1 )"
   ]
  },
  {
   "cell_type": "code",
   "execution_count": null,
   "metadata": {},
   "outputs": [],
   "source": [
    "# Run simulation X times with different random seeds\n",
    "# takes about 30 seconds for 30 simulations of 28 days = 40320\n",
    "print(\n",
    "    MMc_clt(\n",
    "        arrival_rate=10 / 60,  # cars per hour\n",
    "        processing_rate=12 / 60,  # cars per hour\n",
    "        charging_stations=1,  # charging station\n",
    "        sim_time=60 * 24 * 7 * 4,  # minutes in a month\n",
    "        number_of_simulations=30,  # simulations\n",
    "        confidence_interval=0.95,  # confidence interval\n",
    "    ).to_string(index=False)\n",
    ")"
   ]
  },
  {
   "cell_type": "markdown",
   "metadata": {},
   "source": [
    "# System SetUp"
   ]
  },
  {
   "cell_type": "code",
   "execution_count": 29,
   "metadata": {},
   "outputs": [
    {
     "name": "stdout",
     "output_type": "stream",
     "text": [
      "python implementation: CPython\n",
      "python version: 3.9.18 | packaged by conda-forge | (main, Aug 30 2023, 03:49:32) \n",
      "[GCC 12.3.0]\n",
      "salabim: 23.3.12\n"
     ]
    }
   ],
   "source": [
    "import sys\n",
    "import platform\n",
    "from importlib_metadata import version\n",
    "\n",
    "print(f\"python implementation: {platform.python_implementation()}\")\n",
    "print(f\"python version: {sys.version}\")\n",
    "print(f\"salabim: {version('salabim')}\")"
   ]
  }
 ],
 "metadata": {
  "kernelspec": {
   "display_name": "SIMPY",
   "language": "python",
   "name": "python3"
  },
  "language_info": {
   "codemirror_mode": {
    "name": "ipython",
    "version": 3
   },
   "file_extension": ".py",
   "mimetype": "text/x-python",
   "name": "python",
   "nbconvert_exporter": "python",
   "pygments_lexer": "ipython3",
   "version": "3.9.18"
  }
 },
 "nbformat": 4,
 "nbformat_minor": 2
}
