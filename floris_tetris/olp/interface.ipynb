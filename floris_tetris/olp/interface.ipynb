{
 "cells": [
  {
   "cell_type": "markdown",
   "metadata": {},
   "source": [
    "### Charging Profile"
   ]
  },
  {
   "cell_type": "code",
   "execution_count": 79,
   "metadata": {},
   "outputs": [],
   "source": [
    "from scipy.optimize import fsolve\n",
    "import numpy as np\n",
    "\n",
    "\n",
    "def charge_profile(\n",
    "    soc: float,\n",
    "    d_c: float,\n",
    "    cap: float = 70,\n",
    "    ev_mpi: float = 7.36,\n",
    "    k: float = 0.1,\n",
    ") -> list:\n",
    "    \"\"\"\n",
    "    Calculate the charging profile for a given EV.\n",
    "\n",
    "    Parameters\n",
    "    ----------\n",
    "    soc : float\n",
    "        State of charge of the battery in %.\n",
    "    d_c : float\n",
    "        Desired charge of the battery in %.\n",
    "    cap : float\n",
    "        Capacity of the battery in kWh.\n",
    "    ev_mpi : float\n",
    "        Maximum power input of the EV in kW.\n",
    "    k : float\n",
    "        Charging curve constant.\n",
    "        0.01-0.03 charge aggressively,\n",
    "        0.05-0.1  prioritizing battery health and longevity\n",
    "    cv : float\n",
    "        Capacity at which the charging curve flattens in %.\n",
    "    cc : float\n",
    "        Capacity at which the charging curve starts in %.\n",
    "\n",
    "    Returns\n",
    "    -------\n",
    "    list\n",
    "        List of the charging profile in the format [time, power, charge].\n",
    "    \"\"\"\n",
    "    # --------------------------------------------------------------------------\n",
    "    # Calculate the charging profile\n",
    "    # --------------------------------------------------------------------------\n",
    "    # Calculate the charge required to reach the desired capacity\n",
    "    cc = soc * cap\n",
    "    dc = d_c * cap\n",
    "    cv = 0.8 * cap\n",
    "\n",
    "    # first part of charge < 80% of cap\n",
    "    c1 = min(dc, cv) - cc  #          charge [kWh] required\n",
    "    p1 = ev_mpi if c1 > 0 else 0  #   power [kW] required\n",
    "    t1 = 0 if c1 == 0 else c1 / p1  # time [h] required\n",
    "\n",
    "    # second part of charge > 80% of cap\n",
    "    c2 = max(dc - cv, 0)  #           second part of charge > 80% of cap\n",
    "    p2 = 0  #                          initial power [kW] required\n",
    "    t2 = 0  #                          initial time [h] required\n",
    "\n",
    "    # Define the function for the given equation\n",
    "    def equation(t):\n",
    "        return ev_mpi * (t - t1) * np.exp(-k * (t - t1)) - c2\n",
    "\n",
    "    # Initial guess\n",
    "    initial_guess = t1\n",
    "\n",
    "    # dtermime time and power for 2nd part of charge CV\n",
    "    if c2 > 0:\n",
    "        # Solve the equation numerically\n",
    "        # https://docs.scipy.org/doc/scipy/reference/generated/scipy.optimize.fsolve.html\n",
    "        solution = fsolve(func=equation, x0=initial_guess, xtol=1e-3)\n",
    "\n",
    "        t2 = solution[0]  #    time [h] required 2nd part CV\n",
    "        p2 = c2 / (t2 - t1)  # power [kW] required 2nd part CV\n",
    "\n",
    "    e2 = 0 if t2 == 0 else float(equation(t2))\n",
    "\n",
    "    return {\n",
    "        \"charge\": {\"cc\": cc, \"c1\": c1, \"c2\": c2},\n",
    "        \"result\": {\"fc\": cc + c1 + c2 + e2, \"dc\": dc, \"rm\": dc - (cc + c1 + c2 + e2)},\n",
    "        \"chrg_1\": {\"t\": t1, \"p\": p1},\n",
    "        \"chrg_2\": {\"t\": t2, \"p\": p2},\n",
    "    }"
   ]
  },
  {
   "cell_type": "code",
   "execution_count": 80,
   "metadata": {},
   "outputs": [
    {
     "name": "stdout",
     "output_type": "stream",
     "text": [
      "\n",
      "Function results\n",
      "\n",
      "{'charge': {'cc': 32.9, 'c1': 23.1, 'c2': 14.0}, 'result': {'fc': 69.99999963099643, 'dc': 70, 'rm': 3.6900357258673466e-07}, 'chrg_1': {'t': 3.1385869565217392, 'p': 7.36}, 'chrg_2': {'t': 5.562517534390779, 'p': 5.775742972106023}}\n"
     ]
    }
   ],
   "source": [
    "# --------------------------------------------------------------------------\n",
    "ev_mpi = 7.36\n",
    "soc = 0.47\n",
    "d_c = 1\n",
    "cap = 70\n",
    "\n",
    "k = 0.1\n",
    "\n",
    "print(\"\\nFunction results\\n\")\n",
    "print(charge_profile(soc, d_c, cap, ev_mpi, k))"
   ]
  }
 ],
 "metadata": {
  "kernelspec": {
   "display_name": "env_olp",
   "language": "python",
   "name": "python3"
  },
  "language_info": {
   "codemirror_mode": {
    "name": "ipython",
    "version": 3
   },
   "file_extension": ".py",
   "mimetype": "text/x-python",
   "name": "python",
   "nbconvert_exporter": "python",
   "pygments_lexer": "ipython3",
   "version": "3.10.13"
  }
 },
 "nbformat": 4,
 "nbformat_minor": 2
}
