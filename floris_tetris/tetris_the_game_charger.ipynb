{
 "cells": [
  {
   "cell_type": "markdown",
   "metadata": {},
   "source": [
    "- https://www.salabim.org/manual/\n",
    "- https://ev.caltech.edu/info\n",
    "\n",
    "\n",
    "<img src=\"./images/Enexis_JADS.png\" alt=\"Enexis JADS\" style=\"width:12%; float:right\">\n",
    "\n",
    "# EVSE charging facility\n"
   ]
  },
  {
   "cell_type": "markdown",
   "metadata": {},
   "source": [
    "### Parameters: User Input"
   ]
  },
  {
   "cell_type": "code",
   "execution_count": 1,
   "metadata": {},
   "outputs": [],
   "source": [
    "# Import salabim as sim\n",
    "import salabim as sim\n",
    "\n",
    "# arrival rate of EVs and energy requirement rate\n",
    "ev_arrival_rate = 40  # EV per hour\n",
    "energy_req_rate = 50  # KW per hour\n",
    "fix_utilization = True\n",
    "\n",
    "# SetUp Charing Infrastructure\n",
    "sim_evse = range(1, 11)\n",
    "\n",
    "# Simulation distributions  \n",
    "# M/M/c\n",
    "# inter_arr_time_distr = sim.Exponential(60 / ev_arrival_rate)  # minutes between EV's\n",
    "# energy_request_distr = sim.Exponential(60 / energy_req_rate)  # minutes to charge EV\n",
    "\n",
    "# D/D/c\n",
    "# inter_arr_time_distr = sim.Uniform(60/ev_arrival_rate, 60/ev_arrival_rate)  # fixed 1.5 minutes between EV's\n",
    "# energy_request_distr = sim.Uniform(60/energy_req_rate, 60/energy_req_rate)  # fixed 1.2 minutes to charge EV\n",
    "\n",
    "# M/M/c\n",
    "inter_arr_time_distr = sim.Gamma(shape = 1, scale= 60/ev_arrival_rate)  # minutes between EV's\n",
    "energy_request_distr = sim.Gamma(shape = 1, scale= 60/energy_req_rate)  # minutes to charge EV\n",
    "\n",
    "# Simulation time and repetitions (500,20) = 90 secs\n",
    "sim_time = 500  # minutes\n",
    "sim_reps = 20  # repetitions\n"
   ]
  },
  {
   "cell_type": "code",
   "execution_count": 2,
   "metadata": {},
   "outputs": [
    {
     "name": "stdout",
     "output_type": "stream",
     "text": [
      "results will be saved here: ./sim_results/R4_EVSE_1-10_time_500_reps_2.csv\n",
      "Charging Infrastructure #EVSE's: [1, 2, 3, 4, 5, 6, 7, 8, 9, 10]\n"
     ]
    }
   ],
   "source": [
    "# Custom function for enexis simulation\n",
    "from sim_setup import *\n",
    "from sim_runs import *\n",
    "from sim_facility import *\n",
    "\n",
    "# Create results full file name\n",
    "ffn_results = create_ffn_results(\n",
    "    report_no=4, sim_evse=sim_evse, sim_time=sim_time, sim_reps=sim_reps\n",
    ")\n",
    "\n",
    "# User feedback\n",
    "print(f\"results will be saved here: {ffn_results}\")\n",
    "print(f\"Charging Infrastructure #EVSE's: {list(sim_evse)}\")"
   ]
  },
  {
   "cell_type": "markdown",
   "metadata": {},
   "source": [
    "## Run Simulation"
   ]
  },
  {
   "cell_type": "code",
   "execution_count": 3,
   "metadata": {},
   "outputs": [
    {
     "name": "stdout",
     "output_type": "stream",
     "text": [
      "EVSE's 1, run 0 completed at 2023-12-10 20:56:53.440645\n",
      "EVSE's 2, run 0 completed at 2023-12-10 20:56:53.762388EVSE's 3, run 0 completed at 2023-12-10 20:56:53.771628\n",
      "\n",
      "EVSE's 1, run 1 completed at 2023-12-10 20:56:53.919457\n",
      "EVSE's 4, run 0 completed at 2023-12-10 20:56:54.500346\n",
      "EVSE's 2, run 1 completed at 2023-12-10 20:56:54.708883\n",
      "EVSE's 3, run 1 completed at 2023-12-10 20:56:54.888185\n",
      "EVSE's 5, run 0 completed at 2023-12-10 20:56:55.164876\n",
      "EVSE's 4, run 1 completed at 2023-12-10 20:56:55.342920\n",
      "EVSE's 6, run 0 completed at 2023-12-10 20:56:55.813640\n",
      "EVSE's 7, run 0 completed at 2023-12-10 20:56:56.179624\n",
      "EVSE's 5, run 1 completed at 2023-12-10 20:56:56.236642\n",
      "EVSE's 8, run 0 completed at 2023-12-10 20:56:56.720634\n",
      "EVSE's 6, run 1 completed at 2023-12-10 20:56:56.789194\n",
      "EVSE's 7, run 1 completed at 2023-12-10 20:56:57.045772\n",
      "EVSE's 9, run 0 completed at 2023-12-10 20:56:57.253213\n",
      "EVSE's 8, run 1 completed at 2023-12-10 20:56:57.476335\n",
      "EVSE's 10, run 0 completed at 2023-12-10 20:56:57.662564\n",
      "EVSE's 9, run 1 completed at 2023-12-10 20:56:57.919766\n",
      "EVSE's 10, run 1 completed at 2023-12-10 20:56:58.300500\n",
      "\n",
      "The simulation took 0.09366609255472819 minutes to execute.\n",
      "\n",
      "   run  lambda    mu   c        RO  P0        Lq        Wq        Ls        Ws\n",
      "0    0    40.0  50.0   1  0.826139   0  2.425320  3.609107  3.251458  4.843127\n",
      "1    1    40.0  50.0   1  0.837470   0  2.680484  3.909671  3.517954  5.135558\n",
      "0    0    80.0  50.0   2  0.819647   0  2.904894  2.125989  4.544188  3.341430\n",
      "1    1    80.0  50.0   2  0.842924   0  3.009537  2.218638  4.695386  3.471984\n",
      "0    0   120.0  50.0   3  0.752337   0  2.076453  0.986909  4.333464  2.186954\n",
      "1    1   120.0  50.0   3  0.844135   0  5.355527  2.608517  7.887933  3.844007\n",
      "0    0   160.0  50.0   4  0.759429   0  2.355878  0.915971  5.393595  2.100257\n",
      "1    1   160.0  50.0   4  0.798904   0  1.820229  0.682756  5.015846  1.881849\n",
      "0    0   200.0  50.0   5  0.790821   0  2.013649  0.613169  5.967753  1.821693\n",
      "1    1   200.0  50.0   5  0.782093   0  1.428059  0.433533  5.338524  1.620828\n",
      "0    0   240.0  50.0   6  0.758599   0  1.173417  0.306553  5.725013  1.499678\n",
      "1    1   240.0  50.0   6  0.797487   0  2.512338  0.630095  7.297259  1.836360\n",
      "0    0   280.0  50.0   7  0.762371   0  1.288392  0.283014  6.624992  1.471891\n",
      "1    1   280.0  50.0   7  0.755232   0  0.992627  0.219705  6.279248  1.390947\n",
      "0    0   320.0  50.0   8  0.777087   0  1.212464  0.233886  7.429157  1.433942\n",
      "1    1   320.0  50.0   8  0.752118   0  1.167529  0.226881  7.184474  1.397898\n",
      "0    0   360.0  50.0   9  0.780821   0  1.544916  0.249316  8.572306  1.458541\n",
      "1    1   360.0  50.0   9  0.777153   0  1.601542  0.271724  8.595921  1.460504\n",
      "0    0   400.0  50.0  10  0.779418   0  1.500134  0.228306  9.294309  1.426258\n",
      "1    1   400.0  50.0  10  0.754670   0  0.778074  0.120408  8.324770  1.291091\n"
     ]
    }
   ],
   "source": [
    "# %%script false --no-raise-error\n",
    "# comment out the line above to run the simulation CTRL + /\n",
    "\n",
    "# Start the timer\n",
    "start_time = tm.time()\n",
    "\n",
    "sim_results = sim_facility_for_range_of_EVSE(\n",
    "    inter_arr_time_distr=inter_arr_time_distr,  # EV per hour\n",
    "    energy_request_distr=energy_request_distr,  # KW per hour\n",
    "    range_of_EVSE=sim_evse,  # range of EVSE's\n",
    "    sim_time=sim_time,  # minutes\n",
    "    fixed_utilization=fix_utilization,\n",
    "    number_of_simulations=sim_reps,  # number of simulations\n",
    "    ffn_results=ffn_results,  # set to None if you don't want to save the results\n",
    "    verbose=True,  # set to True to see the progress of the simulation\n",
    ")\n",
    "\n",
    "# End the timer\n",
    "end_time = tm.time()\n",
    "\n",
    "# Calculate and print the execution time\n",
    "execution_time = (end_time - start_time)/60\n",
    "print(f\"\\nThe simulation took {execution_time} minutes to execute.\\n\")\n",
    "\n",
    "# print the results\n",
    "print(sim_results)"
   ]
  },
  {
   "cell_type": "markdown",
   "metadata": {},
   "source": [
    "<img src=\"./images/ev_shuffle.gif\" alt=\"Enexis JADS\" style=\"width:100%; float:Center\">"
   ]
  },
  {
   "cell_type": "markdown",
   "metadata": {},
   "source": [
    "### Analysis\n",
    "\n",
    "For each performance indicator we will determine the mean and a confidence interval"
   ]
  },
  {
   "cell_type": "code",
   "execution_count": 4,
   "metadata": {},
   "outputs": [
    {
     "name": "stdout",
     "output_type": "stream",
     "text": [
      "\n",
      "Simulation Details:\n",
      "\n",
      "     c    name    mean    lbnd    ubnd  stdv   tdst  runs\n",
      "0    1  lambda   40.00   40.00   40.00  0.00  12.71     2\n",
      "1    2  lambda   80.00   80.00   80.00  0.00  12.71     2\n",
      "2    3  lambda  120.00  120.00  120.00  0.00  12.71     2\n",
      "3    4  lambda  160.00  160.00  160.00  0.00  12.71     2\n",
      "4    5  lambda  200.00  200.00  200.00  0.00  12.71     2\n",
      "..  ..     ...     ...     ...     ...   ...    ...   ...\n",
      "75   6      Ws    1.67   -0.47    3.81  0.24  12.71     2\n",
      "76   7      Ws    1.43    0.92    1.95  0.06  12.71     2\n",
      "77   8      Ws    1.42    1.19    1.64  0.03  12.71     2\n",
      "78   9      Ws    1.46    1.45    1.47  0.00  12.71     2\n",
      "79  10      Ws    1.36    0.50    2.22  0.10  12.71     2\n",
      "\n",
      "[80 rows x 8 columns]\n",
      "\n",
      "Simulation Summary:\n",
      "\n",
      " c  lambda   mu   RO  P0   Lq   Wq   Ls   Ws  runs\n",
      " 1    40.0 50.0 0.83 0.0 2.55 3.76 3.38 4.99     2\n",
      " 2    80.0 50.0 0.83 0.0 2.96 2.17 4.62 3.41     2\n",
      " 3   120.0 50.0 0.80 0.0 3.72 1.80 6.11 3.02     2\n",
      " 4   160.0 50.0 0.78 0.0 2.09 0.80 5.20 1.99     2\n",
      " 5   200.0 50.0 0.79 0.0 1.72 0.52 5.65 1.72     2\n",
      " 6   240.0 50.0 0.78 0.0 1.84 0.47 6.51 1.67     2\n",
      " 7   280.0 50.0 0.76 0.0 1.14 0.25 6.45 1.43     2\n",
      " 8   320.0 50.0 0.76 0.0 1.19 0.23 7.31 1.42     2\n",
      " 9   360.0 50.0 0.78 0.0 1.57 0.26 8.58 1.46     2\n",
      "10   400.0 50.0 0.77 0.0 1.14 0.17 8.81 1.36     2\n"
     ]
    }
   ],
   "source": [
    "# potentially read df_total from disk csv\n",
    "# sim_results = pd.read_csv(ffn_results, sep=\";\", decimal=\".\", index_col=False)\n",
    "\n",
    "print(\"\\nSimulation Details:\\n\")\n",
    "print(get_mean_with_ci(sim_results))\n",
    "\n",
    "print(\"\\nSimulation Summary:\\n\")\n",
    "facility_results = get_sim_summary(sim_results, output=True)"
   ]
  },
  {
   "cell_type": "markdown",
   "metadata": {},
   "source": [
    "#### under development"
   ]
  },
  {
   "cell_type": "code",
   "execution_count": null,
   "metadata": {},
   "outputs": [],
   "source": [
    "# # import matplotlib.pyplot as plt\n",
    "\n",
    "# # plt.plot(*waitingline.length.tx(), linewidth=1, color=\"red\")\n",
    "# # plt.show()\n",
    "\n",
    "# # Print server statistics\n",
    "# I = monEVSE_IDLE.mean()\n",
    "# P = monEVSE_PROC.mean()\n",
    "# R = (P * monEVSE_PROC.number_of_entries()) / (\n",
    "#     (I * monEVSE_IDLE.number_of_entries()) + (P * monEVSE_PROC.number_of_entries())\n",
    "# )\n",
    "\n",
    "# print(f\"IDLE: {I}, PROC: {P}, UTIL: {R}\")\n",
    "\n",
    "# def prtEVSE(evse):\n",
    "#     print(\n",
    "#         f\"name: {evse.proc.name()}, seq: {evse.proc.sequence_number()}, mean: {evse.proc.mean()}\"\n",
    "#     )\n",
    "\n",
    "\n",
    "# [prtEVSE(x) in ChargingStations for x in ChargingStations]\n",
    "\n",
    "# print(f\"Total: {sum(x.proc for x in ChargingStations).mean()}\")\n",
    "# ChargingStations[0].status.print_histogram(values=True)\n",
    "# ChargingStations[0].mode.print_histogram(values=True)"
   ]
  },
  {
   "cell_type": "markdown",
   "metadata": {},
   "source": [
    "# System SetUp"
   ]
  },
  {
   "cell_type": "code",
   "execution_count": null,
   "metadata": {},
   "outputs": [],
   "source": [
    "import sys\n",
    "import platform\n",
    "from importlib_metadata import version\n",
    "\n",
    "print(f\"python implementation: {platform.python_implementation()}\")\n",
    "print(f\"python version: {sys.version}\")\n",
    "print(f\"salabim: {version('salabim')}\")"
   ]
  }
 ],
 "metadata": {
  "kernelspec": {
   "display_name": "env_sim",
   "language": "python",
   "name": "python3"
  },
  "language_info": {
   "codemirror_mode": {
    "name": "ipython",
    "version": 3
   },
   "file_extension": ".py",
   "mimetype": "text/x-python",
   "name": "python",
   "nbconvert_exporter": "python",
   "pygments_lexer": "ipython3",
   "version": "3.9.18"
  }
 },
 "nbformat": 4,
 "nbformat_minor": 2
}
