{
 "cells": [
  {
   "cell_type": "markdown",
   "metadata": {},
   "source": [
    "- https://www.salabim.org/manual/\n",
    "- https://ev.caltech.edu/info\n",
    "\n",
    "\n",
    "<img src=\"./images/Enexis_JADS.png\" alt=\"Enexis JADS\" style=\"width:12%; float:right\">\n",
    "\n",
    "# EVSE charging facility\n"
   ]
  },
  {
   "cell_type": "markdown",
   "metadata": {},
   "source": [
    "### Parameters: User Input"
   ]
  },
  {
   "cell_type": "code",
   "execution_count": 1,
   "metadata": {},
   "outputs": [],
   "source": [
    "# Import salabim as sim\n",
    "import salabim as sim\n",
    "\n",
    "# arrival rate of EVs and energy requirement rate\n",
    "ev_arrival_rate = 40  # EV per hour\n",
    "energy_req_rate = 50  # KW per hour\n",
    "fix_utilization = True\n",
    "\n",
    "# SetUp Charing Infrastructure\n",
    "sim_evse = range(1, 11)\n",
    "\n",
    "# Simulation distributions  \n",
    "# M/M/c\n",
    "# inter_arr_time_distr = sim.Exponential(60 / ev_arrival_rate)  # minutes between EV's\n",
    "# energy_request_distr = sim.Exponential(60 / energy_req_rate)  # minutes to charge EV\n",
    "\n",
    "# D/D/c\n",
    "# inter_arr_time_distr = sim.Uniform(60/ev_arrival_rate, 60/ev_arrival_rate)  # fixed 1.5 minutes between EV's\n",
    "# energy_request_distr = sim.Uniform(60/energy_req_rate, 60/energy_req_rate)  # fixed 1.2 minutes to charge EV\n",
    "\n",
    "# M/M/c\n",
    "inter_arr_time_distr = sim.Gamma(shape = 1, scale= 60/ev_arrival_rate)  # minutes between EV's\n",
    "energy_request_distr = sim.Gamma(shape = 1, scale= 60/energy_req_rate)  # minutes to charge EV\n",
    "\n",
    "# Simulation time and repetitions\n",
    "sim_time = 5000  # minutes\n",
    "sim_reps = 20  # repetitions\n"
   ]
  },
  {
   "cell_type": "code",
   "execution_count": 2,
   "metadata": {},
   "outputs": [
    {
     "name": "stdout",
     "output_type": "stream",
     "text": [
      "results will be saved here: ./sim_results/R4_EVSE_1-10_time_5000_reps_20.csv\n",
      "Charging Infrastructure #EVSE's: [1, 2, 3, 4, 5, 6, 7, 8, 9, 10]\n"
     ]
    }
   ],
   "source": [
    "# Custom function for enexis simulation\n",
    "from sim_setup import *\n",
    "\n",
    "# Create results full file name\n",
    "ffn_results = create_ffn_results(\n",
    "    report_no=4, sim_evse=sim_evse, sim_time=sim_time, sim_reps=sim_reps\n",
    ")\n",
    "\n",
    "# User feedback\n",
    "print(f\"results will be saved here: {ffn_results}\")\n",
    "print(f\"Charging Infrastructure #EVSE's: {list(sim_evse)}\")"
   ]
  },
  {
   "cell_type": "markdown",
   "metadata": {},
   "source": [
    "## Run Simulation"
   ]
  },
  {
   "cell_type": "code",
   "execution_count": 3,
   "metadata": {},
   "outputs": [
    {
     "name": "stdout",
     "output_type": "stream",
     "text": [
      "EVSE's 1, run 0 completed at 2023-12-07 13:59:17.762433\n",
      "EVSE's 2, run 0 completed at 2023-12-07 13:59:19.330173EVSE's 1, run 1 completed at 2023-12-07 13:59:19.329787\n",
      "\n",
      "EVSE's 1, run 2 completed at 2023-12-07 13:59:20.913887\n",
      "EVSE's 3, run 0 completed at 2023-12-07 13:59:21.097959\n",
      "EVSE's 2, run 1 completed at 2023-12-07 13:59:23.705058\n",
      "EVSE's 1, run 3 completed at 2023-12-07 13:59:23.768613\n",
      "EVSE's 4, run 0 completed at 2023-12-07 13:59:23.849218\n",
      "EVSE's 1, run 4 completed at 2023-12-07 13:59:26.737609\n",
      "EVSE's 2, run 2 completed at 2023-12-07 13:59:28.667108\n",
      "EVSE's 1, run 5 completed at 2023-12-07 13:59:28.711424\n",
      "EVSE's 3, run 1 completed at 2023-12-07 13:59:28.887952\n",
      "EVSE's 1, run 6 completed at 2023-12-07 13:59:30.500599\n",
      "EVSE's 1, run 7 completed at 2023-12-07 13:59:32.579599\n",
      "EVSE's 2, run 3 completed at 2023-12-07 13:59:32.649066\n",
      "EVSE's 4, run 1 completed at 2023-12-07 13:59:33.143103\n",
      "EVSE's 1, run 8 completed at 2023-12-07 13:59:34.648702\n",
      "EVSE's 3, run 2 completed at 2023-12-07 13:59:35.146617\n",
      "EVSE's 2, run 4 completed at 2023-12-07 13:59:37.129455\n",
      "EVSE's 1, run 9 completed at 2023-12-07 13:59:37.179374\n",
      "EVSE's 1, run 10 completed at 2023-12-07 13:59:39.829863\n",
      "EVSE's 2, run 5 completed at 2023-12-07 13:59:41.806689\n",
      "EVSE's 1, run 11 completed at 2023-12-07 13:59:41.966834\n",
      "EVSE's 3, run 3 completed at 2023-12-07 13:59:42.510319\n",
      "EVSE's 4, run 2 completed at 2023-12-07 13:59:42.692133\n",
      "EVSE's 1, run 12 completed at 2023-12-07 13:59:43.996463\n",
      "EVSE's 2, run 6 completed at 2023-12-07 13:59:45.964121\n",
      "EVSE's 1, run 13 completed at 2023-12-07 13:59:46.324238\n",
      "EVSE's 1, run 14 completed at 2023-12-07 13:59:48.332474\n",
      "EVSE's 3, run 4 completed at 2023-12-07 13:59:48.762928\n",
      "EVSE's 2, run 7 completed at 2023-12-07 13:59:50.055728\n",
      "EVSE's 1, run 15 completed at 2023-12-07 13:59:50.280160\n",
      "EVSE's 4, run 3 completed at 2023-12-07 13:59:51.096585\n",
      "EVSE's 1, run 16 completed at 2023-12-07 13:59:51.898972\n",
      "EVSE's 2, run 8 completed at 2023-12-07 13:59:53.877350\n",
      "EVSE's 1, run 17 completed at 2023-12-07 13:59:54.186845\n",
      "EVSE's 3, run 5 completed at 2023-12-07 13:59:54.694469\n",
      "EVSE's 1, run 18 completed at 2023-12-07 13:59:56.267370\n",
      "EVSE's 2, run 9 completed at 2023-12-07 13:59:57.629965\n",
      "EVSE's 1, run 19 completed at 2023-12-07 13:59:58.156100\n"
     ]
    }
   ],
   "source": [
    "# %%script false --no-raise-error\n",
    "# comment out the line above to run the simulation CTRL + /\n",
    "\n",
    "# Start the timer\n",
    "start_time = tm.time()\n",
    "\n",
    "sim_results = sim_facility_for_range_of_EVSE(\n",
    "    inter_arr_time_distr=inter_arr_time_distr,  # EV per hour\n",
    "    energy_request_distr=energy_request_distr,  # KW per hour\n",
    "    range_of_EVSE=sim_evse,  # range of EVSE's\n",
    "    sim_time=sim_time,  # minutes\n",
    "    fixed_utilization=fix_utilization,\n",
    "    number_of_simulations=sim_reps,  # number of simulations\n",
    "    ffn_results=ffn_results,  # set to None if you don't want to save the results\n",
    "    verbose=True,  # set to True to see the progress of the simulation\n",
    ")\n",
    "\n",
    "# End the timer\n",
    "end_time = tm.time()\n",
    "\n",
    "# Calculate and print the execution time\n",
    "execution_time = (end_time - start_time)/60\n",
    "print(f\"\\nThe simulation took {execution_time} minutes to execute.\\n\")\n",
    "\n",
    "# print the results\n",
    "print(sim_results)"
   ]
  },
  {
   "cell_type": "markdown",
   "metadata": {},
   "source": [
    "<img src=\"./images/ev_shuffle.gif\" alt=\"Enexis JADS\" style=\"width:100%; float:Center\">"
   ]
  },
  {
   "cell_type": "markdown",
   "metadata": {},
   "source": [
    "### Analysis\n",
    "\n",
    "For each performance indicator we will determine the mean and a confidence interval"
   ]
  },
  {
   "cell_type": "code",
   "execution_count": null,
   "metadata": {},
   "outputs": [],
   "source": [
    "# potentially read df_total from disk csv\n",
    "# sim_results = pd.read_csv(ffn_results, sep=\";\", decimal=\".\", index_col=False)\n",
    "\n",
    "print(\"\\nSimulation Details:\\n\")\n",
    "print(get_mean_with_ci(sim_results))\n",
    "\n",
    "print(\"\\nSimulation Summary:\\n\")\n",
    "facility_results = get_sim_summary(sim_results, output=True)"
   ]
  },
  {
   "cell_type": "markdown",
   "metadata": {},
   "source": [
    "#### under development"
   ]
  },
  {
   "cell_type": "code",
   "execution_count": null,
   "metadata": {},
   "outputs": [],
   "source": [
    "# # import matplotlib.pyplot as plt\n",
    "\n",
    "# # plt.plot(*waitingline.length.tx(), linewidth=1, color=\"red\")\n",
    "# # plt.show()\n",
    "\n",
    "# # Print server statistics\n",
    "# I = monEVSE_IDLE.mean()\n",
    "# P = monEVSE_PROC.mean()\n",
    "# R = (P * monEVSE_PROC.number_of_entries()) / (\n",
    "#     (I * monEVSE_IDLE.number_of_entries()) + (P * monEVSE_PROC.number_of_entries())\n",
    "# )\n",
    "\n",
    "# print(f\"IDLE: {I}, PROC: {P}, UTIL: {R}\")\n",
    "\n",
    "# def prtEVSE(evse):\n",
    "#     print(\n",
    "#         f\"name: {evse.proc.name()}, seq: {evse.proc.sequence_number()}, mean: {evse.proc.mean()}\"\n",
    "#     )\n",
    "\n",
    "\n",
    "# [prtEVSE(x) in ChargingStations for x in ChargingStations]\n",
    "\n",
    "# print(f\"Total: {sum(x.proc for x in ChargingStations).mean()}\")\n",
    "# ChargingStations[0].status.print_histogram(values=True)\n",
    "# ChargingStations[0].mode.print_histogram(values=True)"
   ]
  },
  {
   "cell_type": "markdown",
   "metadata": {},
   "source": [
    "# System SetUp"
   ]
  },
  {
   "cell_type": "code",
   "execution_count": null,
   "metadata": {},
   "outputs": [],
   "source": [
    "import sys\n",
    "import platform\n",
    "from importlib_metadata import version\n",
    "\n",
    "print(f\"python implementation: {platform.python_implementation()}\")\n",
    "print(f\"python version: {sys.version}\")\n",
    "print(f\"salabim: {version('salabim')}\")"
   ]
  }
 ],
 "metadata": {
  "kernelspec": {
   "display_name": "env_sim",
   "language": "python",
   "name": "python3"
  },
  "language_info": {
   "codemirror_mode": {
    "name": "ipython",
    "version": 3
   },
   "file_extension": ".py",
   "mimetype": "text/x-python",
   "name": "python",
   "nbconvert_exporter": "python",
   "pygments_lexer": "ipython3",
   "version": "3.9.18"
  }
 },
 "nbformat": 4,
 "nbformat_minor": 2
}
