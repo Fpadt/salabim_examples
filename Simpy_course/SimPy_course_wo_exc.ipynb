{
 "cells": [
  {
   "cell_type": "markdown",
   "metadata": {},
   "source": [
    "### [!!! Click HERE and login to OneDrive - Enexis if video's don't show !!! ](https://onedrive.live.com/?id=61EDBDDEE41D202A%21244922&cid=61EDBDDEE41D202A&sb=name&sd=1) \n",
    "\n"
   ]
  },
  {
   "cell_type": "markdown",
   "metadata": {},
   "source": [
    "# Introduction to Dynamic Systems and Discrete-Event Simulation Models\n",
    "\n",
    "Let’s unravel the power of discrete-event simulations. To begin this course, you’ll learn to identify problems where discrete-event simulations can be helpful in supporting management and decision-making. You’ll also learn the main components of discrete-event models and how to interpret model outputs. Finally, you’ll build your first “queue” discrete-event model.\n",
    "\n",
    "<a href=\"https://1drv.ms/b/s!AiogHeTeve1hjvlVYk0rOcDepTf7Nw?e=4aHjMU\" target=\"_blank\">Chapter 1 - slides</a>"
   ]
  },
  {
   "cell_type": "markdown",
   "metadata": {},
   "source": [
    "## Dynamic Systems and Discrete-Event Simulation Models\n",
    "\n",
    "- [DataCamp - Dynamic systems and discrete-event models](https://campus.datacamp.com/courses/discrete-event-simulation-in-python/introduction-to-dynamic-systems-and-discrete-event-simulation-models?ex=1)\n",
    "- [OneDrive - Dynamic systems and discrete-event models](https://1drv.ms/v/s!AiogHeTeve1hjvk98DtRdCUjeG81jg?e=iEbxYE)\n",
    "\n",
    "<iframe src=\"https://onedrive.live.com/embed?resid=61EDBDDEE41D202A%21244925&authkey=!AHvOme-oBHw8eIc\" width=\"630\" height=\"480\" frameborder=\"0\" scrolling=\"no\" allowfullscreen autoplay=0></iframe>\n"
   ]
  },
  {
   "cell_type": "markdown",
   "metadata": {},
   "source": [
    "## Mathematical models of dynamic systems\n",
    "\n",
    "- [DataCamp - Mathematical models of dynamic systems](https://campus.datacamp.com/courses/discrete-event-simulation-in-python/introduction-to-dynamic-systems-and-discrete-event-simulation-models?ex=5)\n",
    "- [OneDrive - Mathematical models of dynamic systems](https://1drv.ms/v/s!AiogHeTeve1hjvk-SeimQqfQCiqpIA?e=zO5R56)\n",
    "\n",
    "<iframe src=\"https://onedrive.live.com/embed?resid=61EDBDDEE41D202A%21244926&authkey=!ANhWYoHwQcBgScE\" width=\"630\" height=\"480\" frameborder=\"0\" scrolling=\"no\" allowfullscreen autoplay=0></iframe>\n",
    "\n"
   ]
  },
  {
   "cell_type": "markdown",
   "metadata": {},
   "source": [
    "## Introduction to discrete-event simulations\n",
    "\n",
    "- [DataCamp - Introduction to discrete-event simulations](https://campus.datacamp.com/courses/discrete-event-simulation-in-python/introduction-to-dynamic-systems-and-discrete-event-simulation-models?ex=8)\n",
    "- [OneDrive - Introduction to discrete-event simulations ](https://1drv.ms/v/s!AiogHeTeve1hjvlAFH-dHwckr99RKQ?e=sDdZ52)\n",
    "\n",
    "<iframe src=\"https://onedrive.live.com/embed?resid=61EDBDDEE41D202A%21244928&authkey=!AP9AkhbV6f7joEo\" width=\"640\" height=\"480\" frameborder=\"0\" scrolling=\"no\" allowfullscreen autoplay=0></iframe>"
   ]
  },
  {
   "cell_type": "markdown",
   "metadata": {},
   "source": [
    "# Developing Discrete-Event Models Using SimPy\n",
    "\n",
    "Discover the power of the SimPy package to streamline your discrete-event simulations. In chapter 2, you’ll learn how to build a SimPy model environment and how to add processes and resources. You’ll also learn the different types of resources available, as well as options to control and schedule events. To finish this chapter, you’ll build a complete SimPy model for an aircraft assembly line.\n",
    "\n",
    "<a href=\"https://1drv.ms/b/s!AiogHeTeve1hjvk8IdGFEuDE5pHx_g?e=r3DTo8\" target=\"_blank\">Chapter 2 - slides</a>"
   ]
  },
  {
   "cell_type": "markdown",
   "metadata": {},
   "source": [
    "[Introduction to the SimPy package](https://1drv.ms/v/s!AiogHeTeve1hjvk7Hr51lILDnHZcqQ?e=ktDmvL)\n",
    "\n",
    "<iframe src=\"https://onedrive.live.com/embed?resid=61EDBDDEE41D202A%21244923&authkey=!ADMQYXfcXcYO9f8\" width=\"640\" height=\"480\" frameborder=\"0\" scrolling=\"no\" allowfullscreen autoplay=0></iframe>"
   ]
  },
  {
   "cell_type": "markdown",
   "metadata": {},
   "source": [
    "## SimPy package: Types of resources\n",
    "\n",
    "[SimPy package: Types of resources](https://1drv.ms/v/s!AiogHeTeve1hjvlTMAk7eZI7lCJ1GA?e=d8MpN2)\n",
    "\n",
    "<iframe src=\"https://onedrive.live.com/embed?resid=61EDBDDEE41D202A%21244947&authkey=!AE48DPiX12UmOOM\" width=\"640\" height=\"480\" frameborder=\"0\" scrolling=\"no\" allowfullscreen autoplay=0></iframe>"
   ]
  },
  {
   "cell_type": "markdown",
   "metadata": {},
   "source": [
    "## SimPy Package: Managing the scheduling of events\n",
    "\n",
    "[SimPy Package: Managing the scheduling of events](https://1drv.ms/v/s!AiogHeTeve1hjvlS5VWF_5dqyB1pVA?e=px69en)\n",
    "\n",
    "<iframe src=\"https://onedrive.live.com/embed?resid=61EDBDDEE41D202A%21244946&authkey=!ALe-MyooZqPHoFc\" width=\"640\" height=\"480\" frameborder=\"0\" scrolling=\"no\" allowfullscreen autoplay=0></iframe>"
   ]
  },
  {
   "cell_type": "markdown",
   "metadata": {},
   "source": [
    "## Building a discrete-event model with SimPy\n",
    "\n",
    "[Building a discrete-event model with SimPy](https://1drv.ms/v/s!AiogHeTeve1hjvlUTkf2vgvp0sq5NA?e=ZBIIcQ)\n",
    "\n",
    "<iframe src=\"https://onedrive.live.com/embed?resid=61EDBDDEE41D202A%21244948&authkey=!AGT96VtJxhjpVCw\" width=\"640\" height=\"480\" frameborder=\"0\" scrolling=\"no\" allowfullscreen autoplay=0></iframe>"
   ]
  },
  {
   "cell_type": "markdown",
   "metadata": {},
   "source": [
    "# Mixing Determinism and Non-Determinism in Models\n",
    "\n",
    "Explore the types of processes that you can add to discrete-event models. You’ll learn to distinguish between deterministic and non-deterministic processes and how to represent them in models. You’ll also learn how to randomize events (or processes), which is critical to simulate non-deterministic events. Finally, you’ll build a SimPy model combining both deterministic and non-deterministic processes.\n",
    "\n",
    "<a href=\"https://1drv.ms/b/s!AiogHeTeve1hjvlWdSek5KE37wYbVw?e=EnpJ43\" target=\"_blank\">Chapter 3 - slides</a>"
   ]
  },
  {
   "cell_type": "markdown",
   "metadata": {},
   "source": [
    "## Deterministic events and processes\n",
    "\n",
    "[Deterministic events and processes](https://1drv.ms/v/s!AiogHeTeve1hjvlOeV77DE9ZyEmDgg?e=5jUdZG)\n",
    "\n",
    "<iframe src=\"https://onedrive.live.com/embed?resid=61EDBDDEE41D202A%21244942&authkey=!ADOyVsIEBTROr_w\" width=\"640\" height=\"480\" frameborder=\"0\" scrolling=\"no\" allowfullscreen autoplay=0></iframe>"
   ]
  },
  {
   "cell_type": "markdown",
   "metadata": {},
   "source": [
    "## Non-deterministic events and processes\n",
    "\n",
    "[Non-deterministic events and processes](https://1drv.ms/v/s!AiogHeTeve1hjvlPuq_cPheTMqTvzg?e=Y0ztZa)\n",
    "\n",
    "<iframe src=\"https://onedrive.live.com/embed?resid=61EDBDDEE41D202A%21244943&authkey=!AK-8AgGyqYpZZWE\" width=\"640\" height=\"480\" frameborder=\"0\" scrolling=\"no\" allowfullscreen autoplay=0></iframe>"
   ]
  },
  {
   "cell_type": "markdown",
   "metadata": {},
   "source": [
    "## Pseudo-randomizing events and methods\n",
    "\n",
    "[Pseudo-randomizing events and methods](https://1drv.ms/v/s!AiogHeTeve1hjvlQ3yq8kLvdlfRuQA?e=1WBKqy)\n",
    "\n",
    "<iframe src=\"https://onedrive.live.com/embed?resid=61EDBDDEE41D202A%21244944&authkey=!AAg163RZaQpPYA4\" width=\"640\" height=\"480\" frameborder=\"0\" scrolling=\"no\" allowfullscreen autplay=0></iframe>"
   ]
  },
  {
   "cell_type": "markdown",
   "metadata": {},
   "source": [
    "## Combining deterministic and non-deterministic processes\n",
    "\n",
    "[Combining deterministic and non-deterministic processes](https://1drv.ms/v/s!AiogHeTeve1hjvlRlXr6czj48AF2FQ?e=buhMBq)\n",
    "\n",
    "<iframe src=\"https://onedrive.live.com/embed?resid=61EDBDDEE41D202A%21244945&authkey=!AJy6EYoWIt3J0pk\" width=\"640\" height=\"480\" frameborder=\"0\" scrolling=\"no\" allowfullscreen autoplay=0></iframe>"
   ]
  },
  {
   "cell_type": "markdown",
   "metadata": {},
   "source": [
    "# Model Application, Clustering, Optimization, and Modularity\n",
    "\n",
    "You’ll learn optimization methods to maximize the impact of your discrete-event models. You’ll learn how to perform simulation ensembles using Monte Carlo approaches and discover how to identify clusters in your model results to help you understand its behavior and identify critical processes and tipping points. You’ll also use objective functions to set targets for your model optimization efforts. To end this course, you’ll explore how to make your model scalable so that it can grow stable and in a controlled manner.\n",
    "\n",
    "<a href=\"https://1drv.ms/b/s!AiogHeTeve1hjvlXoX6FDtInZ2XcFw?e=zsAiJd\" target=\"_blank\">Chapter 4 - slides</a>"
   ]
  },
  {
   "cell_type": "markdown",
   "metadata": {},
   "source": [
    "## Simulation ensembles: Monte-Carlo sampling\n",
    "\n",
    "[Simulation ensembles: Monte-Carlo sampling](https://1drv.ms/v/s!AiogHeTeve1hjvlJtqSK18TCDwQuag?e=WWWYIA)\n",
    "\n",
    "<iframe src=\"https://onedrive.live.com/embed?resid=61EDBDDEE41D202A%21244937&authkey=!AGsYBWwLW0SWpM0\" width=\"640\" height=\"480\" frameborder=\"0\" scrolling=\"no\" allowfullscreen autoplay=0></iframe>"
   ]
  },
  {
   "cell_type": "markdown",
   "metadata": {},
   "source": [
    "## Clustering and cluster models\n",
    "\n",
    "[Clustering and cluster models](https://1drv.ms/v/s!AiogHeTeve1hjvlKZHQ_vZkYb_yz6g?e=0HIZk7)\n",
    "\n",
    "<iframe src=\"https://onedrive.live.com/embed?resid=61EDBDDEE41D202A%21244938&authkey=!AO1h4Ym1_TkRGP8\" width=\"640\" height=\"480\" frameborder=\"0\" scrolling=\"no\" allowfullscreen autoplay=0></iframe>"
   ]
  },
  {
   "cell_type": "markdown",
   "metadata": {},
   "source": [
    "## Objective functions and system optimization\n",
    "\n",
    "[Objective functions and system optimization](https://1drv.ms/v/s!AiogHeTeve1hjvlLG_jvkAAJruWY7Q?e=wHUt55)\n",
    "\n",
    "<iframe src=\"https://onedrive.live.com/embed?resid=61EDBDDEE41D202A%21244939&authkey=!AA6d3aqh_UJzUQQ\" width=\"640\" height=\"480\" frameborder=\"0\" scrolling=\"no\" allowfullscreen autoplay=0></iframe>"
   ]
  },
  {
   "cell_type": "markdown",
   "metadata": {},
   "source": [
    "## Model modularity to optimize continuous development\n",
    "\n",
    "[Model modularity to optimize continuous development](https://1drv.ms/v/s!AiogHeTeve1hjvlMi75PWYxBaX2_Ug?e=ZuTq5t)\n",
    "\n",
    "<iframe src=\"https://onedrive.live.com/embed?resid=61EDBDDEE41D202A%21244940&authkey=!AFUcdI2MbrIzVAE\" width=\"640\" height=\"480\" frameborder=\"0\" scrolling=\"no\" allowfullscreen autoplay=0></iframe>\n"
   ]
  },
  {
   "cell_type": "markdown",
   "metadata": {},
   "source": [
    "## Congratulations!\n",
    "\n",
    "[Congratulations!](https://1drv.ms/v/s!AiogHeTeve1hjvlNdUXSyuDFg7T6iw?e=cFrUB4)\n",
    "\n",
    "<iframe src=\"https://onedrive.live.com/embed?resid=61EDBDDEE41D202A%21244941&authkey=!ALeFM1JylYxzqOc\" width=\"640\" height=\"480\" frameborder=\"0\" scrolling=\"no\" allowfullscreen autoplay=0></iframe>"
   ]
  }
 ],
 "metadata": {
  "kernelspec": {
   "display_name": "simpy_course",
   "language": "python",
   "name": "python3"
  },
  "language_info": {
   "codemirror_mode": {
    "name": "ipython",
    "version": 3
   },
   "file_extension": ".py",
   "mimetype": "text/x-python",
   "name": "python",
   "nbconvert_exporter": "python",
   "pygments_lexer": "ipython3",
   "version": "3.9.7"
  }
 },
 "nbformat": 4,
 "nbformat_minor": 2
}
