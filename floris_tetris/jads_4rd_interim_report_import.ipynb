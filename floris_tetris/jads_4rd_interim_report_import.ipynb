{
 "cells": [
  {
   "cell_type": "markdown",
   "metadata": {},
   "source": [
    "- https://www.salabim.org/manual/\n",
    "- https://ev.caltech.edu/info\n",
    "\n",
    "\n",
    "<img src=\"./images/Enexis_JADS.png\" alt=\"Enexis JADS\" style=\"width:12%; float:right\">\n",
    "\n",
    "# EVSE charging facility\n"
   ]
  },
  {
   "cell_type": "markdown",
   "metadata": {},
   "source": [
    "### Parameters: User Input"
   ]
  },
  {
   "cell_type": "code",
   "execution_count": 1,
   "metadata": {},
   "outputs": [],
   "source": [
    "# Import salabim as sim\n",
    "import salabim as sim\n",
    "\n",
    "# arrival rate of EVs and energy requirement rate\n",
    "ev_arrival_rate = 40  # EV per hour\n",
    "energy_req_rate = 50  # KW per hour\n",
    "\n",
    "# SetUp Charing Infrastructure\n",
    "sim_evse = range(1, 3)\n",
    "\n",
    "# Simulation distributions  \n",
    "# M/M/c\n",
    "# inter_arr_time_distr = sim.Exponential(60 / ev_arrival_rate)  # minutes between EV's\n",
    "# energy_request_distr = sim.Exponential(60 / energy_req_rate)  # minutes to charge EV\n",
    "\n",
    "# D/D/c\n",
    "# inter_arr_time_distr = sim.Uniform(60/ev_arrival_rate, 60/ev_arrival_rate)  # fixed 1.5 minutes between EV's\n",
    "# energy_request_distr = sim.Uniform(60/energy_req_rate, 60/energy_req_rate)  # fixed 1.2 minutes to charge EV\n",
    "\n",
    "# M/M/c\n",
    "inter_arr_time_distr = sim.Gamma(shape = 1, scale= 60/ev_arrival_rate)  # minutes between EV's\n",
    "energy_request_distr = sim.Gamma(shape = 1, scale= 60/energy_req_rate)  # minutes to charge EV\n",
    "\n",
    "# Simulation time and repetitions\n",
    "sim_time = 5000  # minutes\n",
    "sim_reps = 5  # repetitions\n"
   ]
  },
  {
   "cell_type": "code",
   "execution_count": 2,
   "metadata": {},
   "outputs": [
    {
     "name": "stdout",
     "output_type": "stream",
     "text": [
      "results will be saved here: ./sim_results/R4_EVSE_1-2_time_5000_reps_5.csv\n",
      "Charging Infrastructure #EVSE's: [1, 2]\n"
     ]
    }
   ],
   "source": [
    "# Custom function for enexis simulation\n",
    "from sim_setup import *\n",
    "\n",
    "# Create results full file name\n",
    "ffn_results = create_ffn_results(\n",
    "    report_no=4, sim_evse=sim_evse, sim_time=sim_time, sim_reps=sim_reps\n",
    ")\n",
    "\n",
    "# User feedback\n",
    "print(f\"results will be saved here: {ffn_results}\")\n",
    "print(f\"Charging Infrastructure #EVSE's: {list(sim_evse)}\")"
   ]
  },
  {
   "cell_type": "markdown",
   "metadata": {},
   "source": [
    "## Run Simulation"
   ]
  },
  {
   "cell_type": "code",
   "execution_count": 3,
   "metadata": {},
   "outputs": [
    {
     "name": "stdout",
     "output_type": "stream",
     "text": [
      "EVSE's 1, run 0 completed at 2023-12-07 10:42:04.685850\n",
      "EVSE's 1, run 1 completed at 2023-12-07 10:42:05.318887\n",
      "EVSE's 1, run 2 completed at 2023-12-07 10:42:06.505192\n",
      "EVSE's 1, run 3 completed at 2023-12-07 10:42:07.160615\n",
      "EVSE's 1, run 4 completed at 2023-12-07 10:42:07.729223\n",
      "EVSE's 2, run 0 completed at 2023-12-07 10:42:09.167421\n",
      "EVSE's 2, run 1 completed at 2023-12-07 10:42:10.601373\n",
      "EVSE's 2, run 2 completed at 2023-12-07 10:42:11.625078\n",
      "EVSE's 2, run 3 completed at 2023-12-07 10:42:12.598331\n",
      "EVSE's 2, run 4 completed at 2023-12-07 10:42:13.671165\n",
      "\n",
      "The simulation took 0.16273419459660848 minutes to execute.\n",
      "\n",
      "   run  lambda    mu  c        RO  P0        Lq        Wq        Ls        Ws\n",
      "0    0    40.0  50.0  1  0.794071   0  2.665946  4.051829  3.460017  5.259799\n",
      "1    1    40.0  50.0  1  0.800033   0  3.000383  4.524431  3.800416  5.731140\n",
      "2    2    40.0  50.0  1  0.803933   0  3.185238  4.776559  3.989172  5.982726\n",
      "3    3    40.0  50.0  1  0.803315   0  3.115794  4.591096  3.919109  5.775772\n",
      "4    4    40.0  50.0  1  0.816071   0  3.585067  5.360448  4.401138  6.580649\n",
      "5    0    80.0  50.0  2  0.807817   0  2.582538  1.914977  4.198172  3.113195\n",
      "6    1    80.0  50.0  2  0.818243   0  3.017623  2.228900  4.654109  3.438508\n",
      "7    2    80.0  50.0  2  0.810377   0  2.613778  1.931421  4.234532  3.129599\n",
      "8    3    80.0  50.0  2  0.796660   0  2.355719  1.778662  3.949039  2.982020\n",
      "9    4    80.0  50.0  2  0.805938   0  2.563360  1.920120  4.175235  3.127517\n"
     ]
    }
   ],
   "source": [
    "# %%script false --no-raise-error\n",
    "# comment out the line above to run the simulation CTRL + /\n",
    "\n",
    "# Start the timer\n",
    "start_time = tm.time()\n",
    "\n",
    "sim_results = simulate_facility(\n",
    "    inter_arr_time_distr=inter_arr_time_distr,  # EV per hour\n",
    "    energy_request_distr=energy_request_distr,  # KW per hour\n",
    "    range_of_EVSE=sim_evse,  # range of EVSE's\n",
    "    sim_time=sim_time,  # minutes\n",
    "    fixed_utilization=True,\n",
    "    number_of_simulations=sim_reps,  # number of simulations\n",
    "    ffn_results=ffn_results,  # set to None if you don't want to save the results\n",
    "    verbose=True,  # set to True to see the progress of the simulation\n",
    ")\n",
    "\n",
    "# End the timer\n",
    "end_time = tm.time()\n",
    "\n",
    "# Calculate and print the execution time\n",
    "execution_time = (end_time - start_time)/60\n",
    "print(f\"\\nThe simulation took {execution_time} minutes to execute.\\n\")\n",
    "\n",
    "# print the results\n",
    "print(sim_results)"
   ]
  },
  {
   "cell_type": "markdown",
   "metadata": {},
   "source": [
    "<img src=\"./images/ev_shuffle.gif\" alt=\"Enexis JADS\" style=\"width:100%; float:Center\">"
   ]
  },
  {
   "cell_type": "markdown",
   "metadata": {},
   "source": [
    "### Analysis\n",
    "\n",
    "For each performance indicator we will determine the mean and a confidence interval"
   ]
  },
  {
   "cell_type": "code",
   "execution_count": 4,
   "metadata": {},
   "outputs": [
    {
     "name": "stdout",
     "output_type": "stream",
     "text": [
      "\n",
      "Simulation Details:\n",
      "\n",
      "    c    name   mean   lbnd   ubnd  stdv  tdst  runs\n",
      "0   1  lambda  40.00  40.00  40.00  0.00  2.78     5\n",
      "1   2  lambda  80.00  80.00  80.00  0.00  2.78     5\n",
      "2   1      mu  50.00  50.00  50.00  0.00  2.78     5\n",
      "3   2      mu  50.00  50.00  50.00  0.00  2.78     5\n",
      "4   1      RO   0.80   0.79   0.81  0.01  2.78     5\n",
      "5   2      RO   0.81   0.80   0.82  0.01  2.78     5\n",
      "6   1      P0   0.00   0.00   0.00  0.00  2.78     5\n",
      "7   2      P0   0.00   0.00   0.00  0.00  2.78     5\n",
      "8   1      Lq   3.11   2.70   3.52  0.33  2.78     5\n",
      "9   2      Lq   2.63   2.33   2.93  0.24  2.78     5\n",
      "10  1      Wq   4.66   4.07   5.25  0.47  2.78     5\n",
      "11  2      Wq   1.95   1.75   2.16  0.17  2.78     5\n",
      "12  1      Ls   3.91   3.49   4.34  0.34  2.78     5\n",
      "13  2      Ls   4.24   3.92   4.56  0.26  2.78     5\n",
      "14  1      Ws   5.87   5.27   6.46  0.48  2.78     5\n",
      "15  2      Ws   3.16   2.95   3.37  0.17  2.78     5\n",
      "\n",
      "Simulation Summary:\n",
      "\n",
      " c  lambda   mu   RO  P0   Lq   Wq   Ls   Ws  runs\n",
      " 1    40.0 50.0 0.80 0.0 3.11 4.66 3.91 5.87     5\n",
      " 2    80.0 50.0 0.81 0.0 2.63 1.95 4.24 3.16     5\n"
     ]
    }
   ],
   "source": [
    "# potentially read df_total from disk csv\n",
    "# sim_results = pd.read_csv(ffn_results, sep=\";\", decimal=\".\", index_col=False)\n",
    "\n",
    "print(\"\\nSimulation Details:\\n\")\n",
    "print(get_mean_with_ci(sim_results))\n",
    "\n",
    "print(\"\\nSimulation Summary:\\n\")\n",
    "facility_results = get_sim_summary(sim_results, output=True)"
   ]
  },
  {
   "cell_type": "markdown",
   "metadata": {},
   "source": [
    "#### under development"
   ]
  },
  {
   "cell_type": "code",
   "execution_count": null,
   "metadata": {},
   "outputs": [],
   "source": [
    "# # import matplotlib.pyplot as plt\n",
    "\n",
    "# # plt.plot(*waitingline.length.tx(), linewidth=1, color=\"red\")\n",
    "# # plt.show()\n",
    "\n",
    "# # Print server statistics\n",
    "# I = monEVSE_IDLE.mean()\n",
    "# P = monEVSE_PROC.mean()\n",
    "# R = (P * monEVSE_PROC.number_of_entries()) / (\n",
    "#     (I * monEVSE_IDLE.number_of_entries()) + (P * monEVSE_PROC.number_of_entries())\n",
    "# )\n",
    "\n",
    "# print(f\"IDLE: {I}, PROC: {P}, UTIL: {R}\")\n",
    "\n",
    "# def prtEVSE(evse):\n",
    "#     print(\n",
    "#         f\"name: {evse.proc.name()}, seq: {evse.proc.sequence_number()}, mean: {evse.proc.mean()}\"\n",
    "#     )\n",
    "\n",
    "\n",
    "# [prtEVSE(x) in ChargingStations for x in ChargingStations]\n",
    "\n",
    "# print(f\"Total: {sum(x.proc for x in ChargingStations).mean()}\")\n",
    "# ChargingStations[0].status.print_histogram(values=True)\n",
    "# ChargingStations[0].mode.print_histogram(values=True)"
   ]
  },
  {
   "cell_type": "markdown",
   "metadata": {},
   "source": [
    "# System SetUp"
   ]
  },
  {
   "cell_type": "code",
   "execution_count": null,
   "metadata": {},
   "outputs": [],
   "source": [
    "import sys\n",
    "import platform\n",
    "from importlib_metadata import version\n",
    "\n",
    "print(f\"python implementation: {platform.python_implementation()}\")\n",
    "print(f\"python version: {sys.version}\")\n",
    "print(f\"salabim: {version('salabim')}\")"
   ]
  }
 ],
 "metadata": {
  "kernelspec": {
   "display_name": "env_sim",
   "language": "python",
   "name": "python3"
  },
  "language_info": {
   "codemirror_mode": {
    "name": "ipython",
    "version": 3
   },
   "file_extension": ".py",
   "mimetype": "text/x-python",
   "name": "python",
   "nbconvert_exporter": "python",
   "pygments_lexer": "ipython3",
   "version": "3.9.18"
  }
 },
 "nbformat": 4,
 "nbformat_minor": 2
}
