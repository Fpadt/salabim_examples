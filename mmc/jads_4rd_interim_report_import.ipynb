{
 "cells": [
  {
   "cell_type": "markdown",
   "metadata": {},
   "source": [
    "- https://www.salabim.org/manual/\n",
    "- https://ev.caltech.edu/info\n",
    "\n",
    "\n",
    "<img src=\"./images/Enexis_JADS.png\" alt=\"Enexis JADS\" style=\"width:12%; float:right\">\n",
    "\n",
    "# EVSE charging facility\n"
   ]
  },
  {
   "cell_type": "markdown",
   "metadata": {},
   "source": [
    "### Parameters: User Input"
   ]
  },
  {
   "cell_type": "code",
   "execution_count": 9,
   "metadata": {},
   "outputs": [],
   "source": [
    "# arrival rate of EVs and energy requirement rate\n",
    "ev_arrival_rate = 40  # EV per hour\n",
    "energy_req_rate = 50  # KW per hour\n",
    "\n",
    "# Create a list with EVSE's\n",
    "sim_evse = range(1, 5)\n",
    "sim_time = 1000  # minutes\n",
    "sim_reps = 4  # repetitions\n"
   ]
  },
  {
   "cell_type": "markdown",
   "metadata": {},
   "source": [
    "### Python setup"
   ]
  },
  {
   "cell_type": "code",
   "execution_count": 10,
   "metadata": {},
   "outputs": [
    {
     "name": "stdout",
     "output_type": "stream",
     "text": [
      "results will be saved here: ./sim_results/R4_EVSE_1-4_time_1000_reps_4.csv\n",
      "Charging Infrastructure #EVSE's: [1, 2, 3, 4]\n"
     ]
    }
   ],
   "source": [
    "# Custom function for enexis simulation\n",
    "from sim_setup import *\n",
    "\n",
    "# Create results full file name\n",
    "ffn_results = create_ffn_results(\n",
    "    report_no=4, sim_evse=sim_evse, sim_time=sim_time, sim_reps=sim_reps\n",
    ")\n",
    "\n",
    "# User feedback\n",
    "print(f\"results will be saved here: {ffn_results}\")\n",
    "print(f\"Charging Infrastructure #EVSE's: {list(sim_evse)}\")"
   ]
  },
  {
   "cell_type": "markdown",
   "metadata": {},
   "source": [
    "<img src=\"./images/ev_shuffle.gif\" alt=\"Enexis JADS\" style=\"width:100%; float:Center\">\n",
    "\n",
    "## Run Simulation\n",
    "\n"
   ]
  },
  {
   "cell_type": "code",
   "execution_count": 11,
   "metadata": {},
   "outputs": [
    {
     "name": "stdout",
     "output_type": "stream",
     "text": [
      "EVSE's 1, run 0 completed at 2023-12-05 16:37:49.119058\n",
      "EVSE's 1, run 1 completed at 2023-12-05 16:37:49.364580\n",
      "EVSE's 1, run 2 completed at 2023-12-05 16:37:49.618122\n",
      "EVSE's 1, run 3 completed at 2023-12-05 16:37:49.804068\n",
      "EVSE's 2, run 0 completed at 2023-12-05 16:37:50.136364\n",
      "EVSE's 2, run 1 completed at 2023-12-05 16:37:50.465716\n",
      "EVSE's 2, run 2 completed at 2023-12-05 16:37:50.734229\n",
      "EVSE's 2, run 3 completed at 2023-12-05 16:37:51.016062\n",
      "EVSE's 3, run 0 completed at 2023-12-05 16:37:51.391616\n",
      "EVSE's 3, run 1 completed at 2023-12-05 16:37:51.864904\n",
      "EVSE's 3, run 2 completed at 2023-12-05 16:37:52.470923\n",
      "EVSE's 3, run 3 completed at 2023-12-05 16:37:53.141560\n",
      "EVSE's 4, run 0 completed at 2023-12-05 16:37:53.851162\n",
      "EVSE's 4, run 1 completed at 2023-12-05 16:37:54.777624\n",
      "EVSE's 4, run 2 completed at 2023-12-05 16:37:55.629638\n",
      "EVSE's 4, run 3 completed at 2023-12-05 16:37:56.238066\n",
      "\n",
      "The simulation took 0.12458043098449707 minutes to execute.\n",
      "\n",
      "    run  lambda  mu  c        RO  P0        Lq        Wq        Ls        Ws\n",
      "0     0      40  50  1  0.756944   0  1.814108  2.782375  2.571053  3.946261\n",
      "1     1      40  50  1  0.829513   0  2.633285  3.930141  3.462798  5.170366\n",
      "2     2      40  50  1  0.755886   0  2.845467  4.446042  3.601353  5.627113\n",
      "3     3      40  50  1  0.794922   0  3.017515  4.490350  3.812437  5.673568\n",
      "4     0      80  50  2  0.848984   0  2.927581  2.135665  4.625549  3.388046\n",
      "5     1      80  50  2  0.835056   0  3.222993  2.366368  4.893106  3.593303\n",
      "6     2      80  50  2  0.804349   0  2.799154  2.100403  4.407852  3.309718\n",
      "7     3      80  50  2  0.802578   0  2.682966  2.008208  4.288122  3.212302\n",
      "8     0     120  50  3  0.762141   0  2.170481  1.132228  4.456903  2.325847\n",
      "9     1     120  50  3  0.839697   0  4.440272  2.186249  6.959363  3.427575\n",
      "10    2     120  50  3  0.771519   0  1.666884  0.836141  3.981440  2.015471\n",
      "11    3     120  50  3  0.804967   0  2.020149  0.998223  4.435049  2.193698\n",
      "12    0     160  50  4  0.782547   0  2.032103  0.779180  5.162292  1.980540\n",
      "13    1     160  50  4  0.825196   0  3.458038  1.284561  6.758821  2.513603\n",
      "14    2     160  50  4  0.780622   0  2.130158  0.799837  5.252644  1.980429\n",
      "15    3     160  50  4  0.823254   0  2.237164  0.817251  5.530179  2.022754\n"
     ]
    }
   ],
   "source": [
    "%%script false --no-raise-error\n",
    "# comment out the line above to run the simulation CTRL + /\n",
    "\n",
    "# Start the timer\n",
    "start_time = tm.time()\n",
    "\n",
    "sim_results = simulate_facility(\n",
    "    ev_arrival_rate=ev_arrival_rate,  # EV per hour\n",
    "    energy_req_rate=energy_req_rate,  # KW per hour\n",
    "    range_of_EVSE=sim_evse,  # range of EVSE's\n",
    "    sim_time=sim_time,  # minutes\n",
    "    number_of_simulations=sim_reps,  # number of simulations\n",
    "    ffn_results=ffn_results,  # set to None if you don't want to save the results\n",
    "    verbose=True,  # set to True to see the progress of the simulation\n",
    ")\n",
    "\n",
    "# End the timer\n",
    "end_time = tm.time()\n",
    "\n",
    "# Calculate and print the execution time\n",
    "execution_time = (end_time - start_time)/60\n",
    "print(f\"\\nThe simulation took {execution_time} minutes to execute.\\n\")\n",
    "\n",
    "# print the results\n",
    "print(sim_results)"
   ]
  },
  {
   "cell_type": "markdown",
   "metadata": {},
   "source": [
    "### Analysis\n",
    "\n",
    "For each performance indicator we will determine the mean and a confidence interval"
   ]
  },
  {
   "cell_type": "code",
   "execution_count": 12,
   "metadata": {},
   "outputs": [
    {
     "name": "stdout",
     "output_type": "stream",
     "text": [
      "\n",
      "Simulation Details:\n",
      "\n",
      "    c    name    mean    lbnd    ubnd  stdv  tdst  runs\n",
      "0   1  lambda   40.00   40.00   40.00  0.00  3.18     4\n",
      "1   2  lambda   80.00   80.00   80.00  0.00  3.18     4\n",
      "2   3  lambda  120.00  120.00  120.00  0.00  3.18     4\n",
      "3   4  lambda  160.00  160.00  160.00  0.00  3.18     4\n",
      "4   1      mu   50.00   50.00   50.00  0.00  3.18     4\n",
      "5   2      mu   50.00   50.00   50.00  0.00  3.18     4\n",
      "6   3      mu   50.00   50.00   50.00  0.00  3.18     4\n",
      "7   4      mu   50.00   50.00   50.00  0.00  3.18     4\n",
      "8   1      RO    0.78    0.73    0.84  0.04  3.18     4\n",
      "9   2      RO    0.82    0.79    0.86  0.02  3.18     4\n",
      "10  3      RO    0.79    0.74    0.85  0.04  3.18     4\n",
      "11  4      RO    0.80    0.76    0.84  0.02  3.18     4\n",
      "12  1      P0    0.00    0.00    0.00  0.00  3.18     4\n",
      "13  2      P0    0.00    0.00    0.00  0.00  3.18     4\n",
      "14  3      P0    0.00    0.00    0.00  0.00  3.18     4\n",
      "15  4      P0    0.00    0.00    0.00  0.00  3.18     4\n",
      "16  1      Lq    2.58    1.73    3.43  0.53  3.18     4\n",
      "17  2      Lq    2.91    2.54    3.28  0.23  3.18     4\n",
      "18  3      Lq    2.57    0.57    4.58  1.26  3.18     4\n",
      "19  4      Lq    2.46    1.40    3.53  0.67  3.18     4\n",
      "20  1      Wq    3.91    2.65    5.18  0.79  3.18     4\n",
      "21  2      Wq    2.15    1.91    2.39  0.15  3.18     4\n",
      "22  3      Wq    1.29    0.32    2.26  0.61  3.18     4\n",
      "23  4      Wq    0.92    0.53    1.31  0.24  3.18     4\n",
      "24  1      Ls    3.36    2.49    4.23  0.55  3.18     4\n",
      "25  2      Ls    4.55    4.13    4.98  0.27  3.18     4\n",
      "26  3      Ls    4.96    2.81    7.11  1.35  3.18     4\n",
      "27  4      Ls    5.68    4.50    6.85  0.74  3.18     4\n",
      "28  1      Ws    5.10    3.82    6.38  0.80  3.18     4\n",
      "29  2      Ws    3.38    3.12    3.63  0.16  3.18     4\n",
      "30  3      Ws    2.49    1.48    3.50  0.64  3.18     4\n",
      "31  4      Ws    2.12    1.71    2.54  0.26  3.18     4\n",
      "\n",
      "Simulation Summary:\n",
      "\n",
      " c  lambda   mu   RO  P0   Lq   Wq   Ls   Ws  runs\n",
      " 1    40.0 50.0 0.78 0.0 2.58 3.91 3.36 5.10     4\n",
      " 2    80.0 50.0 0.82 0.0 2.91 2.15 4.55 3.38     4\n",
      " 3   120.0 50.0 0.79 0.0 2.57 1.29 4.96 2.49     4\n",
      " 4   160.0 50.0 0.80 0.0 2.46 0.92 5.68 2.12     4\n"
     ]
    }
   ],
   "source": [
    "# potentially read df_total from disk csv\n",
    "# sim_results = pd.read_csv(ffn_results, sep=\";\", decimal=\".\", index_col=False)\n",
    "\n",
    "print(\"\\nSimulation Details:\\n\")\n",
    "print(get_mean_with_ci(sim_results))\n",
    "\n",
    "print(\"\\nSimulation Summary:\\n\")\n",
    "facility_results = get_sim_summary(sim_results, output=True)"
   ]
  },
  {
   "cell_type": "markdown",
   "metadata": {},
   "source": [
    "#### under development"
   ]
  },
  {
   "cell_type": "code",
   "execution_count": null,
   "metadata": {},
   "outputs": [],
   "source": [
    "# # import matplotlib.pyplot as plt\n",
    "\n",
    "# # plt.plot(*waitingline.length.tx(), linewidth=1, color=\"red\")\n",
    "# # plt.show()\n",
    "\n",
    "# # Print server statistics\n",
    "# I = monEVSE_IDLE.mean()\n",
    "# P = monEVSE_PROC.mean()\n",
    "# R = (P * monEVSE_PROC.number_of_entries()) / (\n",
    "#     (I * monEVSE_IDLE.number_of_entries()) + (P * monEVSE_PROC.number_of_entries())\n",
    "# )\n",
    "\n",
    "# print(f\"IDLE: {I}, PROC: {P}, UTIL: {R}\")\n",
    "\n",
    "# def prtEVSE(evse):\n",
    "#     print(\n",
    "#         f\"name: {evse.proc.name()}, seq: {evse.proc.sequence_number()}, mean: {evse.proc.mean()}\"\n",
    "#     )\n",
    "\n",
    "\n",
    "# [prtEVSE(x) in ChargingStations for x in ChargingStations]\n",
    "\n",
    "# print(f\"Total: {sum(x.proc for x in ChargingStations).mean()}\")\n",
    "# ChargingStations[0].status.print_histogram(values=True)\n",
    "# ChargingStations[0].mode.print_histogram(values=True)"
   ]
  },
  {
   "cell_type": "markdown",
   "metadata": {},
   "source": [
    "# System SetUp"
   ]
  },
  {
   "cell_type": "code",
   "execution_count": null,
   "metadata": {},
   "outputs": [],
   "source": [
    "import sys\n",
    "import platform\n",
    "from importlib_metadata import version\n",
    "\n",
    "print(f\"python implementation: {platform.python_implementation()}\")\n",
    "print(f\"python version: {sys.version}\")\n",
    "print(f\"salabim: {version('salabim')}\")"
   ]
  }
 ],
 "metadata": {
  "kernelspec": {
   "display_name": "env_sim",
   "language": "python",
   "name": "python3"
  },
  "language_info": {
   "codemirror_mode": {
    "name": "ipython",
    "version": 3
   },
   "file_extension": ".py",
   "mimetype": "text/x-python",
   "name": "python",
   "nbconvert_exporter": "python",
   "pygments_lexer": "ipython3",
   "version": "3.9.18"
  }
 },
 "nbformat": 4,
 "nbformat_minor": 2
}
